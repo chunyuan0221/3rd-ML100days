{
  "nbformat": 4,
  "nbformat_minor": 0,
  "metadata": {
    "kernelspec": {
      "name": "python3",
      "display_name": "Python 3"
    },
    "language_info": {
      "codemirror_mode": {
        "name": "ipython",
        "version": 3
      },
      "file_extension": ".py",
      "mimetype": "text/x-python",
      "name": "python",
      "nbconvert_exporter": "python",
      "pygments_lexer": "ipython3",
      "version": "3.6.5"
    },
    "colab": {
      "name": "Day_088_callback_class_HW.ipynb",
      "provenance": [],
      "collapsed_sections": [],
      "include_colab_link": true
    },
    "accelerator": "GPU"
  },
  "cells": [
    {
      "cell_type": "markdown",
      "metadata": {
        "id": "view-in-github",
        "colab_type": "text"
      },
      "source": [
        "<a href=\"https://colab.research.google.com/github/chunyuan0221/3rd-ML100days/blob/master/Day_088_callback_class_HW.ipynb\" target=\"_parent\"><img src=\"https://colab.research.google.com/assets/colab-badge.svg\" alt=\"Open In Colab\"/></a>"
      ]
    },
    {
      "cell_type": "markdown",
      "metadata": {
        "id": "52cyBLOqKt-U",
        "colab_type": "text"
      },
      "source": [
        "## Work\n",
        "1. 請嘗試寫一個 callback 用來記錄各類別在訓練過程中，對驗證集的 True Positive 與 True Negative"
      ]
    },
    {
      "cell_type": "code",
      "metadata": {
        "id": "0kHOvpiUKt-Y",
        "colab_type": "code",
        "colab": {
          "base_uri": "https://localhost:8080/",
          "height": 81
        },
        "outputId": "8337935d-79e5-4620-f69d-54593b974b94"
      },
      "source": [
        "import os\n",
        "import keras\n",
        "import tensorflow as tf\n",
        "tf.compat.v1.logging.set_verbosity(tf.compat.v1.logging.ERROR)\n",
        "# Disable GPU\n",
        "#os.environ[\"CUDA_VISIBLE_DEVICES\"] = \"\""
      ],
      "execution_count": 1,
      "outputs": [
        {
          "output_type": "stream",
          "text": [
            "Using TensorFlow backend.\n"
          ],
          "name": "stderr"
        },
        {
          "output_type": "display_data",
          "data": {
            "text/html": [
              "<p style=\"color: red;\">\n",
              "The default version of TensorFlow in Colab will soon switch to TensorFlow 2.x.<br>\n",
              "We recommend you <a href=\"https://www.tensorflow.org/guide/migrate\" target=\"_blank\">upgrade</a> now \n",
              "or ensure your notebook will continue to use TensorFlow 1.x via the <code>%tensorflow_version 1.x</code> magic:\n",
              "<a href=\"https://colab.research.google.com/notebooks/tensorflow_version.ipynb\" target=\"_blank\">more info</a>.</p>\n"
            ],
            "text/plain": [
              "<IPython.core.display.HTML object>"
            ]
          },
          "metadata": {
            "tags": []
          }
        }
      ]
    },
    {
      "cell_type": "code",
      "metadata": {
        "id": "C7K-C9t3Kt-c",
        "colab_type": "code",
        "colab": {}
      },
      "source": [
        "train, test = keras.datasets.cifar10.load_data()"
      ],
      "execution_count": 0,
      "outputs": []
    },
    {
      "cell_type": "code",
      "metadata": {
        "id": "6VKMgT_kKt-f",
        "colab_type": "code",
        "colab": {}
      },
      "source": [
        "## 資料前處理\n",
        "def preproc_x(x, flatten=True):\n",
        "    x = x / 255.\n",
        "    if flatten:\n",
        "        x = x.reshape((len(x), -1))\n",
        "    return x\n",
        "\n",
        "def preproc_y(y, num_classes=10):\n",
        "    if y.shape[-1] == 1:\n",
        "        y = keras.utils.to_categorical(y, num_classes)\n",
        "    return y    "
      ],
      "execution_count": 0,
      "outputs": []
    },
    {
      "cell_type": "code",
      "metadata": {
        "id": "eGvTIjvcKt-i",
        "colab_type": "code",
        "colab": {}
      },
      "source": [
        "x_train, y_train = train\n",
        "x_test, y_test = test\n",
        "\n",
        "# Preproc the inputs\n",
        "x_train = preproc_x(x_train)\n",
        "x_test = preproc_x(x_test)\n",
        "\n",
        "# Preprc the outputs\n",
        "y_train = preproc_y(y_train)\n",
        "y_test = preproc_y(y_test)"
      ],
      "execution_count": 0,
      "outputs": []
    },
    {
      "cell_type": "code",
      "metadata": {
        "id": "I2I8SBY3Kt-m",
        "colab_type": "code",
        "colab": {}
      },
      "source": [
        "from keras.layers import BatchNormalization\n",
        "def build_mlp(input_shape, output_units=10, num_neurons=[512, 256, 128]):\n",
        "    input_layer = keras.layers.Input(input_shape)\n",
        "    \n",
        "    for i, n_units in enumerate(num_neurons):\n",
        "        if i == 0:\n",
        "            x = keras.layers.Dense(units=n_units, \n",
        "                                   activation=\"relu\", \n",
        "                                   name=\"hidden_layer\"+str(i+1))(input_layer)\n",
        "            x = BatchNormalization()(x)\n",
        "        else:\n",
        "            x = keras.layers.Dense(units=n_units, \n",
        "                                   activation=\"relu\", \n",
        "                                   name=\"hidden_layer\"+str(i+1))(x)\n",
        "            x = BatchNormalization()(x)\n",
        "    \n",
        "    out = keras.layers.Dense(units=output_units, activation=\"softmax\", name=\"output\")(x)\n",
        "    model = keras.models.Model(inputs=[input_layer], outputs=[out])\n",
        "    return model"
      ],
      "execution_count": 0,
      "outputs": []
    },
    {
      "cell_type": "code",
      "metadata": {
        "id": "iloyjWHEKt-p",
        "colab_type": "code",
        "colab": {}
      },
      "source": [
        "## 超參數設定\n",
        "LEARNING_RATE = 1e-3\n",
        "EPOCHS = 25\n",
        "BATCH_SIZE = 1024\n",
        "MOMENTUM = 0.95"
      ],
      "execution_count": 0,
      "outputs": []
    },
    {
      "cell_type": "code",
      "metadata": {
        "id": "s_T-kCApMqPP",
        "colab_type": "code",
        "colab": {}
      },
      "source": [
        "\n",
        "from keras.callbacks import Callback\n",
        "from sklearn.metrics import confusion_matrix\n",
        "\n",
        "class Record_tp_tn(Callback):\n",
        "    def on_train_begin(self, epoch, logs = {}):\n",
        "        logs = logs or {}\n",
        "        record_items = [\"val_auc\", \"val_f1sc\", \"val_fp\", \"val_fn\", \"val_tp\", \"val_tn\"]\n",
        "        for i in record_items:\n",
        "            if i not in self.params['metrics']:\n",
        "                self.params['metrics'].append(i)\n",
        "    \n",
        "    def on_epoch_end(self, epoch, logs = {}, thres=0.5):\n",
        "        logs = logs or {}\n",
        "        y_true = self.validation_data[1].argmax(axis = 1)\n",
        "        y_pred = self.model.predict(self.validation_data[0])\n",
        "        y_pred = (y_pred[:, 1] >= thres) * 1\n",
        "        \n",
        "        matrix = confusion_matrix(y_true = y_true, y_pred = y_pred)\n",
        "        logs[\"val_tp\"] = matrix[1, 1]\n",
        "        logs[\"val_tn\"] = matrix[0, 0]\n",
        "        \n",
        "rec_tptn = Record_tp_tn()"
      ],
      "execution_count": 0,
      "outputs": []
    },
    {
      "cell_type": "code",
      "metadata": {
        "scrolled": true,
        "id": "u85scPnkKt-u",
        "colab_type": "code",
        "colab": {
          "base_uri": "https://localhost:8080/",
          "height": 1000
        },
        "outputId": "4b56be8f-91f5-4870-f495-0baef281e2ca"
      },
      "source": [
        "model = build_mlp(input_shape=x_train.shape[1:])\n",
        "model.summary()\n",
        "optimizer = keras.optimizers.SGD(lr=LEARNING_RATE, nesterov=True, momentum=MOMENTUM)\n",
        "model.compile(loss=\"categorical_crossentropy\", metrics=[\"accuracy\"], optimizer=optimizer)\n",
        "\n",
        "\"\"\"Code Here\n",
        "將 callbacks 放入模型訓練流程中\n",
        "\"\"\"\n",
        "model.fit(x_train, y_train, \n",
        "          epochs=EPOCHS, \n",
        "          batch_size=BATCH_SIZE, \n",
        "          validation_data=(x_test, y_test), \n",
        "          shuffle=True,\n",
        "          callbacks=[rec_tptn]\n",
        "          )\n",
        "\n",
        "# Collect results\n",
        "train_loss = model.history.history[\"loss\"]\n",
        "valid_loss = model.history.history[\"val_loss\"]\n",
        "train_acc = model.history.history[\"acc\"]\n",
        "valid_acc = model.history.history[\"val_acc\"]\n",
        "\n",
        "\"\"\"Code Here\n",
        "將 tp/tn 從訓練完的模型中取出\n",
        "\"\"\"\n",
        "valid_tp = model.history.history['val_tp']\n",
        "valid_tn = model.history.history['val_tn']"
      ],
      "execution_count": 8,
      "outputs": [
        {
          "output_type": "stream",
          "text": [
            "Model: \"model_1\"\n",
            "_________________________________________________________________\n",
            "Layer (type)                 Output Shape              Param #   \n",
            "=================================================================\n",
            "input_1 (InputLayer)         (None, 3072)              0         \n",
            "_________________________________________________________________\n",
            "hidden_layer1 (Dense)        (None, 512)               1573376   \n",
            "_________________________________________________________________\n",
            "batch_normalization_1 (Batch (None, 512)               2048      \n",
            "_________________________________________________________________\n",
            "hidden_layer2 (Dense)        (None, 256)               131328    \n",
            "_________________________________________________________________\n",
            "batch_normalization_2 (Batch (None, 256)               1024      \n",
            "_________________________________________________________________\n",
            "hidden_layer3 (Dense)        (None, 128)               32896     \n",
            "_________________________________________________________________\n",
            "batch_normalization_3 (Batch (None, 128)               512       \n",
            "_________________________________________________________________\n",
            "output (Dense)               (None, 10)                1290      \n",
            "=================================================================\n",
            "Total params: 1,742,474\n",
            "Trainable params: 1,740,682\n",
            "Non-trainable params: 1,792\n",
            "_________________________________________________________________\n",
            "Train on 50000 samples, validate on 10000 samples\n",
            "Epoch 1/25\n",
            "50000/50000 [==============================] - 6s 114us/step - loss: 2.2383 - acc: 0.2668 - val_loss: 2.1358 - val_acc: 0.3119\n",
            "Epoch 2/25\n",
            "50000/50000 [==============================] - 1s 23us/step - loss: 1.7500 - acc: 0.3913 - val_loss: 1.8586 - val_acc: 0.3655\n",
            "Epoch 3/25\n",
            "50000/50000 [==============================] - 1s 22us/step - loss: 1.6247 - acc: 0.4342 - val_loss: 1.7193 - val_acc: 0.4083\n",
            "Epoch 4/25\n",
            "50000/50000 [==============================] - 1s 22us/step - loss: 1.5503 - acc: 0.4572 - val_loss: 1.6419 - val_acc: 0.4282\n",
            "Epoch 5/25\n",
            "50000/50000 [==============================] - 1s 22us/step - loss: 1.4915 - acc: 0.4793 - val_loss: 1.6112 - val_acc: 0.4328\n",
            "Epoch 6/25\n",
            "50000/50000 [==============================] - 1s 22us/step - loss: 1.4470 - acc: 0.4934 - val_loss: 1.5715 - val_acc: 0.4488\n",
            "Epoch 7/25\n",
            "50000/50000 [==============================] - 1s 22us/step - loss: 1.4055 - acc: 0.5096 - val_loss: 1.5523 - val_acc: 0.4581\n",
            "Epoch 8/25\n",
            "50000/50000 [==============================] - 1s 22us/step - loss: 1.3703 - acc: 0.5216 - val_loss: 1.5296 - val_acc: 0.4598\n",
            "Epoch 9/25\n",
            "50000/50000 [==============================] - 1s 22us/step - loss: 1.3374 - acc: 0.5348 - val_loss: 1.5191 - val_acc: 0.4663\n",
            "Epoch 10/25\n",
            "50000/50000 [==============================] - 1s 22us/step - loss: 1.3060 - acc: 0.5460 - val_loss: 1.5075 - val_acc: 0.4704\n",
            "Epoch 11/25\n",
            "50000/50000 [==============================] - 1s 22us/step - loss: 1.2779 - acc: 0.5560 - val_loss: 1.4918 - val_acc: 0.4786\n",
            "Epoch 12/25\n",
            "50000/50000 [==============================] - 1s 23us/step - loss: 1.2488 - acc: 0.5667 - val_loss: 1.4836 - val_acc: 0.4782\n",
            "Epoch 13/25\n",
            "50000/50000 [==============================] - 1s 21us/step - loss: 1.2232 - acc: 0.5777 - val_loss: 1.4806 - val_acc: 0.4831\n",
            "Epoch 14/25\n",
            "50000/50000 [==============================] - 1s 22us/step - loss: 1.1996 - acc: 0.5870 - val_loss: 1.4844 - val_acc: 0.4843\n",
            "Epoch 15/25\n",
            "50000/50000 [==============================] - 1s 23us/step - loss: 1.1776 - acc: 0.5948 - val_loss: 1.4751 - val_acc: 0.4833\n",
            "Epoch 16/25\n",
            "50000/50000 [==============================] - 1s 22us/step - loss: 1.1517 - acc: 0.6066 - val_loss: 1.4661 - val_acc: 0.4843\n",
            "Epoch 17/25\n",
            "50000/50000 [==============================] - 1s 22us/step - loss: 1.1272 - acc: 0.6154 - val_loss: 1.4631 - val_acc: 0.4887\n",
            "Epoch 18/25\n",
            "50000/50000 [==============================] - 1s 22us/step - loss: 1.1076 - acc: 0.6216 - val_loss: 1.4786 - val_acc: 0.4847\n",
            "Epoch 19/25\n",
            "50000/50000 [==============================] - 1s 22us/step - loss: 1.0861 - acc: 0.6305 - val_loss: 1.4677 - val_acc: 0.4889\n",
            "Epoch 20/25\n",
            "50000/50000 [==============================] - 1s 22us/step - loss: 1.0611 - acc: 0.6401 - val_loss: 1.4627 - val_acc: 0.4898\n",
            "Epoch 21/25\n",
            "50000/50000 [==============================] - 1s 22us/step - loss: 1.0426 - acc: 0.6463 - val_loss: 1.4648 - val_acc: 0.4949\n",
            "Epoch 22/25\n",
            "50000/50000 [==============================] - 1s 22us/step - loss: 1.0199 - acc: 0.6545 - val_loss: 1.4639 - val_acc: 0.4941\n",
            "Epoch 23/25\n",
            "50000/50000 [==============================] - 1s 22us/step - loss: 0.9979 - acc: 0.6629 - val_loss: 1.4673 - val_acc: 0.4964\n",
            "Epoch 24/25\n",
            "50000/50000 [==============================] - 1s 22us/step - loss: 0.9791 - acc: 0.6717 - val_loss: 1.4639 - val_acc: 0.4949\n",
            "Epoch 25/25\n",
            "50000/50000 [==============================] - 1s 23us/step - loss: 0.9582 - acc: 0.6798 - val_loss: 1.4708 - val_acc: 0.4952\n"
          ],
          "name": "stdout"
        }
      ]
    },
    {
      "cell_type": "code",
      "metadata": {
        "id": "Zzewx2e6Kt-x",
        "colab_type": "code",
        "colab": {
          "base_uri": "https://localhost:8080/",
          "height": 809
        },
        "outputId": "3f19843d-d483-46fa-b821-915f47f51da6"
      },
      "source": [
        "import matplotlib.pyplot as plt\n",
        "%matplotlib inline\n",
        "\n",
        "plt.plot(range(len(train_loss)), train_loss, label=\"train loss\")\n",
        "plt.plot(range(len(valid_loss)), valid_loss, label=\"valid loss\")\n",
        "plt.legend()\n",
        "plt.title(\"Loss\")\n",
        "plt.show()\n",
        "\n",
        "plt.plot(range(len(train_acc)), train_acc, label=\"train accuracy\")\n",
        "plt.plot(range(len(valid_acc)), valid_acc, label=\"valid accuracy\")\n",
        "plt.legend()\n",
        "plt.title(\"Accuracy\")\n",
        "plt.show()\n",
        "\n",
        "plt.plot(range(len(valid_tp)), valid_tp, label=\"valid tp\", color=\"navy\")\n",
        "plt.plot(range(len(valid_tn)), valid_tn, label=\"valid tn\", color=\"red\")\n",
        "plt.legend()\n",
        "plt.title(\"True positives and True Negatives\")\n",
        "plt.show()\n"
      ],
      "execution_count": 9,
      "outputs": [
        {
          "output_type": "display_data",
          "data": {
            "image/png": "[encoded data removed]",
            "text/plain": [
              "<Figure size 432x288 with 1 Axes>"
            ]
          },
          "metadata": {
            "tags": []
          }
        },
        {
          "output_type": "display_data",
          "data": {
            "image/png": "[encoded data removed]",
            "text/plain": [
              "<Figure size 432x288 with 1 Axes>"
            ]
          },
          "metadata": {
            "tags": []
          }
        },
        {
          "output_type": "display_data",
          "data": {
            "image/png": "[encoded data removed]",
            "text/plain": [
              "<Figure size 432x288 with 1 Axes>"
            ]
          },
          "metadata": {
            "tags": []
          }
        }
      ]
    }
  ]
}