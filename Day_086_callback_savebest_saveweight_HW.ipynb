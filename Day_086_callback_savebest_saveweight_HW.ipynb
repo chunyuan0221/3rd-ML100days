{
  "nbformat": 4,
  "nbformat_minor": 0,
  "metadata": {
    "kernelspec": {
      "name": "python3",
      "display_name": "Python 3"
    },
    "language_info": {
      "codemirror_mode": {
        "name": "ipython",
        "version": 3
      },
      "file_extension": ".py",
      "mimetype": "text/x-python",
      "name": "python",
      "nbconvert_exporter": "python",
      "pygments_lexer": "ipython3",
      "version": "3.6.5"
    },
    "colab": {
      "name": "Day_086_callback_savebest_saveweight_HW.ipynb",
      "provenance": [],
      "collapsed_sections": [],
      "include_colab_link": true
    },
    "accelerator": "GPU"
  },
  "cells": [
    {
      "cell_type": "markdown",
      "metadata": {
        "id": "view-in-github",
        "colab_type": "text"
      },
      "source": [
        "<a href=\"https://colab.research.google.com/github/chunyuan0221/3rd-ML100days/blob/master/Day_086_callback_savebest_saveweight_HW.ipynb\" target=\"_parent\"><img src=\"https://colab.research.google.com/assets/colab-badge.svg\" alt=\"Open In Colab\"/></a>"
      ]
    },
    {
      "cell_type": "markdown",
      "metadata": {
        "id": "YZIQ1pZETXPJ",
        "colab_type": "text"
      },
      "source": [
        "## Work\n",
        "1. 試比較 save_best_only 與否的差異\n",
        "2. 請僅存入將 save_weights_only 設定為 True, 並嘗試 reset ipynb 並將模型與權重重新建回並預測 x_test"
      ]
    },
    {
      "cell_type": "code",
      "metadata": {
        "id": "a4DGPir3TXPK",
        "colab_type": "code",
        "outputId": "092263be-e859-4cc1-b81f-4f41c6c7d2d8",
        "colab": {
          "base_uri": "https://localhost:8080/",
          "height": 81
        }
      },
      "source": [
        "import os\n",
        "import keras\n",
        "import tensorflow as tf\n",
        "tf.compat.v1.logging.set_verbosity(tf.compat.v1.logging.ERROR)\n",
        "# Disable GPU\n",
        "#os.environ[\"CUDA_VISIBLE_DEVICES\"] = \"\""
      ],
      "execution_count": 1,
      "outputs": [
        {
          "output_type": "stream",
          "text": [
            "Using TensorFlow backend.\n"
          ],
          "name": "stderr"
        },
        {
          "output_type": "display_data",
          "data": {
            "text/html": [
              "<p style=\"color: red;\">\n",
              "The default version of TensorFlow in Colab will soon switch to TensorFlow 2.x.<br>\n",
              "We recommend you <a href=\"https://www.tensorflow.org/guide/migrate\" target=\"_blank\">upgrade</a> now \n",
              "or ensure your notebook will continue to use TensorFlow 1.x via the <code>%tensorflow_version 1.x</code> magic:\n",
              "<a href=\"https://colab.research.google.com/notebooks/tensorflow_version.ipynb\" target=\"_blank\">more info</a>.</p>\n"
            ],
            "text/plain": [
              "<IPython.core.display.HTML object>"
            ]
          },
          "metadata": {
            "tags": []
          }
        }
      ]
    },
    {
      "cell_type": "code",
      "metadata": {
        "id": "c7j2FRffTXPR",
        "colab_type": "code",
        "colab": {}
      },
      "source": [
        "train, test = keras.datasets.cifar10.load_data()"
      ],
      "execution_count": 0,
      "outputs": []
    },
    {
      "cell_type": "code",
      "metadata": {
        "id": "NLZ4s7ZLTXPW",
        "colab_type": "code",
        "colab": {}
      },
      "source": [
        "## 資料前處理\n",
        "def preproc_x(x, flatten=True):\n",
        "    x = x / 255.\n",
        "    if flatten:\n",
        "        x = x.reshape((len(x), -1))\n",
        "    return x\n",
        "\n",
        "def preproc_y(y, num_classes=10):\n",
        "    if y.shape[-1] == 1:\n",
        "        y = keras.utils.to_categorical(y, num_classes)\n",
        "    return y    "
      ],
      "execution_count": 0,
      "outputs": []
    },
    {
      "cell_type": "code",
      "metadata": {
        "id": "Soc_5O9hTXPY",
        "colab_type": "code",
        "colab": {}
      },
      "source": [
        "x_train, y_train = train\n",
        "x_test, y_test = test\n",
        "\n",
        "# Preproc the inputs\n",
        "x_train = preproc_x(x_train)\n",
        "x_test = preproc_x(x_test)\n",
        "\n",
        "# Preprc the outputs\n",
        "y_train = preproc_y(y_train)\n",
        "y_test = preproc_y(y_test)"
      ],
      "execution_count": 0,
      "outputs": []
    },
    {
      "cell_type": "code",
      "metadata": {
        "id": "Bg5iPLQ6TXPb",
        "colab_type": "code",
        "colab": {}
      },
      "source": [
        "def build_mlp(input_shape, output_neuron=10, layer_neuron=[512, 256, 128]):\n",
        "    input_layer = keras.layers.Input(shape=input_shape)\n",
        "    for i, neuron in enumerate(layer_neuron):\n",
        "        if i == 0:\n",
        "            x = keras.layers.BatchNormalization()(input_layer)\n",
        "            x = keras.layers.Dense(units=neuron, activation='relu', name='hidden_layer%s'%str(i+1))(x)\n",
        "        else:\n",
        "            x = keras.layers.BatchNormalization()(x)\n",
        "            x = keras.layers.Dense(units=neuron, activation='relu', name='hidden_layer%s'%str(i+1))(x)\n",
        "    out = keras.layers.Dense(units=output_neuron, activation='softmax')(x)\n",
        "    model = keras.models.Model(inputs=[input_layer], outputs=[out])\n",
        "    return model"
      ],
      "execution_count": 0,
      "outputs": []
    },
    {
      "cell_type": "code",
      "metadata": {
        "id": "sXQWDXCuTXPg",
        "colab_type": "code",
        "colab": {}
      },
      "source": [
        "# 設定超參數\n",
        "EPOCHS = 50\n",
        "BATCH_SIZE = 256\n",
        "LEARNING_RATE = 1e-2\n",
        "MOMENTUM = 0.9"
      ],
      "execution_count": 0,
      "outputs": []
    },
    {
      "cell_type": "code",
      "metadata": {
        "id": "WN8_RWurTXPk",
        "colab_type": "code",
        "outputId": "37f67a06-c0ab-4249-d67b-2e2710fee34b",
        "colab": {
          "base_uri": "https://localhost:8080/",
          "height": 1000
        }
      },
      "source": [
        "# 載入 Callbacks: model checkpoint\n",
        "from keras.callbacks import ModelCheckpoint\n",
        "save_best = ModelCheckpoint(filepath='./best.h5',\n",
        "                             monitor='val_loss',\n",
        "                             save_best_only=True)\n",
        "\n",
        "save_normal = ModelCheckpoint(filepath='./normal.h5',\n",
        "                              monitor='val_loss',\n",
        "                              save_best_only=False)\n",
        "checkpoint = [save_best, save_normal]\n",
        "checkpoint_name = ['save_best', 'no_save_best']\n",
        "results = {}\n",
        "\"\"\"Code Here\n",
        "撰寫你的訓練流程並將結果用 dictionary 紀錄\n",
        "\"\"\"\n",
        "for i in range(len(checkpoint)):\n",
        "    keras.backend.clear_session()\n",
        "    print('Experiment of %s' %checkpoint_name[i])\n",
        "    model = build_mlp(x_train.shape[1:])\n",
        "    opt = keras.optimizers.SGD(lr=LEARNING_RATE, momentum=MOMENTUM, nesterov=True)\n",
        "    model.compile(optimizer=opt, loss='categorical_crossentropy', metrics=['accuracy'])\n",
        "    model.fit(x_train, y_train,\n",
        "              epochs=EPOCHS,\n",
        "              batch_size=BATCH_SIZE,\n",
        "              validation_data=(x_test, y_test),\n",
        "              callbacks=[checkpoint[i]],\n",
        "              shuffle=True)\n",
        "    \n",
        "    results[checkpoint_name[i]] = dict(train_loss = model.history.history['loss'],\n",
        "                                       valid_loss = model.history.history['val_loss'],\n",
        "                                       train_acc = model.history.history['acc'],\n",
        "                                       valid_acc = model.history.history['val_acc'])"
      ],
      "execution_count": 7,
      "outputs": [
        {
          "output_type": "stream",
          "text": [
            "Experiment of save_best\n",
            "Train on 50000 samples, validate on 10000 samples\n",
            "Epoch 1/50\n",
            "50000/50000 [==============================] - 3s 64us/step - loss: 1.6536 - acc: 0.4152 - val_loss: 1.4607 - val_acc: 0.4845\n",
            "Epoch 2/50\n",
            "50000/50000 [==============================] - 2s 41us/step - loss: 1.3574 - acc: 0.5202 - val_loss: 1.4057 - val_acc: 0.5017\n",
            "Epoch 3/50\n",
            "50000/50000 [==============================] - 2s 40us/step - loss: 1.2265 - acc: 0.5662 - val_loss: 1.3744 - val_acc: 0.5110\n",
            "Epoch 4/50\n",
            "50000/50000 [==============================] - 2s 40us/step - loss: 1.1180 - acc: 0.6066 - val_loss: 1.3597 - val_acc: 0.5254\n",
            "Epoch 5/50\n",
            "50000/50000 [==============================] - 2s 39us/step - loss: 1.0270 - acc: 0.6408 - val_loss: 1.3628 - val_acc: 0.5290\n",
            "Epoch 6/50\n",
            "50000/50000 [==============================] - 2s 40us/step - loss: 0.9403 - acc: 0.6684 - val_loss: 1.3955 - val_acc: 0.5237\n",
            "Epoch 7/50\n",
            "50000/50000 [==============================] - 2s 39us/step - loss: 0.8588 - acc: 0.6999 - val_loss: 1.4123 - val_acc: 0.5222\n",
            "Epoch 8/50\n",
            "50000/50000 [==============================] - 2s 39us/step - loss: 0.7840 - acc: 0.7283 - val_loss: 1.4327 - val_acc: 0.5319\n",
            "Epoch 9/50\n",
            "50000/50000 [==============================] - 2s 39us/step - loss: 0.7096 - acc: 0.7545 - val_loss: 1.5257 - val_acc: 0.5253\n",
            "Epoch 10/50\n",
            "50000/50000 [==============================] - 2s 39us/step - loss: 0.6443 - acc: 0.7767 - val_loss: 1.5541 - val_acc: 0.5145\n",
            "Epoch 11/50\n",
            "50000/50000 [==============================] - 2s 39us/step - loss: 0.5809 - acc: 0.7998 - val_loss: 1.6188 - val_acc: 0.5242\n",
            "Epoch 12/50\n",
            "50000/50000 [==============================] - 2s 39us/step - loss: 0.5294 - acc: 0.8180 - val_loss: 1.6476 - val_acc: 0.5194\n",
            "Epoch 13/50\n",
            "50000/50000 [==============================] - 2s 38us/step - loss: 0.4636 - acc: 0.8431 - val_loss: 1.7476 - val_acc: 0.5182\n",
            "Epoch 14/50\n",
            "50000/50000 [==============================] - 2s 38us/step - loss: 0.4286 - acc: 0.8541 - val_loss: 1.8433 - val_acc: 0.5113\n",
            "Epoch 15/50\n",
            "50000/50000 [==============================] - 2s 38us/step - loss: 0.3882 - acc: 0.8654 - val_loss: 1.8401 - val_acc: 0.5299\n",
            "Epoch 16/50\n",
            "50000/50000 [==============================] - 2s 37us/step - loss: 0.3440 - acc: 0.8838 - val_loss: 1.9219 - val_acc: 0.5148\n",
            "Epoch 17/50\n",
            "50000/50000 [==============================] - 2s 38us/step - loss: 0.3025 - acc: 0.8983 - val_loss: 1.9695 - val_acc: 0.5203\n",
            "Epoch 18/50\n",
            "50000/50000 [==============================] - 2s 39us/step - loss: 0.2744 - acc: 0.9080 - val_loss: 2.0225 - val_acc: 0.5235\n",
            "Epoch 19/50\n",
            "50000/50000 [==============================] - 2s 40us/step - loss: 0.2448 - acc: 0.9185 - val_loss: 2.1167 - val_acc: 0.5260\n",
            "Epoch 20/50\n",
            "50000/50000 [==============================] - 2s 39us/step - loss: 0.2119 - acc: 0.9305 - val_loss: 2.1263 - val_acc: 0.5212\n",
            "Epoch 21/50\n",
            "50000/50000 [==============================] - 2s 41us/step - loss: 0.2057 - acc: 0.9303 - val_loss: 2.2079 - val_acc: 0.5199\n",
            "Epoch 22/50\n",
            "50000/50000 [==============================] - 2s 40us/step - loss: 0.1797 - acc: 0.9402 - val_loss: 2.3063 - val_acc: 0.5170\n",
            "Epoch 23/50\n",
            "50000/50000 [==============================] - 2s 40us/step - loss: 0.1654 - acc: 0.9456 - val_loss: 2.4151 - val_acc: 0.5162\n",
            "Epoch 24/50\n",
            "50000/50000 [==============================] - 2s 39us/step - loss: 0.1758 - acc: 0.9411 - val_loss: 2.3976 - val_acc: 0.5174\n",
            "Epoch 25/50\n",
            "50000/50000 [==============================] - 2s 39us/step - loss: 0.1482 - acc: 0.9523 - val_loss: 2.3971 - val_acc: 0.5282\n",
            "Epoch 26/50\n",
            "50000/50000 [==============================] - 2s 39us/step - loss: 0.1301 - acc: 0.9582 - val_loss: 2.4430 - val_acc: 0.5214\n",
            "Epoch 27/50\n",
            "50000/50000 [==============================] - 2s 39us/step - loss: 0.1118 - acc: 0.9646 - val_loss: 2.5245 - val_acc: 0.5233\n",
            "Epoch 28/50\n",
            "50000/50000 [==============================] - 2s 38us/step - loss: 0.1077 - acc: 0.9651 - val_loss: 2.5718 - val_acc: 0.5247\n",
            "Epoch 29/50\n",
            "50000/50000 [==============================] - 2s 39us/step - loss: 0.1011 - acc: 0.9676 - val_loss: 2.6056 - val_acc: 0.5161\n",
            "Epoch 30/50\n",
            "50000/50000 [==============================] - 2s 39us/step - loss: 0.0946 - acc: 0.9697 - val_loss: 2.6934 - val_acc: 0.5244\n",
            "Epoch 31/50\n",
            "50000/50000 [==============================] - 2s 39us/step - loss: 0.0861 - acc: 0.9734 - val_loss: 2.6722 - val_acc: 0.5185\n",
            "Epoch 32/50\n",
            "50000/50000 [==============================] - 2s 39us/step - loss: 0.0845 - acc: 0.9733 - val_loss: 2.7577 - val_acc: 0.5215\n",
            "Epoch 33/50\n",
            "50000/50000 [==============================] - 2s 39us/step - loss: 0.0818 - acc: 0.9736 - val_loss: 2.7366 - val_acc: 0.5243\n",
            "Epoch 34/50\n",
            "50000/50000 [==============================] - 2s 39us/step - loss: 0.0606 - acc: 0.9821 - val_loss: 2.7234 - val_acc: 0.5252\n",
            "Epoch 35/50\n",
            "50000/50000 [==============================] - 2s 39us/step - loss: 0.0576 - acc: 0.9819 - val_loss: 2.8777 - val_acc: 0.5201\n",
            "Epoch 36/50\n",
            "50000/50000 [==============================] - 2s 40us/step - loss: 0.0639 - acc: 0.9802 - val_loss: 2.8372 - val_acc: 0.5254\n",
            "Epoch 37/50\n",
            "50000/50000 [==============================] - 2s 39us/step - loss: 0.0594 - acc: 0.9814 - val_loss: 2.8101 - val_acc: 0.5313\n",
            "Epoch 38/50\n",
            "50000/50000 [==============================] - 2s 38us/step - loss: 0.0463 - acc: 0.9867 - val_loss: 2.8763 - val_acc: 0.5311\n",
            "Epoch 39/50\n",
            "50000/50000 [==============================] - 2s 39us/step - loss: 0.0541 - acc: 0.9832 - val_loss: 2.9109 - val_acc: 0.5267\n",
            "Epoch 40/50\n",
            "50000/50000 [==============================] - 2s 38us/step - loss: 0.0510 - acc: 0.9841 - val_loss: 3.0048 - val_acc: 0.5295\n",
            "Epoch 41/50\n",
            "50000/50000 [==============================] - 2s 38us/step - loss: 0.0507 - acc: 0.9835 - val_loss: 2.9787 - val_acc: 0.5271\n",
            "Epoch 42/50\n",
            "50000/50000 [==============================] - 2s 39us/step - loss: 0.0513 - acc: 0.9841 - val_loss: 2.9426 - val_acc: 0.5352\n",
            "Epoch 43/50\n",
            "50000/50000 [==============================] - 2s 39us/step - loss: 0.0469 - acc: 0.9853 - val_loss: 3.0085 - val_acc: 0.5298\n",
            "Epoch 44/50\n",
            "50000/50000 [==============================] - 2s 38us/step - loss: 0.0479 - acc: 0.9848 - val_loss: 3.0403 - val_acc: 0.5229\n",
            "Epoch 45/50\n",
            "50000/50000 [==============================] - 2s 38us/step - loss: 0.0377 - acc: 0.9885 - val_loss: 2.9810 - val_acc: 0.5332\n",
            "Epoch 46/50\n",
            "50000/50000 [==============================] - 2s 40us/step - loss: 0.0332 - acc: 0.9898 - val_loss: 3.0421 - val_acc: 0.5319\n",
            "Epoch 47/50\n",
            "50000/50000 [==============================] - 2s 39us/step - loss: 0.0352 - acc: 0.9898 - val_loss: 3.0920 - val_acc: 0.5302\n",
            "Epoch 48/50\n",
            "50000/50000 [==============================] - 2s 39us/step - loss: 0.0390 - acc: 0.9883 - val_loss: 3.0592 - val_acc: 0.5269\n",
            "Epoch 49/50\n",
            "50000/50000 [==============================] - 2s 37us/step - loss: 0.0366 - acc: 0.9887 - val_loss: 3.1151 - val_acc: 0.5328\n",
            "Epoch 50/50\n",
            "50000/50000 [==============================] - 2s 38us/step - loss: 0.0428 - acc: 0.9866 - val_loss: 3.1865 - val_acc: 0.5276\n",
            "Experiment of no_save_best\n",
            "Train on 50000 samples, validate on 10000 samples\n",
            "Epoch 1/50\n",
            "50000/50000 [==============================] - 2s 50us/step - loss: 1.6591 - acc: 0.4135 - val_loss: 1.4703 - val_acc: 0.4795\n",
            "Epoch 2/50\n",
            "50000/50000 [==============================] - 2s 40us/step - loss: 1.3575 - acc: 0.5206 - val_loss: 1.4034 - val_acc: 0.5016\n",
            "Epoch 3/50\n",
            "50000/50000 [==============================] - 2s 40us/step - loss: 1.2194 - acc: 0.5709 - val_loss: 1.3576 - val_acc: 0.5193\n",
            "Epoch 4/50\n",
            "50000/50000 [==============================] - 2s 39us/step - loss: 1.1116 - acc: 0.6090 - val_loss: 1.3504 - val_acc: 0.5280\n",
            "Epoch 5/50\n",
            "50000/50000 [==============================] - 2s 39us/step - loss: 1.0191 - acc: 0.6438 - val_loss: 1.3582 - val_acc: 0.5328\n",
            "Epoch 6/50\n",
            "50000/50000 [==============================] - 2s 40us/step - loss: 0.9311 - acc: 0.6753 - val_loss: 1.3924 - val_acc: 0.5256\n",
            "Epoch 7/50\n",
            "50000/50000 [==============================] - 2s 39us/step - loss: 0.8496 - acc: 0.7036 - val_loss: 1.4020 - val_acc: 0.5291\n",
            "Epoch 8/50\n",
            "50000/50000 [==============================] - 2s 40us/step - loss: 0.7789 - acc: 0.7313 - val_loss: 1.4428 - val_acc: 0.5269\n",
            "Epoch 9/50\n",
            "50000/50000 [==============================] - 2s 40us/step - loss: 0.7036 - acc: 0.7566 - val_loss: 1.5353 - val_acc: 0.5242\n",
            "Epoch 10/50\n",
            "50000/50000 [==============================] - 2s 40us/step - loss: 0.6397 - acc: 0.7785 - val_loss: 1.5348 - val_acc: 0.5339\n",
            "Epoch 11/50\n",
            "50000/50000 [==============================] - 2s 39us/step - loss: 0.5735 - acc: 0.8025 - val_loss: 1.6018 - val_acc: 0.5219\n",
            "Epoch 12/50\n",
            "50000/50000 [==============================] - 2s 40us/step - loss: 0.5239 - acc: 0.8196 - val_loss: 1.6375 - val_acc: 0.5243\n",
            "Epoch 13/50\n",
            "50000/50000 [==============================] - 2s 40us/step - loss: 0.4606 - acc: 0.8426 - val_loss: 1.6874 - val_acc: 0.5224\n",
            "Epoch 14/50\n",
            "50000/50000 [==============================] - 2s 41us/step - loss: 0.4179 - acc: 0.8596 - val_loss: 1.7615 - val_acc: 0.5274\n",
            "Epoch 15/50\n",
            "50000/50000 [==============================] - 2s 40us/step - loss: 0.3776 - acc: 0.8721 - val_loss: 1.8250 - val_acc: 0.5254\n",
            "Epoch 16/50\n",
            "50000/50000 [==============================] - 2s 39us/step - loss: 0.3356 - acc: 0.8869 - val_loss: 1.8705 - val_acc: 0.5261\n",
            "Epoch 17/50\n",
            "50000/50000 [==============================] - 2s 39us/step - loss: 0.3111 - acc: 0.8943 - val_loss: 1.9329 - val_acc: 0.5299\n",
            "Epoch 18/50\n",
            "50000/50000 [==============================] - 2s 39us/step - loss: 0.2777 - acc: 0.9066 - val_loss: 2.0171 - val_acc: 0.5275\n",
            "Epoch 19/50\n",
            "50000/50000 [==============================] - 2s 39us/step - loss: 0.2491 - acc: 0.9177 - val_loss: 2.1093 - val_acc: 0.5197\n",
            "Epoch 20/50\n",
            "50000/50000 [==============================] - 2s 39us/step - loss: 0.2197 - acc: 0.9275 - val_loss: 2.1306 - val_acc: 0.5291\n",
            "Epoch 21/50\n",
            "50000/50000 [==============================] - 2s 40us/step - loss: 0.1979 - acc: 0.9340 - val_loss: 2.2236 - val_acc: 0.5130\n",
            "Epoch 22/50\n",
            "50000/50000 [==============================] - 2s 39us/step - loss: 0.1791 - acc: 0.9408 - val_loss: 2.2563 - val_acc: 0.5226\n",
            "Epoch 23/50\n",
            "50000/50000 [==============================] - 2s 38us/step - loss: 0.1636 - acc: 0.9455 - val_loss: 2.3720 - val_acc: 0.5259\n",
            "Epoch 24/50\n",
            "50000/50000 [==============================] - 2s 39us/step - loss: 0.1564 - acc: 0.9480 - val_loss: 2.3400 - val_acc: 0.5277\n",
            "Epoch 25/50\n",
            "50000/50000 [==============================] - 2s 40us/step - loss: 0.1288 - acc: 0.9590 - val_loss: 2.4091 - val_acc: 0.5231\n",
            "Epoch 26/50\n",
            "50000/50000 [==============================] - 2s 39us/step - loss: 0.1321 - acc: 0.9565 - val_loss: 2.4746 - val_acc: 0.5245\n",
            "Epoch 27/50\n",
            "50000/50000 [==============================] - 2s 40us/step - loss: 0.1199 - acc: 0.9619 - val_loss: 2.5081 - val_acc: 0.5183\n",
            "Epoch 28/50\n",
            "50000/50000 [==============================] - 2s 40us/step - loss: 0.1049 - acc: 0.9665 - val_loss: 2.5325 - val_acc: 0.5261\n",
            "Epoch 29/50\n",
            "50000/50000 [==============================] - 2s 39us/step - loss: 0.1030 - acc: 0.9671 - val_loss: 2.5488 - val_acc: 0.5290\n",
            "Epoch 30/50\n",
            "50000/50000 [==============================] - 2s 38us/step - loss: 0.0940 - acc: 0.9698 - val_loss: 2.5803 - val_acc: 0.5319\n",
            "Epoch 31/50\n",
            "50000/50000 [==============================] - 2s 39us/step - loss: 0.0743 - acc: 0.9771 - val_loss: 2.5932 - val_acc: 0.5309\n",
            "Epoch 32/50\n",
            "50000/50000 [==============================] - 2s 39us/step - loss: 0.0784 - acc: 0.9753 - val_loss: 2.6245 - val_acc: 0.5362\n",
            "Epoch 33/50\n",
            "50000/50000 [==============================] - 2s 38us/step - loss: 0.0754 - acc: 0.9755 - val_loss: 2.6851 - val_acc: 0.5299\n",
            "Epoch 34/50\n",
            "50000/50000 [==============================] - 2s 38us/step - loss: 0.0696 - acc: 0.9782 - val_loss: 2.7077 - val_acc: 0.5308\n",
            "Epoch 35/50\n",
            "50000/50000 [==============================] - 2s 38us/step - loss: 0.0742 - acc: 0.9753 - val_loss: 2.7936 - val_acc: 0.5328\n",
            "Epoch 36/50\n",
            "50000/50000 [==============================] - 2s 39us/step - loss: 0.0783 - acc: 0.9742 - val_loss: 2.7571 - val_acc: 0.5256\n",
            "Epoch 37/50\n",
            "50000/50000 [==============================] - 2s 39us/step - loss: 0.0761 - acc: 0.9754 - val_loss: 2.7715 - val_acc: 0.5384\n",
            "Epoch 38/50\n",
            "50000/50000 [==============================] - 2s 39us/step - loss: 0.0690 - acc: 0.9771 - val_loss: 2.7988 - val_acc: 0.5311\n",
            "Epoch 39/50\n",
            "50000/50000 [==============================] - 2s 40us/step - loss: 0.0526 - acc: 0.9844 - val_loss: 2.7837 - val_acc: 0.5313\n",
            "Epoch 40/50\n",
            "50000/50000 [==============================] - 2s 38us/step - loss: 0.0463 - acc: 0.9861 - val_loss: 2.8217 - val_acc: 0.5276\n",
            "Epoch 41/50\n",
            "50000/50000 [==============================] - 2s 38us/step - loss: 0.0401 - acc: 0.9884 - val_loss: 2.8585 - val_acc: 0.5344\n",
            "Epoch 42/50\n",
            "50000/50000 [==============================] - 2s 40us/step - loss: 0.0380 - acc: 0.9891 - val_loss: 2.9039 - val_acc: 0.5368\n",
            "Epoch 43/50\n",
            "50000/50000 [==============================] - 2s 38us/step - loss: 0.0393 - acc: 0.9887 - val_loss: 2.9182 - val_acc: 0.5336\n",
            "Epoch 44/50\n",
            "50000/50000 [==============================] - 2s 38us/step - loss: 0.0379 - acc: 0.9887 - val_loss: 2.9360 - val_acc: 0.5406\n",
            "Epoch 45/50\n",
            "50000/50000 [==============================] - 2s 39us/step - loss: 0.0491 - acc: 0.9843 - val_loss: 2.9928 - val_acc: 0.5322\n",
            "Epoch 46/50\n",
            "50000/50000 [==============================] - 2s 40us/step - loss: 0.0410 - acc: 0.9872 - val_loss: 2.9735 - val_acc: 0.5274\n",
            "Epoch 47/50\n",
            "50000/50000 [==============================] - 2s 39us/step - loss: 0.0294 - acc: 0.9918 - val_loss: 2.9778 - val_acc: 0.5370\n",
            "Epoch 48/50\n",
            "50000/50000 [==============================] - 2s 39us/step - loss: 0.0294 - acc: 0.9911 - val_loss: 3.0790 - val_acc: 0.5301\n",
            "Epoch 49/50\n",
            "50000/50000 [==============================] - 2s 37us/step - loss: 0.0331 - acc: 0.9899 - val_loss: 3.0953 - val_acc: 0.5329\n",
            "Epoch 50/50\n",
            "50000/50000 [==============================] - 2s 39us/step - loss: 0.0267 - acc: 0.9925 - val_loss: 3.0440 - val_acc: 0.5346\n"
          ],
          "name": "stdout"
        }
      ]
    },
    {
      "cell_type": "code",
      "metadata": {
        "id": "UPjKbsWcaRNV",
        "colab_type": "code",
        "outputId": "d9df1068-ba4c-41f1-8b2a-ffda116b3c33",
        "colab": {
          "base_uri": "https://localhost:8080/",
          "height": 35
        }
      },
      "source": [
        "!ls"
      ],
      "execution_count": 8,
      "outputs": [
        {
          "output_type": "stream",
          "text": [
            "best.h5  normal.h5  sample_data  weight_only.h5\n"
          ],
          "name": "stdout"
        }
      ]
    },
    {
      "cell_type": "code",
      "metadata": {
        "id": "joGG1gTNaW-7",
        "colab_type": "code",
        "outputId": "b5003d67-c70d-4af6-8482-5f731d23ad02",
        "colab": {
          "base_uri": "https://localhost:8080/",
          "height": 52
        }
      },
      "source": [
        "model = keras.models.load_model('./best.h5')\n",
        "loadback_best = model.evaluate(x_test, y_test)\n",
        "\n",
        "model = keras.models.load_model('./normal.h5')\n",
        "loadback_normal = model.evaluate(x_test, y_test)"
      ],
      "execution_count": 9,
      "outputs": [
        {
          "output_type": "stream",
          "text": [
            "10000/10000 [==============================] - 1s 76us/step\n",
            "10000/10000 [==============================] - 1s 78us/step\n"
          ],
          "name": "stdout"
        }
      ]
    },
    {
      "cell_type": "code",
      "metadata": {
        "id": "31UXZtplS6SU",
        "colab_type": "code",
        "colab": {
          "base_uri": "https://localhost:8080/",
          "height": 35
        },
        "outputId": "5d16e426-b9be-443f-cd9b-7d0aab08b80e"
      },
      "source": [
        "loadback_best"
      ],
      "execution_count": 10,
      "outputs": [
        {
          "output_type": "execute_result",
          "data": {
            "text/plain": [
              "[1.3596763923645019, 0.5254]"
            ]
          },
          "metadata": {
            "tags": []
          },
          "execution_count": 10
        }
      ]
    },
    {
      "cell_type": "code",
      "metadata": {
        "id": "uHvzj9k9SrkP",
        "colab_type": "code",
        "colab": {
          "base_uri": "https://localhost:8080/",
          "height": 35
        },
        "outputId": "aba1608e-007e-4054-9ed4-e26d50fadb6d"
      },
      "source": [
        "loadback_normal"
      ],
      "execution_count": 11,
      "outputs": [
        {
          "output_type": "execute_result",
          "data": {
            "text/plain": [
              "[3.0440115074157714, 0.5346]"
            ]
          },
          "metadata": {
            "tags": []
          },
          "execution_count": 11
        }
      ]
    },
    {
      "cell_type": "code",
      "metadata": {
        "scrolled": true,
        "id": "Pvw_jlXkTXPo",
        "colab_type": "code",
        "outputId": "fb36b30f-c15f-446a-da0b-f4475508fcd1",
        "colab": {
          "base_uri": "https://localhost:8080/",
          "height": 545
        }
      },
      "source": [
        "import matplotlib.pyplot as plt\n",
        "%matplotlib inline\n",
        "\n",
        "plt.plot(results[checkpoint_name[0]]['train_loss'], label='train loss')\n",
        "plt.plot(results[checkpoint_name[0]]['valid_loss'], label='valid loss')\n",
        "plt.axhline(loadback_best[0], ls='-', color='m', label='best')\n",
        "plt.axhline(loadback_normal[0], ls='--', color='g', label='normal')\n",
        "plt.title(f'Loss:{checkpoint_name[0]} compare {checkpoint_name[1]}')\n",
        "plt.legend()\n",
        "plt.show()\n",
        "\n",
        "plt.plot(results[checkpoint_name[0]]['train_acc'], label='train acc')\n",
        "plt.plot(results[checkpoint_name[0]]['valid_acc'], label='valid acc')\n",
        "plt.axhline(loadback_best[1], ls='--', color='m', label='best')\n",
        "plt.axhline(loadback_normal[1], ls='--', color='g', label='normal')\n",
        "plt.title(f'Accuracy:{checkpoint_name[0]} compare {checkpoint_name[1]}')\n",
        "plt.legend()\n",
        "plt.show()"
      ],
      "execution_count": 12,
      "outputs": [
        {
          "output_type": "display_data",
          "data": {
            "image/png": "[encoded data removed]",
            "text/plain": [
              "<Figure size 432x288 with 1 Axes>"
            ]
          },
          "metadata": {
            "tags": []
          }
        },
        {
          "output_type": "display_data",
          "data": {
            "image/png": "[encoded data removed]",
            "text/plain": [
              "<Figure size 432x288 with 1 Axes>"
            ]
          },
          "metadata": {
            "tags": []
          }
        }
      ]
    },
    {
      "cell_type": "markdown",
      "metadata": {
        "id": "zKgc9tu8UrXg",
        "colab_type": "text"
      },
      "source": [
        "### Result\n",
        "- 試比較 save_best_only 與否的差異\n",
        "***\n",
        "- 在from keras.callbacks import ModelCheckpoint中:\n",
        "  1. save_best_only=True:不會覆蓋最佳結果的模型。\n",
        "  2. save_best_only=False:會覆蓋最佳結果，以結束訓練時的作為結果。\n",
        "\n",
        "- 本次callback的monitor是'val_loss'和'val_acc'。因此，會依據validation data。\n",
        "- 我們由圖可以觀察到:\n",
        "  1. Loss : 當save_best_only=True，在loss部分會停在最低點；若save_best_only=False，在loss部分持續更新。\n",
        "  2. Accuracy : 當save_best_only=True，accuracy會保留準確率最好的地方；若save_best_only=False，則會持續更新同時覆蓋舊資料，導致高準確率的模型被覆蓋。"
      ]
    },
    {
      "cell_type": "code",
      "metadata": {
        "id": "ZC2R7TyeRc8y",
        "colab_type": "code",
        "colab": {}
      },
      "source": [
        "save_weight = ModelCheckpoint(filepath='./weight_only.h5',\n",
        "                             monitor='val_loss',\n",
        "                             save_weights_only=True)"
      ],
      "execution_count": 0,
      "outputs": []
    },
    {
      "cell_type": "code",
      "metadata": {
        "id": "lko4TB_-qFEq",
        "colab_type": "code",
        "colab": {
          "base_uri": "https://localhost:8080/",
          "height": 1000
        },
        "outputId": "9788c585-2946-4921-c436-2741102ab8b7"
      },
      "source": [
        "keras.backend.clear_session()\n",
        "print('Experiment of callbacks weight_only')\n",
        "model = build_mlp(x_train.shape[1:])\n",
        "opt = keras.optimizers.SGD(lr=LEARNING_RATE, momentum=MOMENTUM, nesterov=True)\n",
        "model.compile(optimizer=opt, loss='categorical_crossentropy', metrics=['accuracy'])\n",
        "model.fit(x_train, y_train,\n",
        "          epochs=EPOCHS,\n",
        "          batch_size=BATCH_SIZE,\n",
        "          validation_data=(x_test, y_test),\n",
        "          callbacks=[save_weight],\n",
        "          shuffle=True)"
      ],
      "execution_count": 14,
      "outputs": [
        {
          "output_type": "stream",
          "text": [
            "Experiment of callbacks weight_only\n",
            "Train on 50000 samples, validate on 10000 samples\n",
            "Epoch 1/50\n",
            "50000/50000 [==============================] - 3s 50us/step - loss: 1.6450 - acc: 0.4166 - val_loss: 1.4767 - val_acc: 0.4805\n",
            "Epoch 2/50\n",
            "50000/50000 [==============================] - 2s 40us/step - loss: 1.3546 - acc: 0.5206 - val_loss: 1.4010 - val_acc: 0.5026\n",
            "Epoch 3/50\n",
            "50000/50000 [==============================] - 2s 40us/step - loss: 1.2217 - acc: 0.5677 - val_loss: 1.3742 - val_acc: 0.5115\n",
            "Epoch 4/50\n",
            "50000/50000 [==============================] - 2s 40us/step - loss: 1.1165 - acc: 0.6076 - val_loss: 1.3522 - val_acc: 0.5270\n",
            "Epoch 5/50\n",
            "50000/50000 [==============================] - 2s 39us/step - loss: 1.0218 - acc: 0.6400 - val_loss: 1.3685 - val_acc: 0.5272\n",
            "Epoch 6/50\n",
            "50000/50000 [==============================] - 2s 39us/step - loss: 0.9372 - acc: 0.6703 - val_loss: 1.3691 - val_acc: 0.5331\n",
            "Epoch 7/50\n",
            "50000/50000 [==============================] - 2s 39us/step - loss: 0.8533 - acc: 0.7004 - val_loss: 1.4170 - val_acc: 0.5283\n",
            "Epoch 8/50\n",
            "50000/50000 [==============================] - 2s 40us/step - loss: 0.7777 - acc: 0.7274 - val_loss: 1.4858 - val_acc: 0.5105\n",
            "Epoch 9/50\n",
            "50000/50000 [==============================] - 2s 39us/step - loss: 0.7135 - acc: 0.7536 - val_loss: 1.4859 - val_acc: 0.5267\n",
            "Epoch 10/50\n",
            "50000/50000 [==============================] - 2s 39us/step - loss: 0.6431 - acc: 0.7775 - val_loss: 1.5410 - val_acc: 0.5268\n",
            "Epoch 11/50\n",
            "50000/50000 [==============================] - 2s 40us/step - loss: 0.5790 - acc: 0.8018 - val_loss: 1.5881 - val_acc: 0.5211\n",
            "Epoch 12/50\n",
            "50000/50000 [==============================] - 2s 39us/step - loss: 0.5216 - acc: 0.8220 - val_loss: 1.6385 - val_acc: 0.5224\n",
            "Epoch 13/50\n",
            "50000/50000 [==============================] - 2s 40us/step - loss: 0.4684 - acc: 0.8396 - val_loss: 1.7296 - val_acc: 0.5135\n",
            "Epoch 14/50\n",
            "50000/50000 [==============================] - 2s 40us/step - loss: 0.4203 - acc: 0.8566 - val_loss: 1.8072 - val_acc: 0.5216\n",
            "Epoch 15/50\n",
            "50000/50000 [==============================] - 2s 39us/step - loss: 0.3758 - acc: 0.8721 - val_loss: 1.8210 - val_acc: 0.5314\n",
            "Epoch 16/50\n",
            "50000/50000 [==============================] - 2s 42us/step - loss: 0.3455 - acc: 0.8829 - val_loss: 1.8821 - val_acc: 0.5283\n",
            "Epoch 17/50\n",
            "50000/50000 [==============================] - 2s 38us/step - loss: 0.3066 - acc: 0.8969 - val_loss: 1.9279 - val_acc: 0.5343\n",
            "Epoch 18/50\n",
            "50000/50000 [==============================] - 2s 39us/step - loss: 0.2705 - acc: 0.9086 - val_loss: 2.0449 - val_acc: 0.5155\n",
            "Epoch 19/50\n",
            "50000/50000 [==============================] - 2s 39us/step - loss: 0.2477 - acc: 0.9160 - val_loss: 2.0812 - val_acc: 0.5219\n",
            "Epoch 20/50\n",
            "50000/50000 [==============================] - 2s 39us/step - loss: 0.2245 - acc: 0.9255 - val_loss: 2.1598 - val_acc: 0.5209\n",
            "Epoch 21/50\n",
            "50000/50000 [==============================] - 2s 41us/step - loss: 0.2066 - acc: 0.9326 - val_loss: 2.1726 - val_acc: 0.5202\n",
            "Epoch 22/50\n",
            "50000/50000 [==============================] - 2s 42us/step - loss: 0.1867 - acc: 0.9392 - val_loss: 2.2194 - val_acc: 0.5246\n",
            "Epoch 23/50\n",
            "50000/50000 [==============================] - 2s 43us/step - loss: 0.1739 - acc: 0.9428 - val_loss: 2.2796 - val_acc: 0.5249\n",
            "Epoch 24/50\n",
            "50000/50000 [==============================] - 2s 41us/step - loss: 0.1472 - acc: 0.9521 - val_loss: 2.3546 - val_acc: 0.5231\n",
            "Epoch 25/50\n",
            "50000/50000 [==============================] - 2s 40us/step - loss: 0.1409 - acc: 0.9538 - val_loss: 2.4009 - val_acc: 0.5251\n",
            "Epoch 26/50\n",
            "50000/50000 [==============================] - 2s 41us/step - loss: 0.1231 - acc: 0.9604 - val_loss: 2.4306 - val_acc: 0.5257\n",
            "Epoch 27/50\n",
            "50000/50000 [==============================] - 2s 41us/step - loss: 0.1096 - acc: 0.9652 - val_loss: 2.5036 - val_acc: 0.5244\n",
            "Epoch 28/50\n",
            "50000/50000 [==============================] - 2s 40us/step - loss: 0.0984 - acc: 0.9684 - val_loss: 2.5580 - val_acc: 0.5225\n",
            "Epoch 29/50\n",
            "50000/50000 [==============================] - 2s 40us/step - loss: 0.1006 - acc: 0.9674 - val_loss: 2.5842 - val_acc: 0.5179\n",
            "Epoch 30/50\n",
            "50000/50000 [==============================] - 2s 40us/step - loss: 0.0949 - acc: 0.9692 - val_loss: 2.6618 - val_acc: 0.5182\n",
            "Epoch 31/50\n",
            "50000/50000 [==============================] - 2s 39us/step - loss: 0.0910 - acc: 0.9703 - val_loss: 2.6589 - val_acc: 0.5262\n",
            "Epoch 32/50\n",
            "50000/50000 [==============================] - 2s 40us/step - loss: 0.0827 - acc: 0.9740 - val_loss: 2.6722 - val_acc: 0.5337\n",
            "Epoch 33/50\n",
            "50000/50000 [==============================] - 2s 39us/step - loss: 0.0808 - acc: 0.9734 - val_loss: 2.7053 - val_acc: 0.5297\n",
            "Epoch 34/50\n",
            "50000/50000 [==============================] - 2s 39us/step - loss: 0.0718 - acc: 0.9772 - val_loss: 2.7133 - val_acc: 0.5302\n",
            "Epoch 35/50\n",
            "50000/50000 [==============================] - 2s 40us/step - loss: 0.0534 - acc: 0.9841 - val_loss: 2.7844 - val_acc: 0.5291\n",
            "Epoch 36/50\n",
            "50000/50000 [==============================] - 2s 39us/step - loss: 0.0648 - acc: 0.9787 - val_loss: 2.7748 - val_acc: 0.5294\n",
            "Epoch 37/50\n",
            "50000/50000 [==============================] - 2s 40us/step - loss: 0.0571 - acc: 0.9825 - val_loss: 2.7725 - val_acc: 0.5307\n",
            "Epoch 38/50\n",
            "50000/50000 [==============================] - 2s 39us/step - loss: 0.0469 - acc: 0.9859 - val_loss: 2.8216 - val_acc: 0.5296\n",
            "Epoch 39/50\n",
            "50000/50000 [==============================] - 2s 40us/step - loss: 0.0487 - acc: 0.9854 - val_loss: 2.8598 - val_acc: 0.5325\n",
            "Epoch 40/50\n",
            "50000/50000 [==============================] - 2s 40us/step - loss: 0.0620 - acc: 0.9802 - val_loss: 2.8760 - val_acc: 0.5313\n",
            "Epoch 41/50\n",
            "50000/50000 [==============================] - 2s 40us/step - loss: 0.0593 - acc: 0.9811 - val_loss: 2.9181 - val_acc: 0.5315\n",
            "Epoch 42/50\n",
            "50000/50000 [==============================] - 2s 40us/step - loss: 0.0538 - acc: 0.9831 - val_loss: 2.9351 - val_acc: 0.5308\n",
            "Epoch 43/50\n",
            "50000/50000 [==============================] - 2s 38us/step - loss: 0.0513 - acc: 0.9841 - val_loss: 2.9495 - val_acc: 0.5356\n",
            "Epoch 44/50\n",
            "50000/50000 [==============================] - 2s 40us/step - loss: 0.0512 - acc: 0.9842 - val_loss: 2.9613 - val_acc: 0.5307\n",
            "Epoch 45/50\n",
            "50000/50000 [==============================] - 2s 40us/step - loss: 0.0407 - acc: 0.9879 - val_loss: 2.9559 - val_acc: 0.5340\n",
            "Epoch 46/50\n",
            "50000/50000 [==============================] - 2s 39us/step - loss: 0.0460 - acc: 0.9855 - val_loss: 2.9909 - val_acc: 0.5307\n",
            "Epoch 47/50\n",
            "50000/50000 [==============================] - 2s 39us/step - loss: 0.0361 - acc: 0.9896 - val_loss: 3.0506 - val_acc: 0.5325\n",
            "Epoch 48/50\n",
            "50000/50000 [==============================] - 2s 39us/step - loss: 0.0263 - acc: 0.9929 - val_loss: 3.0388 - val_acc: 0.5338\n",
            "Epoch 49/50\n",
            "50000/50000 [==============================] - 2s 40us/step - loss: 0.0189 - acc: 0.9953 - val_loss: 3.0328 - val_acc: 0.5377\n",
            "Epoch 50/50\n",
            "50000/50000 [==============================] - 2s 39us/step - loss: 0.0246 - acc: 0.9928 - val_loss: 3.0720 - val_acc: 0.5356\n"
          ],
          "name": "stdout"
        },
        {
          "output_type": "execute_result",
          "data": {
            "text/plain": [
              "<keras.callbacks.History at 0x7f44aa02ff98>"
            ]
          },
          "metadata": {
            "tags": []
          },
          "execution_count": 14
        }
      ]
    },
    {
      "cell_type": "code",
      "metadata": {
        "id": "JSyIMGmvrD47",
        "colab_type": "code",
        "colab": {
          "base_uri": "https://localhost:8080/",
          "height": 69
        },
        "outputId": "8fc32725-e566-4202-a7a0-4ca3f9c57cb2"
      },
      "source": [
        "# 預測test data的結果，用來和之後導入weights檔做比較\n",
        "print(f'Model evealuate x_test, y_test: {model.evaluate(x_test, y_test)}')\n",
        "\n",
        "# 看一下weights是否有儲存\n",
        "!ls"
      ],
      "execution_count": 15,
      "outputs": [
        {
          "output_type": "stream",
          "text": [
            "10000/10000 [==============================] - 1s 70us/step\n",
            "Model evealuate x_test, y_test: [3.071959114074707, 0.5356]\n",
            "best.h5  normal.h5  sample_data  weight_only.h5\n"
          ],
          "name": "stdout"
        }
      ]
    },
    {
      "cell_type": "code",
      "metadata": {
        "id": "vt7cUF7IrfZk",
        "colab_type": "code",
        "colab": {
          "base_uri": "https://localhost:8080/",
          "height": 52
        },
        "outputId": "2ca8bbd2-1e69-4a5a-d5ff-1cb0f3ef58d5"
      },
      "source": [
        "keras.backend.clear_session()\n",
        "model = build_mlp(x_train.shape[1:])\n",
        "model.load_weights('weight_only.h5')\n",
        "# 這邊導入weights還要進行compile不然無法預測\n",
        "model.compile(optimizer=opt, loss='categorical_crossentropy', metrics=['accuracy'])\n",
        "model.evaluate(x_test, y_test)"
      ],
      "execution_count": 16,
      "outputs": [
        {
          "output_type": "stream",
          "text": [
            "10000/10000 [==============================] - 1s 73us/step\n"
          ],
          "name": "stdout"
        },
        {
          "output_type": "execute_result",
          "data": {
            "text/plain": [
              "[3.071959114074707, 0.5356]"
            ]
          },
          "metadata": {
            "tags": []
          },
          "execution_count": 16
        }
      ]
    },
    {
      "cell_type": "markdown",
      "metadata": {
        "id": "47Zpg4NfoG8_",
        "colab_type": "text"
      },
      "source": [
        "### Result\n",
        "- 請僅存入將 save_weights_only 設定為 True, 並嘗試 reset ipynb 並將模型與權重重新建回並預測 x_test\n",
        "***\n",
        "- save_weights_only=True只會儲存weights；若save_weights_only=False則會儲存整個model。\n",
        "- 在這邊我們儲存model或weights的方式是透過fit時，加入callbacks的指令來進行，但我們也可以在fit完後，再進行model.save將整個模型儲存，另外也可透過model.save_weights單純存取weights。\n",
        "- Model checkpoint 可以根據隨時將模型存下來，如此可以保證：\n",
        "  1. 假如不幸訓練意外中斷，前面的訓練也不會白費。我們可以從最近的一次繼續重新開始\n",
        "  2. 我們可以透過監控validation loss來保證所存下來的模型是在validation set表現最好的一個。"
      ]
    }
  ]
}