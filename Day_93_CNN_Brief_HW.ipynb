{
  "nbformat": 4,
  "nbformat_minor": 0,
  "metadata": {
    "kernelspec": {
      "display_name": "Python 3",
      "language": "python",
      "name": "python3"
    },
    "language_info": {
      "codemirror_mode": {
        "name": "ipython",
        "version": 3
      },
      "file_extension": ".py",
      "mimetype": "text/x-python",
      "name": "python",
      "nbconvert_exporter": "python",
      "pygments_lexer": "ipython3",
      "version": "3.6.8"
    },
    "colab": {
      "name": "Day_93-CNN_Brief_HW.ipynb",
      "provenance": [],
      "collapsed_sections": [],
      "include_colab_link": true
    }
  },
  "cells": [
    {
      "cell_type": "markdown",
      "metadata": {
        "id": "view-in-github",
        "colab_type": "text"
      },
      "source": [
        "<a href=\"https://colab.research.google.com/github/chunyuan0221/3rd-ML100days/blob/master/Day_93_CNN_Brief_HW.ipynb\" target=\"_parent\"><img src=\"https://colab.research.google.com/assets/colab-badge.svg\" alt=\"Open In Colab\"/></a>"
      ]
    },
    {
      "cell_type": "markdown",
      "metadata": {
        "id": "2NgoH_SBXaEg",
        "colab_type": "text"
      },
      "source": [
        "# 作業目標:\n",
        "    運用 Keras 模組建構CNN, 了解 CNN 的架構\n",
        "    \n",
        "    "
      ]
    },
    {
      "cell_type": "markdown",
      "metadata": {
        "id": "v7Isgi1kXaEh",
        "colab_type": "text"
      },
      "source": [
        "# 作業重點\n",
        "(1)嘗試比對 Dense 與 layers.Conv2D 架構NN 的差異\n",
        "\n",
        "(2) 有沒有Pooling layer, 對於參數量的差異\n",
        "\n",
        "注意: input_shape 請勿修改"
      ]
    },
    {
      "cell_type": "code",
      "metadata": {
        "id": "3IYEiKB2XaEj",
        "colab_type": "code",
        "colab": {
          "base_uri": "https://localhost:8080/",
          "height": 99
        },
        "outputId": "32fe46bc-e304-4572-8d69-974276264f67"
      },
      "source": [
        "#導入相關模組\n",
        "import keras\n",
        "from keras import layers\n",
        "from keras import models\n",
        "from keras.models import Sequential\n",
        "from keras.layers import Conv2D, Activation, MaxPooling2D, Flatten, Dense\n",
        "import tensorflow as tf\n",
        "tf.compat.v1.logging.set_verbosity(tf.compat.v1.logging.ERROR)\n",
        "#確認keras 版本\n",
        "print(keras.__version__)"
      ],
      "execution_count": 1,
      "outputs": [
        {
          "output_type": "stream",
          "text": [
            "Using TensorFlow backend.\n"
          ],
          "name": "stderr"
        },
        {
          "output_type": "display_data",
          "data": {
            "text/html": [
              "<p style=\"color: red;\">\n",
              "The default version of TensorFlow in Colab will soon switch to TensorFlow 2.x.<br>\n",
              "We recommend you <a href=\"https://www.tensorflow.org/guide/migrate\" target=\"_blank\">upgrade</a> now \n",
              "or ensure your notebook will continue to use TensorFlow 1.x via the <code>%tensorflow_version 1.x</code> magic:\n",
              "<a href=\"https://colab.research.google.com/notebooks/tensorflow_version.ipynb\" target=\"_blank\">more info</a>.</p>\n"
            ],
            "text/plain": [
              "<IPython.core.display.HTML object>"
            ]
          },
          "metadata": {
            "tags": []
          }
        },
        {
          "output_type": "stream",
          "text": [
            "2.2.5\n"
          ],
          "name": "stdout"
        }
      ]
    },
    {
      "cell_type": "code",
      "metadata": {
        "id": "0gTWKWo7o-UN",
        "colab_type": "code",
        "colab": {}
      },
      "source": [
        "input_shape = (28, 28, 1)"
      ],
      "execution_count": 0,
      "outputs": []
    },
    {
      "cell_type": "markdown",
      "metadata": {
        "id": "PAXOrTlnvpt3",
        "colab_type": "text"
      },
      "source": [
        "### 建立一般的神經網路(NN)\n",
        "***\n",
        "- 三種方法"
      ]
    },
    {
      "cell_type": "code",
      "metadata": {
        "id": "V16PCSNZXaEn",
        "colab_type": "code",
        "colab": {
          "base_uri": "https://localhost:8080/",
          "height": 260
        },
        "outputId": "8d304268-dd37-422d-b26b-a8cd142e60cc"
      },
      "source": [
        "input_layer = keras.layers.Input(shape=input_shape)\n",
        "x = Dense(units=100, activation='relu')(input_layer)\n",
        "out = Dense(units=10, activation='softmax')(x)\n",
        "NN_model = keras.models.Model(inputs=[input_layer], outputs=[out])\n",
        "NN_model.summary()"
      ],
      "execution_count": 3,
      "outputs": [
        {
          "output_type": "stream",
          "text": [
            "Model: \"model_1\"\n",
            "_________________________________________________________________\n",
            "Layer (type)                 Output Shape              Param #   \n",
            "=================================================================\n",
            "input_1 (InputLayer)         (None, 28, 28, 1)         0         \n",
            "_________________________________________________________________\n",
            "dense_1 (Dense)              (None, 28, 28, 100)       200       \n",
            "_________________________________________________________________\n",
            "dense_2 (Dense)              (None, 28, 28, 10)        1010      \n",
            "=================================================================\n",
            "Total params: 1,210\n",
            "Trainable params: 1,210\n",
            "Non-trainable params: 0\n",
            "_________________________________________________________________\n"
          ],
          "name": "stdout"
        }
      ]
    },
    {
      "cell_type": "code",
      "metadata": {
        "id": "KLSk96Ewutv5",
        "colab_type": "code",
        "colab": {
          "base_uri": "https://localhost:8080/",
          "height": 225
        },
        "outputId": "c2fd5055-ab98-4c78-c548-ef3158e4366f"
      },
      "source": [
        "NN_model = Sequential()\n",
        "NN_model.add(Dense(units=100, activation='relu', input_shape=(28, 28, 1)))\n",
        "NN_model.add(Dense(units=10, activation='softmax'))\n",
        "NN_model.summary()"
      ],
      "execution_count": 4,
      "outputs": [
        {
          "output_type": "stream",
          "text": [
            "Model: \"sequential_1\"\n",
            "_________________________________________________________________\n",
            "Layer (type)                 Output Shape              Param #   \n",
            "=================================================================\n",
            "dense_3 (Dense)              (None, 28, 28, 100)       200       \n",
            "_________________________________________________________________\n",
            "dense_4 (Dense)              (None, 28, 28, 10)        1010      \n",
            "=================================================================\n",
            "Total params: 1,210\n",
            "Trainable params: 1,210\n",
            "Non-trainable params: 0\n",
            "_________________________________________________________________\n"
          ],
          "name": "stdout"
        }
      ]
    },
    {
      "cell_type": "code",
      "metadata": {
        "id": "16W6xGPjuSrM",
        "colab_type": "code",
        "colab": {
          "base_uri": "https://localhost:8080/",
          "height": 295
        },
        "outputId": "96a5a1a7-ed48-4c6b-e53b-79c39e1e275d"
      },
      "source": [
        "model = Sequential([Dense(units=100, input_shape=input_shape),\n",
        "                    Activation('relu'),\n",
        "                    Dense(units=10),\n",
        "                    Activation('softmax')])\n",
        "model.summary()"
      ],
      "execution_count": 5,
      "outputs": [
        {
          "output_type": "stream",
          "text": [
            "Model: \"sequential_2\"\n",
            "_________________________________________________________________\n",
            "Layer (type)                 Output Shape              Param #   \n",
            "=================================================================\n",
            "dense_5 (Dense)              (None, 28, 28, 100)       200       \n",
            "_________________________________________________________________\n",
            "activation_1 (Activation)    (None, 28, 28, 100)       0         \n",
            "_________________________________________________________________\n",
            "dense_6 (Dense)              (None, 28, 28, 10)        1010      \n",
            "_________________________________________________________________\n",
            "activation_2 (Activation)    (None, 28, 28, 10)        0         \n",
            "=================================================================\n",
            "Total params: 1,210\n",
            "Trainable params: 1,210\n",
            "Non-trainable params: 0\n",
            "_________________________________________________________________\n"
          ],
          "name": "stdout"
        }
      ]
    },
    {
      "cell_type": "markdown",
      "metadata": {
        "id": "oYddNALkXaEr",
        "colab_type": "text"
      },
      "source": [
        "# layers.Conv2D 模型, 用作比對\n",
        "\n",
        "![CNN_Model.png](attachment:CNN_Model.png)\n",
        "\n"
      ]
    },
    {
      "cell_type": "code",
      "metadata": {
        "id": "eUPyPrScXaEs",
        "colab_type": "code",
        "colab": {
          "base_uri": "https://localhost:8080/",
          "height": 399
        },
        "outputId": "d2279599-6370-4f71-eb1c-39bb3e565ea0"
      },
      "source": [
        "#建立一個序列模型\n",
        "model = models.Sequential()\n",
        "\n",
        "#建立兩個卷績層, 32 個內核, 內核大小 3x3, \n",
        "#輸入影像大小 28x28x1\n",
        "model.add(Conv2D(32, (3, 3), input_shape=input_shape))\n",
        "model.add(Conv2D(32, (3, 3)))\n",
        "\n",
        "#建立平坦層，打成1維\n",
        "model.add(Flatten())\n",
        "\n",
        "#建立一個全連接層\n",
        "model.add(Dense(units=100))\n",
        "model.add(Activation('relu'))\n",
        "\n",
        "#建立一個輸出層, 並採用softmax\n",
        "model.add(Dense(units=10))\n",
        "model.add(Activation('softmax'))\n",
        "\n",
        "model.summary()"
      ],
      "execution_count": 6,
      "outputs": [
        {
          "output_type": "stream",
          "text": [
            "Model: \"sequential_3\"\n",
            "_________________________________________________________________\n",
            "Layer (type)                 Output Shape              Param #   \n",
            "=================================================================\n",
            "conv2d_1 (Conv2D)            (None, 26, 26, 32)        320       \n",
            "_________________________________________________________________\n",
            "conv2d_2 (Conv2D)            (None, 24, 24, 32)        9248      \n",
            "_________________________________________________________________\n",
            "flatten_1 (Flatten)          (None, 18432)             0         \n",
            "_________________________________________________________________\n",
            "dense_7 (Dense)              (None, 100)               1843300   \n",
            "_________________________________________________________________\n",
            "activation_3 (Activation)    (None, 100)               0         \n",
            "_________________________________________________________________\n",
            "dense_8 (Dense)              (None, 10)                1010      \n",
            "_________________________________________________________________\n",
            "activation_4 (Activation)    (None, 10)                0         \n",
            "=================================================================\n",
            "Total params: 1,853,878\n",
            "Trainable params: 1,853,878\n",
            "Non-trainable params: 0\n",
            "_________________________________________________________________\n"
          ],
          "name": "stdout"
        }
      ]
    },
    {
      "cell_type": "markdown",
      "metadata": {
        "id": "DbvACYSrwAa0",
        "colab_type": "text"
      },
      "source": [
        "### 加入Pooling比較參數量\n"
      ]
    },
    {
      "cell_type": "code",
      "metadata": {
        "id": "JG4ryJxGsxoi",
        "colab_type": "code",
        "colab": {
          "base_uri": "https://localhost:8080/",
          "height": 468
        },
        "outputId": "baf857bc-1302-44e9-99bc-ae6d0170cb3e"
      },
      "source": [
        "#建立一個序列模型\n",
        "model = models.Sequential()\n",
        "\n",
        "#建立兩個卷績層, 32 個內核, 內核大小 3x3, \n",
        "#輸入影像大小 28x28x1\n",
        "model.add(Conv2D(32, (3, 3), input_shape=input_shape))\n",
        "model.add(MaxPooling2D(pool_size=(2, 2)))\n",
        "model.add(Conv2D(32, (3, 3)))\n",
        "model.add(MaxPooling2D(pool_size=(2, 2)))\n",
        "\n",
        "#建立平坦層，打成1維\n",
        "model.add(Flatten())\n",
        "\n",
        "#建立一個全連接層\n",
        "model.add(Dense(units=100))\n",
        "model.add(Activation('relu'))\n",
        "\n",
        "#建立一個輸出層, 並採用softmax\n",
        "model.add(Dense(units=10))\n",
        "model.add(Activation('softmax'))\n",
        "\n",
        "model.summary()"
      ],
      "execution_count": 7,
      "outputs": [
        {
          "output_type": "stream",
          "text": [
            "Model: \"sequential_4\"\n",
            "_________________________________________________________________\n",
            "Layer (type)                 Output Shape              Param #   \n",
            "=================================================================\n",
            "conv2d_3 (Conv2D)            (None, 26, 26, 32)        320       \n",
            "_________________________________________________________________\n",
            "max_pooling2d_1 (MaxPooling2 (None, 13, 13, 32)        0         \n",
            "_________________________________________________________________\n",
            "conv2d_4 (Conv2D)            (None, 11, 11, 32)        9248      \n",
            "_________________________________________________________________\n",
            "max_pooling2d_2 (MaxPooling2 (None, 5, 5, 32)          0         \n",
            "_________________________________________________________________\n",
            "flatten_2 (Flatten)          (None, 800)               0         \n",
            "_________________________________________________________________\n",
            "dense_9 (Dense)              (None, 100)               80100     \n",
            "_________________________________________________________________\n",
            "activation_5 (Activation)    (None, 100)               0         \n",
            "_________________________________________________________________\n",
            "dense_10 (Dense)             (None, 10)                1010      \n",
            "_________________________________________________________________\n",
            "activation_6 (Activation)    (None, 10)                0         \n",
            "=================================================================\n",
            "Total params: 90,678\n",
            "Trainable params: 90,678\n",
            "Non-trainable params: 0\n",
            "_________________________________________________________________\n"
          ],
          "name": "stdout"
        }
      ]
    },
    {
      "cell_type": "markdown",
      "metadata": {
        "id": "lUuOwoxzw5Qi",
        "colab_type": "text"
      },
      "source": [
        "### Result\n",
        "1. 嘗試比對 Dense 與 layers.Conv2D 架構NN 的差異\n",
        "\n",
        "2. 有沒有Pooling layer, 對於參數量的差異\n",
        "***\n",
        "1. 加入Conv2D的參數量比沒加入的多了不少參數，運算如下:\n",
        "  - 前言 : 參數量指的是權重(weights)+偏移值(bias)\n",
        "  - Conv2D : input_image會與filter進行converlution，在共享權重下:\n",
        "          初始input_image shape = (28, 28, 1)\n",
        "          weights = (3*3) * 32 = 288\n",
        "          bias = 32\n",
        "          total params = 288 + 32 = 320\n",
        "\n",
        "          做完第一次Conv2D後，image shape = (26, 26, 32)\n",
        "          weights = image_depth * filter_size * filter_number\n",
        "                  = 32 * (3*3) * 32 = 9216\n",
        "          bias = filter_number = 32\n",
        "          total params = 9216 + 32 = 9248\n",
        "\n",
        "2. 當Pooling_size=(2x2)，Pooling layer做的事情只是從這(2x2)框框內取一個最大或平均值出來，因此：\n",
        "  - 在Pooling layer並不會產生參數，但會改變圖片大小(image_shape)\n",
        "  - 因為做了Pooling讓圖片變小，對之後進行扁平層時減少了大量資料，因此在後面做權連接層上卻可以減少不少參數。\n",
        "          我由上面的程式來看:\n",
        "          1. 在2次Conv2D後 : image_shape = (24, 24, 32)\n",
        "          2. 進行Flatten後 : image_shape = (None, 18432)\n",
        "          我們在跳掉加入Pooling的情況下來看:\n",
        "          1. 在第2次Pooling後 : image_shape = (5, 5, 32)\n",
        "          2. 進行Flatten後 : image_shape = (None, 800)\n",
        "          **這時候我們可以看到，由於做了Pooling讓圖片變小，我們將圖片轉成1維後的資料量變少，相對的在後面的訓練上可以減少不少params(weights+bias)**\n",
        "\n",
        "\n"
      ]
    }
  ]
}