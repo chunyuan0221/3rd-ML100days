{
  "nbformat": 4,
  "nbformat_minor": 0,
  "metadata": {
    "kernelspec": {
      "display_name": "Python 3",
      "language": "python",
      "name": "python3"
    },
    "language_info": {
      "codemirror_mode": {
        "name": "ipython",
        "version": 3
      },
      "file_extension": ".py",
      "mimetype": "text/x-python",
      "name": "python",
      "nbconvert_exporter": "python",
      "pygments_lexer": "ipython3",
      "version": "3.6.8"
    },
    "colab": {
      "name": "Day_095-CNN_Pooling_Padding_HW.ipynb",
      "provenance": [],
      "collapsed_sections": [],
      "include_colab_link": true
    }
  },
  "cells": [
    {
      "cell_type": "markdown",
      "metadata": {
        "id": "view-in-github",
        "colab_type": "text"
      },
      "source": [
        "<a href=\"https://colab.research.google.com/github/chunyuan0221/3rd-ML100days/blob/master/Day_095_CNN_Pooling_Padding_HW.ipynb\" target=\"_parent\"><img src=\"https://colab.research.google.com/assets/colab-badge.svg\" alt=\"Open In Colab\"/></a>"
      ]
    },
    {
      "cell_type": "markdown",
      "metadata": {
        "id": "vTtTG302AmF_",
        "colab_type": "text"
      },
      "source": [
        "# 作業目標:\n",
        "  - 了解 Padding 的作法\n",
        "  - 了解 Pooling 的作法"
      ]
    },
    {
      "cell_type": "markdown",
      "metadata": {
        "id": "0I07j-8sAmGE",
        "colab_type": "text"
      },
      "source": [
        "# 作業重點:\n",
        "  - 調整Padding 的設定, 看 Pad 後的結果\n",
        "  - 調整Pooling 的設定, 看 Pooling 後的結果"
      ]
    },
    {
      "cell_type": "code",
      "metadata": {
        "id": "vd7MdE-NAmGJ",
        "colab_type": "code",
        "colab": {}
      },
      "source": [
        "import numpy as np\n",
        "import h5py\n",
        "import matplotlib.pyplot as plt\n",
        "\n",
        "# 繪圖結果直接顯示在Jupyter cell 之內\n",
        "%matplotlib inline  \n",
        "plt.rcParams['figure.figsize'] = (5.0, 4.0) #  設定繪圖板的大小\n",
        "plt.rcParams['image.interpolation'] = 'nearest'\n",
        "plt.rcParams['image.cmap'] = 'gray'\n",
        "\n",
        "# autoreload。可以讓我們不退出IPython就動態修改代碼，在執行代碼前IPython會幫我們自動重載改動的模塊\n",
        "%load_ext autoreload\n",
        "%autoreload 2\n",
        "np.random.seed(1)"
      ],
      "execution_count": 0,
      "outputs": []
    },
    {
      "cell_type": "markdown",
      "metadata": {
        "id": "AW0kjq3n4Uuz",
        "colab_type": "text"
      },
      "source": [
        "- padding時，周圍填的值需要設定 : \n",
        "  1. constant_values=0 : 灰階\n",
        "  2. constant_values=1 : 基本上應該是白色(但這邊不是)\n",
        "  3. constant_values=-1 : 黑色\n",
        "  4. 有時候我們會做正規化(影像value / 255)，這時候圖片就會介於0~1之間，也就成了灰階\n"
      ]
    },
    {
      "cell_type": "code",
      "metadata": {
        "id": "32SNDI7sAmGO",
        "colab_type": "code",
        "colab": {}
      },
      "source": [
        "# GRADED FUNCTION: zero_pad\n",
        "def zero_pad(X, pad):\n",
        "    \"\"\"\n",
        "    對image X 做 zero-padding. \n",
        "    參數定義如下:\n",
        "    X -- python numpy array, 呈現維度 (m, n_H, n_W, n_C), 代表一批 m 個圖像\n",
        "         n_H: 圖高, n_W: 圖寬, n_C: color channels 數\n",
        "    pad -- 整數, 加幾圈的 zero padding.\n",
        "    Returns:\n",
        "    X_pad -- image of shape (m, n_H + 2*pad, n_W + 2*pad, n_C) 做完zero-padding 的結果\n",
        "    \"\"\"\n",
        "    \n",
        "    X_pad = np.pad(X, ((0, 0), (pad, pad), (pad, pad), (0, 0)), 'constant', constant_values=(0, 0))\n",
        "  \n",
        "    return X_pad"
      ],
      "execution_count": 0,
      "outputs": []
    },
    {
      "cell_type": "code",
      "metadata": {
        "id": "wqn0s3HKAmGR",
        "colab_type": "code",
        "colab": {
          "base_uri": "https://localhost:8080/",
          "height": 399
        },
        "outputId": "b2f92134-bdf1-49e4-9627-6efc21f1a43a"
      },
      "source": [
        "#作業修改\n",
        "np.random.seed(1)\n",
        "x = np.random.randn(2, 3, 3, 3)\n",
        "x_pad = zero_pad(x, 2)\n",
        "\n",
        "print (\"x.shape =\", x.shape)\n",
        "print (\"x_pad.shape =\", x_pad.shape)\n",
        "print (\"x[1,1] =\", x[1,1])\n",
        "print (\"x_pad[1,1] =\", x_pad[1,1])\n",
        "fig, axarr = plt.subplots(1, 2)\n",
        "axarr[0].set_title('x')\n",
        "axarr[0].imshow(x[0,:,:,0])\n",
        "axarr[1].set_title('x_pad')\n",
        "axarr[1].imshow(x_pad[0,:,:,0])\n",
        "plt.show()"
      ],
      "execution_count": 3,
      "outputs": [
        {
          "output_type": "stream",
          "text": [
            "x.shape = (2, 3, 3, 3)\n",
            "x_pad.shape = (2, 7, 7, 3)\n",
            "x[1,1] = [[-1.11731035  0.2344157   1.65980218]\n",
            " [ 0.74204416 -0.19183555 -0.88762896]\n",
            " [-0.74715829  1.6924546   0.05080775]]\n",
            "x_pad[1,1] = [[0. 0. 0.]\n",
            " [0. 0. 0.]\n",
            " [0. 0. 0.]\n",
            " [0. 0. 0.]\n",
            " [0. 0. 0.]\n",
            " [0. 0. 0.]\n",
            " [0. 0. 0.]]\n"
          ],
          "name": "stdout"
        },
        {
          "output_type": "display_data",
          "data": {
            "image/png": "[encoded data removed]",
            "text/plain": [
              "<Figure size 360x288 with 2 Axes>"
            ]
          },
          "metadata": {
            "tags": []
          }
        }
      ]
    },
    {
      "cell_type": "code",
      "metadata": {
        "id": "kt9j9qDQAmGU",
        "colab_type": "code",
        "colab": {}
      },
      "source": [
        "# GRADED FUNCTION: pool_forward\n",
        "def pool_forward(A_prev, hparameters, mode = \"max\"):\n",
        "    \"\"\"\n",
        "    設計一個前行網路的池化層\n",
        "    參數定義如下:\n",
        "    A_prev -- 輸入的numpy 陣列, 維度 (m, n_H_prev, n_W_prev, n_C_prev)\n",
        "    hparameter 超參數 --  \"f\" and \"stride\" 所形成的python 字典\n",
        "    \"f\" -- pooling filter的size\n",
        "    \"stride\" -- stride平移步伐大小\n",
        "    mode -- 池化的模式: \"max\" or \"average\"\n",
        "    \n",
        "    返回:\n",
        "        A -- 輸出的池化層, 維度為 (m, n_H, n_W, n_C) 的 numpy 陣列\n",
        "        cache -- 可以應用在 backward pass pooling layer 資料, 包含 input and hparameter\n",
        "    \"\"\"\n",
        "\n",
        "    # 檢索尺寸 from the input shape\n",
        "    (m, n_H_prev, n_W_prev, n_C_prev) = A_prev.shape\n",
        " \n",
        "    # 檢索超參數 from \"hparameters\"\n",
        "    f = hparameters[\"f\"]\n",
        "    stride = hparameters[\"stride\"]\n",
        "\n",
        "    # 定義輸出的dimensions\n",
        "    n_H = int(1 + (n_H_prev - f) / stride)\n",
        "    n_W = int(1 + (n_W_prev - f) / stride)\n",
        "    n_C = n_C_prev\n",
        "\n",
        "    # 初始化輸出的 matrix A\n",
        "    A = np.zeros((m, n_H, n_W, n_C))\n",
        "\n",
        "    ### 程式起始位置  ###\n",
        "    for i in range(m): # 訓練樣本的for 迴圈\n",
        "        for h in range(n_H): # 輸出樣本的for 迴圈, 針對vertical axis\n",
        "            for w in range(n_W): #  輸出樣本的for 迴圈, 針對 horizontal axis\n",
        "                for c in range (n_C): #  輸出樣本的for 迴圈, 針對channels\n",
        "\n",
        "                     # 找出特徵圖的寬度跟高度四個點\n",
        "                    vert_start = h * stride\n",
        "                    vert_end = h * stride+ f\n",
        "                    horiz_start = w * stride\n",
        "                    horiz_end = w * stride + f\n",
        "\n",
        "                    # 定義第i個訓練示例\n",
        "                    a_prev_slice = A_prev[i, vert_start:vert_end, horiz_start:horiz_end,c]\n",
        "\n",
        "                    # 計算輸入data 的池化結果. 使用 if statment 去做分類\n",
        "                    if mode == \"max\":\n",
        "                        A[i, h, w, c] = np.max(a_prev_slice)\n",
        "                    elif mode == \"average\":\n",
        "                        A[i, h, w, c] = np.mean(a_prev_slice)\n",
        "\n",
        "                        ### 程式結束  ###\n",
        "    \n",
        "    # 儲存輸入的特徵圖跟所設定的超參數, 可以用在 pool_backward()\n",
        "    cache = (A_prev, hparameters)\n",
        "    \n",
        "    # 確認輸出的資料維度\n",
        "    assert(A.shape == (m, n_H, n_W, n_C))\n",
        "    return A, cache"
      ],
      "execution_count": 0,
      "outputs": []
    },
    {
      "cell_type": "code",
      "metadata": {
        "id": "kn73UdwKAmGZ",
        "colab_type": "code",
        "colab": {
          "base_uri": "https://localhost:8080/",
          "height": 1000
        },
        "outputId": "a215a068-d1d1-4e13-a999-43a4be3a93d8"
      },
      "source": [
        "#作業修改\n",
        "np.random.seed(1)\n",
        "A_prev = x_pad\n",
        "hparameters = {'stride':1, 'f':3}\n",
        "\n",
        "A_max, cache = pool_forward(A_prev, hparameters)\n",
        "print(\"mode = max\")\n",
        "print(\"A =\", A_max)\n",
        "\n",
        "plt.show()\n",
        "print()\n",
        "\n",
        "A_average, cache = pool_forward(A_prev, hparameters, mode = \"average\")\n",
        "print(\"mode = average\")\n",
        "print(\"A =\", A_average)\n",
        "\n",
        "fig, ax = plt.subplots(1, 2)\n",
        "ax[0].set_title(\"Max pooling\")\n",
        "ax[0].imshow(A_max[0,:,:,0])\n",
        "ax[1].set_title('Average pooling')\n",
        "ax[1].imshow(A_average[0,:,:,0])\n",
        "plt.show()"
      ],
      "execution_count": 5,
      "outputs": [
        {
          "output_type": "stream",
          "text": [
            "mode = max\n",
            "A = [[[[1.62434536 0.         0.        ]\n",
            "   [1.62434536 0.86540763 0.        ]\n",
            "   [1.74481176 0.86540763 0.3190391 ]\n",
            "   [1.74481176 0.86540763 0.3190391 ]\n",
            "   [1.74481176 0.         0.3190391 ]]\n",
            "\n",
            "  [[1.62434536 1.46210794 0.        ]\n",
            "   [1.62434536 1.46210794 1.13376944]\n",
            "   [1.74481176 1.46210794 1.13376944]\n",
            "   [1.74481176 0.86540763 1.13376944]\n",
            "   [1.74481176 0.         0.3190391 ]]\n",
            "\n",
            "  [[1.62434536 1.46210794 0.        ]\n",
            "   [1.62434536 1.46210794 1.13376944]\n",
            "   [1.74481176 1.46210794 1.13376944]\n",
            "   [1.74481176 0.90159072 1.13376944]\n",
            "   [1.74481176 0.         0.3190391 ]]\n",
            "\n",
            "  [[0.04221375 1.46210794 0.        ]\n",
            "   [1.14472371 1.46210794 1.13376944]\n",
            "   [1.14472371 1.46210794 1.13376944]\n",
            "   [1.14472371 0.90159072 1.13376944]\n",
            "   [0.90085595 0.         0.        ]]\n",
            "\n",
            "  [[0.04221375 0.58281521 0.        ]\n",
            "   [1.14472371 0.90159072 0.50249434]\n",
            "   [1.14472371 0.90159072 0.50249434]\n",
            "   [1.14472371 0.90159072 0.50249434]\n",
            "   [0.90085595 0.         0.        ]]]\n",
            "\n",
            "\n",
            " [[[0.         0.         0.53035547]\n",
            "   [0.         0.         0.53035547]\n",
            "   [0.         0.         0.53035547]\n",
            "   [0.         0.         0.        ]\n",
            "   [0.         0.         0.        ]]\n",
            "\n",
            "  [[0.         0.2344157  1.65980218]\n",
            "   [0.74204416 0.2344157  1.65980218]\n",
            "   [0.74204416 1.6924546  1.65980218]\n",
            "   [0.74204416 1.6924546  0.05080775]\n",
            "   [0.         1.6924546  0.05080775]]\n",
            "\n",
            "  [[0.         0.2344157  2.10025514]\n",
            "   [0.74204416 0.61720311 2.10025514]\n",
            "   [0.74204416 1.6924546  2.10025514]\n",
            "   [0.74204416 1.6924546  0.30017032]\n",
            "   [0.         1.6924546  0.05080775]]\n",
            "\n",
            "  [[0.         0.2344157  2.10025514]\n",
            "   [0.74204416 0.61720311 2.10025514]\n",
            "   [0.74204416 1.6924546  2.10025514]\n",
            "   [0.74204416 1.6924546  0.30017032]\n",
            "   [0.         1.6924546  0.05080775]]\n",
            "\n",
            "  [[0.         0.19091548 2.10025514]\n",
            "   [0.12015895 0.61720311 2.10025514]\n",
            "   [0.12015895 0.61720311 2.10025514]\n",
            "   [0.12015895 0.61720311 0.30017032]\n",
            "   [0.         0.         0.        ]]]]\n",
            "\n",
            "mode = average\n",
            "A = [[[[ 0.18048282 -0.06797293 -0.05868575]\n",
            "   [ 0.06126408  0.02818347 -0.31441227]\n",
            "   [ 0.25513206 -0.05639508 -0.27896348]\n",
            "   [ 0.07464924  0.01157786 -0.22027773]\n",
            "   [ 0.19386797 -0.08457854  0.03544879]]\n",
            "\n",
            "  [[ 0.152775    0.0944835  -0.28759027]\n",
            "   [-0.00226787  0.1479672  -0.41734241]\n",
            "   [ 0.06938996  0.04422997 -0.47943345]\n",
            "   [-0.08338504 -0.05025354 -0.19184318]\n",
            "   [ 0.07165783 -0.10373723 -0.06209104]]\n",
            "\n",
            "  [[ 0.15746541  0.15924075 -0.40988129]\n",
            "   [ 0.12961407  0.31290119 -0.48380073]\n",
            "   [ 0.30136701  0.1331942  -0.55954623]\n",
            "   [ 0.14390159 -0.02604655 -0.14966494]\n",
            "   [ 0.17175294 -0.179707   -0.07574551]]\n",
            "\n",
            "  [[-0.0230174   0.22721368 -0.35119554]\n",
            "   [ 0.06834999  0.28471772 -0.16938846]\n",
            "   [ 0.04623495  0.18958927 -0.28058275]\n",
            "   [ 0.06925235 -0.03762441  0.07061279]\n",
            "   [-0.02211504 -0.09512845 -0.11119429]]\n",
            "\n",
            "  [[ 0.00469042  0.06475725 -0.12229102]\n",
            "   [ 0.13188194  0.16493399 -0.06645832]\n",
            "   [ 0.23197705  0.08896423 -0.08011278]\n",
            "   [ 0.22728663  0.02420698  0.04217823]\n",
            "   [ 0.10009511 -0.07596976 -0.01365447]]]\n",
            "\n",
            "\n",
            " [[[-0.10397438 -0.02976534  0.05892839]\n",
            "   [-0.18082558 -0.07384907 -0.01742414]\n",
            "   [-0.27473731 -0.14843197 -0.01883131]\n",
            "   [-0.17076293 -0.11866663 -0.0777597 ]\n",
            "   [-0.09391174 -0.0745829  -0.00140718]]\n",
            "\n",
            "  [[-0.22811998 -0.00371915  0.24335085]\n",
            "   [-0.22252182 -0.06911794  0.06837289]\n",
            "   [-0.39945115  0.04434967  0.07261102]\n",
            "   [-0.17133117  0.04806882 -0.17073983]\n",
            "   [-0.17692933  0.11346761  0.00423813]]\n",
            "\n",
            "  [[-0.29889727  0.01749368  0.47671253]\n",
            "   [-0.27994812  0.02067301  0.33508683]\n",
            "   [-0.49601632  0.00719416  0.3005091 ]\n",
            "   [-0.19711905 -0.01029952 -0.17620343]\n",
            "   [-0.2160682  -0.01347886 -0.03457773]]\n",
            "\n",
            "  [[-0.19492289  0.04725902  0.41778415]\n",
            "   [-0.09912254  0.09452208  0.35251096]\n",
            "   [-0.221279    0.15562613  0.31934041]\n",
            "   [-0.02635611  0.10836711 -0.09844373]\n",
            "   [-0.12215646  0.06110404 -0.03317055]]\n",
            "\n",
            "  [[-0.07077729  0.02121283  0.23336168]\n",
            "   [-0.0574263   0.08979095  0.26671394]\n",
            "   [-0.09656517 -0.03715551  0.22789808]\n",
            "   [-0.02578788 -0.05836834 -0.0054636 ]\n",
            "   [-0.03913887 -0.12694647 -0.03881586]]]]\n"
          ],
          "name": "stdout"
        },
        {
          "output_type": "display_data",
          "data": {
            "image/png": "[encoded data removed]",
            "text/plain": [
              "<Figure size 360x288 with 2 Axes>"
            ]
          },
          "metadata": {
            "tags": []
          }
        }
      ]
    }
  ]
}