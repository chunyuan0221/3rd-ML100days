{
 "cells": [
  {
   "cell_type": "markdown",
   "metadata": {},
   "source": [
    "# 作業目標:\n",
    "\n",
    "    通過建立多層的神經網路, 了解權值矩陣更新"
   ]
  },
  {
   "cell_type": "markdown",
   "metadata": {},
   "source": [
    "# 作業重點: \n",
    "\n",
    "3  層神經網路\n",
    "\n",
    "通過增加更多的中間層，以對更多關係的組合進行建模\n",
    "\n",
    "syn1 權值矩陣將隱層的組合輸出映射到最終結果，\n",
    "\n",
    "而在更新 syn1 的同時，還需要更新 syn0 權值矩陣，\n",
    "\n",
    "以從輸入資料中更好地產生這些組合"
   ]
  },
  {
   "cell_type": "code",
   "execution_count": 1,
   "metadata": {},
   "outputs": [],
   "source": [
    "import numpy as np\n",
    " \n",
    "# Sigmoid 函數可以將任何值都映射到一個位於 0 到  1 範圍內的值。通過它，我們可以將實數轉化為概率值\n",
    "def sigmoid(x, div=False):\n",
    "    if div == True:\n",
    "        return sigmoid(x) * (1-sigmoid(x))\n",
    "    return 1/(1+np.exp(-x))\n",
    "\n",
    "X = np.array([[0,0,1],\n",
    "              [0,1,1],\n",
    "              [1,0,1],\n",
    "              [1,1,1]])\n",
    "        \n",
    "# define y for output dataset            \n",
    "Y = np.array([[0, 0, 1, 1]]).T"
   ]
  },
  {
   "cell_type": "code",
   "execution_count": 2,
   "metadata": {},
   "outputs": [],
   "source": [
    "np.random.seed(1)\n",
    "#亂數設定產生種子得到的權重初始化集仍是隨機分佈的，\n",
    "#但每次開始訓練時，得到的權重初始集分佈都是完全一致的。\n",
    " \n",
    "## (b-a)*np.random.random((row, column)) + (a) : (row, column):建立矩陣大小 , 隨機取值範圍[a, b)\n",
    "w_layer1 = 2*np.random.random((3, 2)) - 1  # a=-1 b=1 , 第1層weights取值介於 -1~1\n",
    "w_layer2 = 2*np.random.random((2, 1)) - 1\n",
    "iter = 0"
   ]
  },
  {
   "cell_type": "markdown",
   "metadata": {},
   "source": [
    "神經網路訓練\n",
    "for 迴圈反覆運算式地多次執行訓練代碼，使得我們的網路能更好地擬合訓練集"
   ]
  },
  {
   "cell_type": "code",
   "execution_count": 3,
   "metadata": {},
   "outputs": [
    {
     "name": "stdout",
     "output_type": "stream",
     "text": [
      "Output After Training:\n",
      "a1 : \n",
      " [[0.89571489 0.12108664]\n",
      " [0.90203803 0.09952268]\n",
      " [0.05927686 0.94162877]\n",
      " [0.06327816 0.92827099]]\n",
      "\n",
      "a2 : \n",
      " [[0.00408339]\n",
      " [0.00340512]\n",
      " [0.9963642 ]\n",
      " [0.99592884]]\n",
      "\n",
      "Real Y:\n",
      " [[0]\n",
      " [0]\n",
      " [1]\n",
      " [1]]\n"
     ]
    }
   ],
   "source": [
    "for iter in range(10000):\n",
    "    # forward propagation\n",
    "    z1 = X.dot(w_layer1)\n",
    "    a1 = sigmoid(z1)\n",
    "    z2 = a1.dot(w_layer2)\n",
    "    a2 = sigmoid(z2)\n",
    "    \n",
    "    # how much did we miss?\n",
    "    loss = (-2)*Y + 2*a2\n",
    "    \n",
    "    # multiply how much we missed by the \n",
    "    # slope of the sigmoid at the values in l1\n",
    "    delta_z2 = loss*sigmoid(z2, div=True)\n",
    "    delta_a1 = delta_z2.dot(w_layer2.T)\n",
    "    delta_z1 = delta_a1*sigmoid(z1, div=True)\n",
    "        \n",
    "    # update weights\n",
    "    w_layer1 -= X.T.dot(delta_z1)\n",
    "    w_layer2 -= a1.T.dot(delta_z2)\n",
    "    # syn1 update weights\n",
    "    \n",
    "print(\"Output After Training:\")\n",
    "print(f'a1 : \\n {a1}\\n')\n",
    "print(f'a2 : \\n {a2}\\n')\n",
    "print(f'Real Y:\\n {Y}')"
   ]
  }
 ],
 "metadata": {
  "kernelspec": {
   "display_name": "Python 3",
   "language": "python",
   "name": "python3"
  },
  "language_info": {
   "codemirror_mode": {
    "name": "ipython",
    "version": 3
   },
   "file_extension": ".py",
   "mimetype": "text/x-python",
   "name": "python",
   "nbconvert_exporter": "python",
   "pygments_lexer": "ipython3",
   "version": "3.7.3"
  }
 },
 "nbformat": 4,
 "nbformat_minor": 2
}
