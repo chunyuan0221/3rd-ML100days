{
 "cells": [
  {
   "cell_type": "markdown",
   "metadata": {},
   "source": [
    "# 作業\n",
    "* 在精簡深度學習的方式上 : 卷積類神經 (CNN) 採用像素遠近，而遞歸類神經 (RNN) 採用著則是時間遠近\n",
    "* 那麼，既然有著類似的設計精神，兩者是否有可能互換應用呢?"
   ]
  },
  {
   "cell_type": "markdown",
   "metadata": {
    "collapsed": true
   },
   "source": [
    "### ANS:\n",
    "- CNN模型:此神經網路模型在結構上運用了卷積(convolution)，透過卷積可找出圖片的特徵，經過多次卷積層運算後，我們可以將最後得到的特徵歸納成不同類別，進而達到辨識效果\n",
    "- RNN模型:此神經網路模型在結構上加上了記憶的功能(store)，當第1筆資料經過此模型時，模型會把得到的weight或outputs(選擇其中一種方式)儲存起來，當第2筆資料進來時，剛剛儲存的值會取出來，因此資料的順序性是會影響RNN的結果。也就RNN具備記憶力與順序性才會在NLP處理上比較有好的結果。\n",
    "- 交互應用應該可以，但效果可能不會很好。原因以下幾點:\n",
    "    1. 在影像辨識上改採用RNN來預測，可能會因為RNN具備了順序性與記憶力，而導致預測的準確率不高。我們在預測圖片中有沒有狗，不太需要注意狗出現在圖片中的順序，也不需要記憶之前看過了什麼，只需要找出狗的特徵就好，而convolution的運算就是找出特徵。\n",
    "    2. 在NLP上若改用CNN來預測語意，可能會因為CNN不具備資料順序性，以及不具備記憶力，\n",
    "        舉例來說: 我們在語意資料庫裡已經有\"台北\"這個詞彙， 當電腦看到 \"目的地台北\" 和 \"出發地台北\" 時，若模型不具有記憶力，則模型會將兩者規範成一類。\n",
    "    3. 簡單來說，CNN是看像素(資料)的多寡，CNN越深1個pixel代表的可能是原圖的幾分之幾的圖片；RNN則是注重文字(資料)的新舊與前後關係\n",
    "\n",
    "\n",
    "- RNN架構&運作\n",
    "![image_info](./RNN-3.png)"
   ]
  }
 ],
 "metadata": {
  "kernelspec": {
   "display_name": "Python 3",
   "language": "python",
   "name": "python3"
  },
  "language_info": {
   "codemirror_mode": {
    "name": "ipython",
    "version": 3
   },
   "file_extension": ".py",
   "mimetype": "text/x-python",
   "name": "python",
   "nbconvert_exporter": "python",
   "pygments_lexer": "ipython3",
   "version": "3.7.3"
  }
 },
 "nbformat": 4,
 "nbformat_minor": 2
}
