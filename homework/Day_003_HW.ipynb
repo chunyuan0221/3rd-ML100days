{
 "cells": [
  {
   "cell_type": "markdown",
   "metadata": {},
   "source": [
    "## [作業目標]\n",
    "持續接觸有關機器學習的相關專案與最新技術"
   ]
  },
  {
   "cell_type": "markdown",
   "metadata": {},
   "source": [
    "## [作業重點]\n",
    "透過觀察頂尖公司的機器學習文章，來了解各公司是怎麼應用機器學習在實際的專案上"
   ]
  },
  {
   "cell_type": "markdown",
   "metadata": {},
   "source": [
    "## [作業]\n",
    "今天的作業希望大家能夠看看全球機器學習巨頭們在做的機器學習專案。以 google 為例，下圖是 Google 內部專案使用機器學習的數量，隨著時間進展，現在早已超過 2000 個專案在使用機器學習。"
   ]
  },
  {
   "cell_type": "markdown",
   "metadata": {},
   "source": [
    "![image](https://cdn-images-1.medium.com/max/800/1*U_L8qI8RmYS-MOBrYvXhSA.png)"
   ]
  },
  {
   "cell_type": "markdown",
   "metadata": {},
   "source": [
    "底下幫同學整理幾間知名企業的 blog 或機器學習網站 (自行搜尋也可)，這些網站都會整理最新的機器學習專案或者是技術文章，請挑選一篇文章閱讀並試著回答\n",
    "1. 專案的目標？ (要解決什麼問題）\n",
    "2. 使用的技術是？ (只需知道名稱即可，例如：使用 CNN 卷積神經網路做影像分類)\n",
    "3. 資料來源？ "
   ]
  },
  {
   "cell_type": "markdown",
   "metadata": {},
   "source": [
    "- [Google AI blog](https://ai.googleblog.com/)\n",
    "- [Facebook Research blog](https://research.fb.com/blog/)\n",
    "- [Apple machine learning journal](https://machinelearning.apple.com/)\n",
    "- [機器之心](https://www.jiqizhixin.com/)\n",
    "- [雷鋒網](http://www.leiphone.com/category/ai)"
   ]
  },
  {
   "cell_type": "markdown",
   "metadata": {},
   "source": [
    "An On-device Deep Neural Network for Face Detection  \n",
    "1. 專案的目標?  \n",
    "    - 基於行動裝置，由傳統的人臉辨識演算法(Viola-Jones detection algorithm)改為深度學習演算法(deep learning)。\n",
    "\n",
    "   #### 進而延伸以下幾點問題：\n",
    "   - 克服手機在使用深度學習運行臉部辨識時，所需要用到大量的硬體資源，且能短時間內判斷並使用較少功耗。  \n",
    "   - 我們如何充分利用我們的GPU和CPU。  \n",
    "   - 為了網絡推論(network inference)以及圖像加載(image load)和緩存(catching)，需要優化記憶體。  \n",
    "   - 在執行深度網路時，如何不影響iphone上其他同步在運行的作業。  \n",
    "\n",
    "\n",
    "2. 使用的技術是?  \n",
    "    - 採用OverFeat這篇論文的方式，來完成fully convolutional network(FCN)，並實現：  \n",
    "       1. 二進位分類：辨識匯入資料中是否有臉部資訊  \n",
    "       2. 回歸演演算法：邊線預測匯入的人臉資訊，達成人臉定位  \n",
    "    - 由於模型運行方式將需要大量的硬體資源，因此採用“teacher-student”的訓練方式建置模型，以此解決深度網路的問題。(註：teacher-student：利用已培訓的大型複雜網路(teacher)匯出，來培訓第二個薄而深的網路(student))  \n",
    "      \n",
    "    - 通過部分子採樣(subsample)和自動平鋪技術(automatic tiling)來解決功耗和內存占用情況。  \n",
    "       ex:圖像捕獲，進行6400萬像素全景圖所需的大內存。  \n",
    "    - 透過分析計算圖來配置神經網路的中間層，將多個圖層代號到同一緩衝區，既可以減少記憶體使用，又不會影響效能或規格碎片，且可在CPU或GPU使用，最大限度地減少使用記憶體和GPU。\n",
    "    - 利用網路的完全卷積性，將所有影像都動態調整到匯入影像的解析度，大大減少總作業數量。  \n",
    "    \n",
    "    \n",
    "3. 資料來源：\n",
    "    - [Apple machine learning journal](https://machinelearning.apple.com/)"
   ]
  }
 ],
 "metadata": {
  "kernelspec": {
   "display_name": "Python 3",
   "language": "python",
   "name": "python3"
  },
  "language_info": {
   "codemirror_mode": {
    "name": "ipython",
    "version": 3
   },
   "file_extension": ".py",
   "mimetype": "text/x-python",
   "name": "python",
   "nbconvert_exporter": "python",
   "pygments_lexer": "ipython3",
   "version": "3.7.3"
  }
 },
 "nbformat": 4,
 "nbformat_minor": 2
}
