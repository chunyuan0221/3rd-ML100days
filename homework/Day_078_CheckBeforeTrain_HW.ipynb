{
  "nbformat": 4,
  "nbformat_minor": 0,
  "metadata": {
    "kernelspec": {
      "display_name": "Python 3",
      "language": "python",
      "name": "python3"
    },
    "language_info": {
      "codemirror_mode": {
        "name": "ipython",
        "version": 3
      },
      "file_extension": ".py",
      "mimetype": "text/x-python",
      "name": "python",
      "nbconvert_exporter": "python",
      "pygments_lexer": "ipython3",
      "version": "3.6.5"
    },
    "colab": {
      "name": "Day078_CheckBeforeTrain_HW.ipynb",
      "provenance": [],
      "collapsed_sections": [],
      "include_colab_link": true
    }
  },
  "cells": [
    {
      "cell_type": "markdown",
      "metadata": {
        "id": "view-in-github",
        "colab_type": "text"
      },
      "source": [
        "<a href=\"https://colab.research.google.com/github/chunyuan0221/3rd-ML100days/blob/master/Day078_CheckBeforeTrain_HW.ipynb\" target=\"_parent\"><img src=\"https://colab.research.google.com/assets/colab-badge.svg\" alt=\"Open In Colab\"/></a>"
      ]
    },
    {
      "cell_type": "markdown",
      "metadata": {
        "id": "wI4AkJD8x6U5",
        "colab_type": "text"
      },
      "source": [
        "## Work\n",
        "1. 請嘗試將 preproc_x 替換成以每筆資料的 min/max 進行標準化至 -1 ~ 1 間，再進行訓練\n",
        "2. 請嘗試將 mlp 疊更深 (e.g 5~10 層)，進行訓練後觀察 learning curve 的走勢\n",
        "3. (optional) 請改用 GPU 進行訓練 (如果你有 GPU 的話)，比較使用 CPU 與 GPU 的訓練速度\n",
        "\n",
        "### 學習目標\n",
        "- 訓練神經網路前，需注意的事項:\n",
        "  1. 確認使用裝置(CPU or GPU)\n",
        "  2. Preprocessing:Input data(X)是否有進行合適的標準化\n",
        "  3. Preprocessing:Output data(Y)是否進行適當的處理(Encoding)\n",
        "  4. Model Graph:模型架構是否如預期所想(DNN、CNN、RNN)\n",
        "  5. Hyper parameter: 訓練模型中的超參數是否設定得當"
      ]
    },
    {
      "cell_type": "markdown",
      "metadata": {
        "id": "ijkXMPaV7Bsn",
        "colab_type": "text"
      },
      "source": [
        "### ANS\n",
        "- 我們發現將神經網路層數從3層增加到5層時，有幾項結果:\n",
        "  1. train data的Accuracy上升的速度比3層成長的快，但相對而言訓練時間也大幅上升。\n",
        "  2. 用test data驗證的Accuracy從50%上升至55%左右\n",
        "  3. 因此，增加神經網路的複雜度，對驗證的Accuracy是有改善的\n",
        "\n",
        "***\n",
        "- 3 layers acc\n",
        "\n",
        "![3 layers](https://drive.google.com/uc?id=1L3mI789ANgvPwSfuU0v9ZoMK7df4I8iR)\n",
        "\n",
        "- 5 layers acc\n",
        "\n",
        "![5 layers](https://drive.google.com/uc?id=1bxkX6kjA137n4J3ScD6WoVeki3pWolb9)"
      ]
    },
    {
      "cell_type": "code",
      "metadata": {
        "id": "ul1YDcoWx6U8",
        "colab_type": "code",
        "colab": {
          "base_uri": "https://localhost:8080/",
          "height": 34
        },
        "outputId": "bb6cf5cf-47fd-4672-f2a0-cc66c1974101"
      },
      "source": [
        "\"\"\"\n",
        "Your code here (optional)\n",
        "確認硬體資源\n",
        "\"\"\"\n"
      ],
      "execution_count": 11,
      "outputs": [
        {
          "output_type": "execute_result",
          "data": {
            "text/plain": [
              "'\\nYour code here (optional)\\n確認硬體資源\\n'"
            ]
          },
          "metadata": {
            "tags": []
          },
          "execution_count": 11
        }
      ]
    },
    {
      "cell_type": "code",
      "metadata": {
        "id": "-A5DeMlNx6VC",
        "colab_type": "code",
        "colab": {
          "base_uri": "https://localhost:8080/",
          "height": 80
        },
        "outputId": "410ff74e-5e87-403d-c2dd-206bde3d1073"
      },
      "source": [
        "import os\n",
        "import numpy as np\n",
        "import keras\n",
        "from keras.models import Sequential, Model\n",
        "from keras.layers import Dense, Flatten, Dropout, Activation, Input\n",
        "#from keras.layers import Dense, Conv2D, MaxPooling2D\n",
        "from keras import optimizers\n",
        "\n",
        "# 請嘗試設定 GPU：os.environ\n"
      ],
      "execution_count": 2,
      "outputs": [
        {
          "output_type": "stream",
          "text": [
            "Using TensorFlow backend.\n"
          ],
          "name": "stderr"
        },
        {
          "output_type": "display_data",
          "data": {
            "text/html": [
              "<p style=\"color: red;\">\n",
              "The default version of TensorFlow in Colab will soon switch to TensorFlow 2.x.<br>\n",
              "We recommend you <a href=\"https://www.tensorflow.org/guide/migrate\" target=\"_blank\">upgrade</a> now \n",
              "or ensure your notebook will continue to use TensorFlow 1.x via the <code>%tensorflow_version 1.x</code> magic:\n",
              "<a href=\"https://colab.research.google.com/notebooks/tensorflow_version.ipynb\" target=\"_blank\">more info</a>.</p>\n"
            ],
            "text/plain": [
              "<IPython.core.display.HTML object>"
            ]
          },
          "metadata": {
            "tags": []
          }
        }
      ]
    },
    {
      "cell_type": "code",
      "metadata": {
        "id": "rwON1gPfx6VJ",
        "colab_type": "code",
        "colab": {}
      },
      "source": [
        "train, test = keras.datasets.cifar10.load_data()"
      ],
      "execution_count": 0,
      "outputs": []
    },
    {
      "cell_type": "markdown",
      "metadata": {
        "id": "7HBDERFu3kuq",
        "colab_type": "text"
      },
      "source": [
        "Mean Normalization\n"
      ]
    },
    {
      "cell_type": "code",
      "metadata": {
        "id": "Egt-Ko4vx6VN",
        "colab_type": "code",
        "colab": {}
      },
      "source": [
        "## 資料前處理\n",
        "\"\"\"\n",
        "Your code here\n",
        "\"\"\"\n",
        "def preproc_x(x, flatten=True):\n",
        "    x_norm = (x - np.mean(x)) / (np.max(x) - np.min(x))\n",
        "    if flatten:\n",
        "        x_norm = x_norm.reshape((len(x_norm), -1))\n",
        "    return x_norm\n",
        "\n",
        "def preproc_y(y):\n",
        "    y_ohe = keras.utils.to_categorical(y)\n",
        "    return y_ohe"
      ],
      "execution_count": 0,
      "outputs": []
    },
    {
      "cell_type": "code",
      "metadata": {
        "id": "-stP-w9xx6VS",
        "colab_type": "code",
        "colab": {
          "base_uri": "https://localhost:8080/",
          "height": 86
        },
        "outputId": "92c71342-7c01-407e-8352-daae7f91f943"
      },
      "source": [
        "x_train, y_train = train\n",
        "x_test, y_test = test\n",
        "\n",
        "# Preproc the inputs\n",
        "x_train = preproc_x(x_train)\n",
        "x_test = preproc_x(x_test)\n",
        "\n",
        "# Preprc the outputs\n",
        "y_train = preproc_y(y_train)\n",
        "y_test = preproc_y(y_test)\n",
        "\n",
        "print('X do flatten, Y do onehot:\\n')\n",
        "print(f'X shape: train={x_train.shape}, test={x_test.shape}')\n",
        "print(f'Y shape: train={y_train.shape}, test={y_test.shape}')"
      ],
      "execution_count": 5,
      "outputs": [
        {
          "output_type": "stream",
          "text": [
            "X do flatten, Y do onehot:\n",
            "\n",
            "X shape: train=(50000, 3072), test=(10000, 3072)\n",
            "Y shape: train=(50000, 10), test=(10000, 10)\n"
          ],
          "name": "stdout"
        }
      ]
    },
    {
      "cell_type": "code",
      "metadata": {
        "id": "IS--G9XAx6VW",
        "colab_type": "code",
        "colab": {
          "base_uri": "https://localhost:8080/",
          "height": 140
        },
        "outputId": "ab1e46e1-0942-450f-caf4-ee610beb7d09"
      },
      "source": [
        "\"\"\"Code Here\n",
        "建立你的神經網路\n",
        "\"\"\"\n",
        "def build_mlp(input_shape, output_units=10, num_neurons=[1024, 512, 256, 128, 64]):\n",
        "    input_layer = Input(input_shape)\n",
        "\n",
        "    for i, n_units in enumerate(num_neurons):\n",
        "        if i==0:\n",
        "            x = Dense(units=n_units, activation='relu', name=\"hidden_layer\"+str(i+1))(input_layer)\n",
        "        else:\n",
        "            x = Dense(units=n_units, activation='relu', name=\"hidden_layer\"+str(i+1))(x)\n",
        "    \n",
        "    out = Dense(units=output_units, activation='softmax')(x)\n",
        "    model = Model(inputs=[input_layer], outputs=[out])\n",
        "    return model\n",
        "\n",
        "model = build_mlp(input_shape=x_train.shape[1:])"
      ],
      "execution_count": 6,
      "outputs": [
        {
          "output_type": "stream",
          "text": [
            "WARNING:tensorflow:From /usr/local/lib/python3.6/dist-packages/keras/backend/tensorflow_backend.py:66: The name tf.get_default_graph is deprecated. Please use tf.compat.v1.get_default_graph instead.\n",
            "\n",
            "WARNING:tensorflow:From /usr/local/lib/python3.6/dist-packages/keras/backend/tensorflow_backend.py:541: The name tf.placeholder is deprecated. Please use tf.compat.v1.placeholder instead.\n",
            "\n",
            "WARNING:tensorflow:From /usr/local/lib/python3.6/dist-packages/keras/backend/tensorflow_backend.py:4432: The name tf.random_uniform is deprecated. Please use tf.random.uniform instead.\n",
            "\n"
          ],
          "name": "stdout"
        }
      ]
    },
    {
      "cell_type": "code",
      "metadata": {
        "id": "mMozkQ-Tx6Va",
        "colab_type": "code",
        "colab": {}
      },
      "source": [
        "## 超參數設定\n",
        "LEARNING_RATE = 0.001\n",
        "EPOCHS = 100\n",
        "BATCH_SIZE = 256"
      ],
      "execution_count": 0,
      "outputs": []
    },
    {
      "cell_type": "code",
      "metadata": {
        "id": "RgDhs5oqx6Vh",
        "colab_type": "code",
        "colab": {
          "base_uri": "https://localhost:8080/",
          "height": 106
        },
        "outputId": "8f4c5ea4-5b94-46fc-c069-0468f0cb33fd"
      },
      "source": [
        "opt = optimizers.Adam(lr=LEARNING_RATE)\n",
        "model.compile(loss=\"categorical_crossentropy\", metrics=[\"accuracy\"], optimizer=opt)"
      ],
      "execution_count": 8,
      "outputs": [
        {
          "output_type": "stream",
          "text": [
            "WARNING:tensorflow:From /usr/local/lib/python3.6/dist-packages/keras/optimizers.py:793: The name tf.train.Optimizer is deprecated. Please use tf.compat.v1.train.Optimizer instead.\n",
            "\n",
            "WARNING:tensorflow:From /usr/local/lib/python3.6/dist-packages/keras/backend/tensorflow_backend.py:3576: The name tf.log is deprecated. Please use tf.math.log instead.\n",
            "\n"
          ],
          "name": "stdout"
        }
      ]
    },
    {
      "cell_type": "code",
      "metadata": {
        "id": "yhdftGyrx6Vk",
        "colab_type": "code",
        "colab": {
          "base_uri": "https://localhost:8080/",
          "height": 1000
        },
        "outputId": "8a828988-c97b-4dda-d97d-f0e1ef24f3ca"
      },
      "source": [
        "model.fit(x_train, y_train, \n",
        "          epochs=EPOCHS, \n",
        "          batch_size=BATCH_SIZE, \n",
        "          validation_data=(x_test, y_test), \n",
        "          shuffle=True)"
      ],
      "execution_count": 9,
      "outputs": [
        {
          "output_type": "stream",
          "text": [
            "WARNING:tensorflow:From /usr/local/lib/python3.6/dist-packages/tensorflow_core/python/ops/math_grad.py:1424: where (from tensorflow.python.ops.array_ops) is deprecated and will be removed in a future version.\n",
            "Instructions for updating:\n",
            "Use tf.where in 2.0, which has the same broadcast rule as np.where\n",
            "WARNING:tensorflow:From /usr/local/lib/python3.6/dist-packages/keras/backend/tensorflow_backend.py:1033: The name tf.assign_add is deprecated. Please use tf.compat.v1.assign_add instead.\n",
            "\n",
            "WARNING:tensorflow:From /usr/local/lib/python3.6/dist-packages/keras/backend/tensorflow_backend.py:1020: The name tf.assign is deprecated. Please use tf.compat.v1.assign instead.\n",
            "\n",
            "WARNING:tensorflow:From /usr/local/lib/python3.6/dist-packages/keras/backend/tensorflow_backend.py:3005: The name tf.Session is deprecated. Please use tf.compat.v1.Session instead.\n",
            "\n",
            "Train on 50000 samples, validate on 10000 samples\n",
            "Epoch 1/100\n",
            "WARNING:tensorflow:From /usr/local/lib/python3.6/dist-packages/keras/backend/tensorflow_backend.py:190: The name tf.get_default_session is deprecated. Please use tf.compat.v1.get_default_session instead.\n",
            "\n",
            "WARNING:tensorflow:From /usr/local/lib/python3.6/dist-packages/keras/backend/tensorflow_backend.py:197: The name tf.ConfigProto is deprecated. Please use tf.compat.v1.ConfigProto instead.\n",
            "\n",
            "WARNING:tensorflow:From /usr/local/lib/python3.6/dist-packages/keras/backend/tensorflow_backend.py:207: The name tf.global_variables is deprecated. Please use tf.compat.v1.global_variables instead.\n",
            "\n",
            "WARNING:tensorflow:From /usr/local/lib/python3.6/dist-packages/keras/backend/tensorflow_backend.py:216: The name tf.is_variable_initialized is deprecated. Please use tf.compat.v1.is_variable_initialized instead.\n",
            "\n",
            "WARNING:tensorflow:From /usr/local/lib/python3.6/dist-packages/keras/backend/tensorflow_backend.py:223: The name tf.variables_initializer is deprecated. Please use tf.compat.v1.variables_initializer instead.\n",
            "\n",
            "50000/50000 [==============================] - 26s 520us/step - loss: 1.6875 - acc: 0.3994 - val_loss: 1.5486 - val_acc: 0.4499\n",
            "Epoch 2/100\n",
            "50000/50000 [==============================] - 25s 507us/step - loss: 1.4439 - acc: 0.4875 - val_loss: 1.4213 - val_acc: 0.4975\n",
            "Epoch 3/100\n",
            "50000/50000 [==============================] - 26s 512us/step - loss: 1.3193 - acc: 0.5345 - val_loss: 1.3729 - val_acc: 0.5195\n",
            "Epoch 4/100\n",
            "50000/50000 [==============================] - 26s 512us/step - loss: 1.2153 - acc: 0.5724 - val_loss: 1.3344 - val_acc: 0.5245\n",
            "Epoch 5/100\n",
            "50000/50000 [==============================] - 26s 513us/step - loss: 1.1175 - acc: 0.6037 - val_loss: 1.3389 - val_acc: 0.5326\n",
            "Epoch 6/100\n",
            "50000/50000 [==============================] - 26s 515us/step - loss: 1.0198 - acc: 0.6367 - val_loss: 1.3088 - val_acc: 0.5519\n",
            "Epoch 7/100\n",
            "50000/50000 [==============================] - 25s 508us/step - loss: 0.9363 - acc: 0.6677 - val_loss: 1.3715 - val_acc: 0.5372\n",
            "Epoch 8/100\n",
            "50000/50000 [==============================] - 25s 507us/step - loss: 0.8489 - acc: 0.6968 - val_loss: 1.3694 - val_acc: 0.5454\n",
            "Epoch 9/100\n",
            "50000/50000 [==============================] - 25s 506us/step - loss: 0.7653 - acc: 0.7269 - val_loss: 1.4207 - val_acc: 0.5419\n",
            "Epoch 10/100\n",
            "50000/50000 [==============================] - 25s 503us/step - loss: 0.6771 - acc: 0.7595 - val_loss: 1.5757 - val_acc: 0.5453\n",
            "Epoch 11/100\n",
            "50000/50000 [==============================] - 25s 503us/step - loss: 0.6018 - acc: 0.7867 - val_loss: 1.6751 - val_acc: 0.5346\n",
            "Epoch 12/100\n",
            "50000/50000 [==============================] - 25s 507us/step - loss: 0.5285 - acc: 0.8118 - val_loss: 1.7112 - val_acc: 0.5471\n",
            "Epoch 13/100\n",
            "50000/50000 [==============================] - 25s 506us/step - loss: 0.4632 - acc: 0.8341 - val_loss: 1.8802 - val_acc: 0.5547\n",
            "Epoch 14/100\n",
            "50000/50000 [==============================] - 25s 509us/step - loss: 0.4090 - acc: 0.8562 - val_loss: 1.9231 - val_acc: 0.5446\n",
            "Epoch 15/100\n",
            "50000/50000 [==============================] - 25s 504us/step - loss: 0.3547 - acc: 0.8748 - val_loss: 2.0264 - val_acc: 0.5426\n",
            "Epoch 16/100\n",
            "50000/50000 [==============================] - 25s 509us/step - loss: 0.3192 - acc: 0.8876 - val_loss: 2.2101 - val_acc: 0.5401\n",
            "Epoch 17/100\n",
            "50000/50000 [==============================] - 25s 507us/step - loss: 0.2989 - acc: 0.8943 - val_loss: 2.3159 - val_acc: 0.5420\n",
            "Epoch 18/100\n",
            "50000/50000 [==============================] - 25s 509us/step - loss: 0.2606 - acc: 0.9101 - val_loss: 2.3354 - val_acc: 0.5431\n",
            "Epoch 19/100\n",
            "50000/50000 [==============================] - 25s 508us/step - loss: 0.2569 - acc: 0.9103 - val_loss: 2.4095 - val_acc: 0.5451\n",
            "Epoch 20/100\n",
            "50000/50000 [==============================] - 25s 506us/step - loss: 0.2337 - acc: 0.9183 - val_loss: 2.4564 - val_acc: 0.5389\n",
            "Epoch 21/100\n",
            "50000/50000 [==============================] - 27s 537us/step - loss: 0.2081 - acc: 0.9288 - val_loss: 2.6403 - val_acc: 0.5417\n",
            "Epoch 22/100\n",
            "50000/50000 [==============================] - 25s 509us/step - loss: 0.1907 - acc: 0.9343 - val_loss: 2.6978 - val_acc: 0.5453\n",
            "Epoch 23/100\n",
            "50000/50000 [==============================] - 26s 512us/step - loss: 0.1894 - acc: 0.9343 - val_loss: 2.7531 - val_acc: 0.5437\n",
            "Epoch 24/100\n",
            "50000/50000 [==============================] - 26s 514us/step - loss: 0.1580 - acc: 0.9457 - val_loss: 2.9217 - val_acc: 0.5445\n",
            "Epoch 25/100\n",
            "50000/50000 [==============================] - 26s 514us/step - loss: 0.1702 - acc: 0.9426 - val_loss: 2.8406 - val_acc: 0.5338\n",
            "Epoch 26/100\n",
            "50000/50000 [==============================] - 26s 514us/step - loss: 0.1524 - acc: 0.9475 - val_loss: 2.8842 - val_acc: 0.5463\n",
            "Epoch 27/100\n",
            "50000/50000 [==============================] - 26s 512us/step - loss: 0.1508 - acc: 0.9481 - val_loss: 2.9393 - val_acc: 0.5501\n",
            "Epoch 28/100\n",
            "50000/50000 [==============================] - 25s 509us/step - loss: 0.1443 - acc: 0.9519 - val_loss: 2.8988 - val_acc: 0.5459\n",
            "Epoch 29/100\n",
            "50000/50000 [==============================] - 26s 511us/step - loss: 0.1437 - acc: 0.9505 - val_loss: 3.0033 - val_acc: 0.5480\n",
            "Epoch 30/100\n",
            "50000/50000 [==============================] - 25s 510us/step - loss: 0.1242 - acc: 0.9573 - val_loss: 3.1296 - val_acc: 0.5459\n",
            "Epoch 31/100\n",
            "50000/50000 [==============================] - 25s 510us/step - loss: 0.1378 - acc: 0.9543 - val_loss: 3.1432 - val_acc: 0.5417\n",
            "Epoch 32/100\n",
            "50000/50000 [==============================] - 25s 509us/step - loss: 0.1164 - acc: 0.9623 - val_loss: 3.1129 - val_acc: 0.5436\n",
            "Epoch 33/100\n",
            "50000/50000 [==============================] - 26s 511us/step - loss: 0.1274 - acc: 0.9574 - val_loss: 3.1605 - val_acc: 0.5428\n",
            "Epoch 34/100\n",
            "50000/50000 [==============================] - 25s 509us/step - loss: 0.1117 - acc: 0.9627 - val_loss: 3.2805 - val_acc: 0.5441\n",
            "Epoch 35/100\n",
            "50000/50000 [==============================] - 26s 514us/step - loss: 0.1173 - acc: 0.9610 - val_loss: 3.3043 - val_acc: 0.5466\n",
            "Epoch 36/100\n",
            "50000/50000 [==============================] - 26s 520us/step - loss: 0.1137 - acc: 0.9629 - val_loss: 3.2563 - val_acc: 0.5440\n",
            "Epoch 37/100\n",
            "50000/50000 [==============================] - 26s 518us/step - loss: 0.1166 - acc: 0.9617 - val_loss: 3.2081 - val_acc: 0.5414\n",
            "Epoch 38/100\n",
            "50000/50000 [==============================] - 26s 524us/step - loss: 0.1044 - acc: 0.9659 - val_loss: 3.3617 - val_acc: 0.5430\n",
            "Epoch 39/100\n",
            "50000/50000 [==============================] - 26s 521us/step - loss: 0.0975 - acc: 0.9670 - val_loss: 3.3105 - val_acc: 0.5373\n",
            "Epoch 40/100\n",
            "50000/50000 [==============================] - 26s 522us/step - loss: 0.1102 - acc: 0.9642 - val_loss: 3.3427 - val_acc: 0.5441\n",
            "Epoch 41/100\n",
            "50000/50000 [==============================] - 26s 518us/step - loss: 0.1028 - acc: 0.9663 - val_loss: 3.4582 - val_acc: 0.5547\n",
            "Epoch 42/100\n",
            "50000/50000 [==============================] - 26s 521us/step - loss: 0.0897 - acc: 0.9699 - val_loss: 3.4227 - val_acc: 0.5476\n",
            "Epoch 43/100\n",
            "50000/50000 [==============================] - 26s 523us/step - loss: 0.0891 - acc: 0.9712 - val_loss: 3.4009 - val_acc: 0.5387\n",
            "Epoch 44/100\n",
            "50000/50000 [==============================] - 26s 525us/step - loss: 0.0868 - acc: 0.9711 - val_loss: 3.4128 - val_acc: 0.5507\n",
            "Epoch 45/100\n",
            "50000/50000 [==============================] - 26s 523us/step - loss: 0.0987 - acc: 0.9681 - val_loss: 3.3786 - val_acc: 0.5483\n",
            "Epoch 46/100\n",
            "50000/50000 [==============================] - 26s 523us/step - loss: 0.0881 - acc: 0.9707 - val_loss: 3.3740 - val_acc: 0.5486\n",
            "Epoch 47/100\n",
            "50000/50000 [==============================] - 26s 521us/step - loss: 0.1000 - acc: 0.9669 - val_loss: 3.3128 - val_acc: 0.5468\n",
            "Epoch 48/100\n",
            "50000/50000 [==============================] - 26s 517us/step - loss: 0.0869 - acc: 0.9714 - val_loss: 3.3883 - val_acc: 0.5492\n",
            "Epoch 49/100\n",
            "50000/50000 [==============================] - 26s 515us/step - loss: 0.0929 - acc: 0.9699 - val_loss: 3.3695 - val_acc: 0.5481\n",
            "Epoch 50/100\n",
            "50000/50000 [==============================] - 26s 514us/step - loss: 0.0751 - acc: 0.9755 - val_loss: 3.5425 - val_acc: 0.5416\n",
            "Epoch 51/100\n",
            "50000/50000 [==============================] - 26s 514us/step - loss: 0.0802 - acc: 0.9736 - val_loss: 3.4648 - val_acc: 0.5536\n",
            "Epoch 52/100\n",
            "50000/50000 [==============================] - 26s 513us/step - loss: 0.0723 - acc: 0.9763 - val_loss: 3.6176 - val_acc: 0.5480\n",
            "Epoch 53/100\n",
            "50000/50000 [==============================] - 26s 514us/step - loss: 0.0778 - acc: 0.9752 - val_loss: 3.6260 - val_acc: 0.5454\n",
            "Epoch 54/100\n",
            "50000/50000 [==============================] - 26s 513us/step - loss: 0.0919 - acc: 0.9712 - val_loss: 3.5358 - val_acc: 0.5419\n",
            "Epoch 55/100\n",
            "50000/50000 [==============================] - 26s 514us/step - loss: 0.0773 - acc: 0.9741 - val_loss: 3.5999 - val_acc: 0.5479\n",
            "Epoch 56/100\n",
            "50000/50000 [==============================] - 27s 534us/step - loss: 0.0767 - acc: 0.9757 - val_loss: 3.6138 - val_acc: 0.5531\n",
            "Epoch 57/100\n",
            "50000/50000 [==============================] - 26s 514us/step - loss: 0.0835 - acc: 0.9727 - val_loss: 3.5458 - val_acc: 0.5510\n",
            "Epoch 58/100\n",
            "50000/50000 [==============================] - 26s 514us/step - loss: 0.0524 - acc: 0.9831 - val_loss: 3.5914 - val_acc: 0.5479\n",
            "Epoch 59/100\n",
            "50000/50000 [==============================] - 26s 511us/step - loss: 0.0844 - acc: 0.9730 - val_loss: 3.4969 - val_acc: 0.5447\n",
            "Epoch 60/100\n",
            "50000/50000 [==============================] - 25s 510us/step - loss: 0.0681 - acc: 0.9779 - val_loss: 3.6116 - val_acc: 0.5421\n",
            "Epoch 61/100\n",
            "50000/50000 [==============================] - 26s 511us/step - loss: 0.0684 - acc: 0.9782 - val_loss: 3.6722 - val_acc: 0.5429\n",
            "Epoch 62/100\n",
            "50000/50000 [==============================] - 26s 512us/step - loss: 0.0620 - acc: 0.9797 - val_loss: 3.7902 - val_acc: 0.5449\n",
            "Epoch 63/100\n",
            "50000/50000 [==============================] - 26s 510us/step - loss: 0.0805 - acc: 0.9747 - val_loss: 3.5723 - val_acc: 0.5437\n",
            "Epoch 64/100\n",
            "50000/50000 [==============================] - 25s 509us/step - loss: 0.0780 - acc: 0.9762 - val_loss: 3.5561 - val_acc: 0.5446\n",
            "Epoch 65/100\n",
            "50000/50000 [==============================] - 26s 510us/step - loss: 0.0525 - acc: 0.9826 - val_loss: 3.6097 - val_acc: 0.5478\n",
            "Epoch 66/100\n",
            "50000/50000 [==============================] - 26s 513us/step - loss: 0.0532 - acc: 0.9824 - val_loss: 3.8066 - val_acc: 0.5507\n",
            "Epoch 67/100\n",
            "50000/50000 [==============================] - 26s 514us/step - loss: 0.0682 - acc: 0.9775 - val_loss: 3.5868 - val_acc: 0.5476\n",
            "Epoch 68/100\n",
            "50000/50000 [==============================] - 26s 514us/step - loss: 0.0663 - acc: 0.9794 - val_loss: 3.6391 - val_acc: 0.5429\n",
            "Epoch 69/100\n",
            "50000/50000 [==============================] - 25s 507us/step - loss: 0.0681 - acc: 0.9785 - val_loss: 3.6146 - val_acc: 0.5363\n",
            "Epoch 70/100\n",
            "50000/50000 [==============================] - 26s 510us/step - loss: 0.0623 - acc: 0.9805 - val_loss: 3.6841 - val_acc: 0.5373\n",
            "Epoch 71/100\n",
            "50000/50000 [==============================] - 26s 515us/step - loss: 0.0684 - acc: 0.9783 - val_loss: 3.6324 - val_acc: 0.5469\n",
            "Epoch 72/100\n",
            "50000/50000 [==============================] - 25s 510us/step - loss: 0.0545 - acc: 0.9824 - val_loss: 3.7592 - val_acc: 0.5393\n",
            "Epoch 73/100\n",
            "50000/50000 [==============================] - 26s 512us/step - loss: 0.0550 - acc: 0.9821 - val_loss: 3.6488 - val_acc: 0.5420\n",
            "Epoch 74/100\n",
            "50000/50000 [==============================] - 28s 562us/step - loss: 0.0567 - acc: 0.9823 - val_loss: 3.6155 - val_acc: 0.5431\n",
            "Epoch 75/100\n",
            "50000/50000 [==============================] - 26s 521us/step - loss: 0.0546 - acc: 0.9832 - val_loss: 3.7185 - val_acc: 0.5419\n",
            "Epoch 76/100\n",
            "50000/50000 [==============================] - 26s 521us/step - loss: 0.0721 - acc: 0.9778 - val_loss: 3.7576 - val_acc: 0.5367\n",
            "Epoch 77/100\n",
            "50000/50000 [==============================] - 26s 521us/step - loss: 0.0587 - acc: 0.9814 - val_loss: 3.6714 - val_acc: 0.5536\n",
            "Epoch 78/100\n",
            "50000/50000 [==============================] - 26s 516us/step - loss: 0.0485 - acc: 0.9845 - val_loss: 3.6585 - val_acc: 0.5431\n",
            "Epoch 79/100\n",
            "50000/50000 [==============================] - 26s 523us/step - loss: 0.0677 - acc: 0.9792 - val_loss: 3.4908 - val_acc: 0.5521\n",
            "Epoch 80/100\n",
            "50000/50000 [==============================] - 26s 527us/step - loss: 0.0449 - acc: 0.9859 - val_loss: 3.7442 - val_acc: 0.5549\n",
            "Epoch 81/100\n",
            "50000/50000 [==============================] - 26s 525us/step - loss: 0.0512 - acc: 0.9840 - val_loss: 3.7111 - val_acc: 0.5417\n",
            "Epoch 82/100\n",
            "50000/50000 [==============================] - 26s 526us/step - loss: 0.0701 - acc: 0.9787 - val_loss: 3.6703 - val_acc: 0.5427\n",
            "Epoch 83/100\n",
            "50000/50000 [==============================] - 26s 530us/step - loss: 0.0615 - acc: 0.9807 - val_loss: 3.7253 - val_acc: 0.5445\n",
            "Epoch 84/100\n",
            "50000/50000 [==============================] - 26s 529us/step - loss: 0.0571 - acc: 0.9821 - val_loss: 3.7142 - val_acc: 0.5493\n",
            "Epoch 85/100\n",
            "50000/50000 [==============================] - 26s 527us/step - loss: 0.0469 - acc: 0.9852 - val_loss: 3.7646 - val_acc: 0.5507\n",
            "Epoch 86/100\n",
            "50000/50000 [==============================] - 26s 529us/step - loss: 0.0520 - acc: 0.9842 - val_loss: 3.7597 - val_acc: 0.5435\n",
            "Epoch 87/100\n",
            "50000/50000 [==============================] - 26s 525us/step - loss: 0.0469 - acc: 0.9851 - val_loss: 3.8208 - val_acc: 0.5384\n",
            "Epoch 88/100\n",
            "50000/50000 [==============================] - 27s 531us/step - loss: 0.0580 - acc: 0.9821 - val_loss: 3.7109 - val_acc: 0.5411\n",
            "Epoch 89/100\n",
            "50000/50000 [==============================] - 27s 534us/step - loss: 0.0529 - acc: 0.9835 - val_loss: 3.7216 - val_acc: 0.5449\n",
            "Epoch 90/100\n",
            "50000/50000 [==============================] - 26s 528us/step - loss: 0.0417 - acc: 0.9878 - val_loss: 3.7073 - val_acc: 0.5475\n",
            "Epoch 91/100\n",
            "50000/50000 [==============================] - 27s 534us/step - loss: 0.0501 - acc: 0.9841 - val_loss: 3.8725 - val_acc: 0.5352\n",
            "Epoch 92/100\n",
            "50000/50000 [==============================] - 27s 530us/step - loss: 0.0697 - acc: 0.9789 - val_loss: 3.6989 - val_acc: 0.5426\n",
            "Epoch 93/100\n",
            "50000/50000 [==============================] - 26s 529us/step - loss: 0.0476 - acc: 0.9852 - val_loss: 3.7346 - val_acc: 0.5487\n",
            "Epoch 94/100\n",
            "50000/50000 [==============================] - 26s 529us/step - loss: 0.0389 - acc: 0.9880 - val_loss: 3.8106 - val_acc: 0.5414\n",
            "Epoch 95/100\n",
            "50000/50000 [==============================] - 26s 528us/step - loss: 0.0501 - acc: 0.9851 - val_loss: 3.7820 - val_acc: 0.5536\n",
            "Epoch 96/100\n",
            "50000/50000 [==============================] - 26s 522us/step - loss: 0.0453 - acc: 0.9853 - val_loss: 3.5227 - val_acc: 0.5486\n",
            "Epoch 97/100\n",
            "50000/50000 [==============================] - 27s 531us/step - loss: 0.0379 - acc: 0.9882 - val_loss: 3.7810 - val_acc: 0.5500\n",
            "Epoch 98/100\n",
            "50000/50000 [==============================] - 26s 528us/step - loss: 0.0395 - acc: 0.9874 - val_loss: 3.8850 - val_acc: 0.5533\n",
            "Epoch 99/100\n",
            "50000/50000 [==============================] - 26s 521us/step - loss: 0.0588 - acc: 0.9817 - val_loss: 3.5615 - val_acc: 0.5431\n",
            "Epoch 100/100\n",
            "50000/50000 [==============================] - 26s 525us/step - loss: 0.0535 - acc: 0.9834 - val_loss: 3.5610 - val_acc: 0.5487\n"
          ],
          "name": "stdout"
        },
        {
          "output_type": "execute_result",
          "data": {
            "text/plain": [
              "<keras.callbacks.History at 0x7f4c22108b70>"
            ]
          },
          "metadata": {
            "tags": []
          },
          "execution_count": 9
        }
      ]
    },
    {
      "cell_type": "code",
      "metadata": {
        "id": "kdPEKQVEx6Vn",
        "colab_type": "code",
        "colab": {
          "base_uri": "https://localhost:8080/",
          "height": 545
        },
        "outputId": "61295148-e232-4cb3-d795-5754ce317c33"
      },
      "source": [
        "import matplotlib.pyplot as plt\n",
        "\n",
        "\n",
        "train_loss = model.history.history[\"loss\"]\n",
        "valid_loss = model.history.history[\"val_loss\"]\n",
        "\n",
        "train_acc = model.history.history[\"acc\"]\n",
        "valid_acc = model.history.history[\"val_acc\"]\n",
        "\n",
        "plt.plot(range(len(train_loss)), train_loss, label=\"train loss\")\n",
        "plt.plot(range(len(valid_loss)), valid_loss, label=\"valid loss\")\n",
        "plt.legend()\n",
        "plt.title(\"Loss\")\n",
        "plt.show()\n",
        "\n",
        "plt.plot(range(len(train_acc)), train_acc, label=\"train accuracy\")\n",
        "plt.plot(range(len(valid_acc)), valid_acc, label=\"valid accuracy\")\n",
        "plt.legend()\n",
        "plt.title(\"Accuracy\")\n",
        "plt.show()"
      ],
      "execution_count": 10,
      "outputs": [
        {
          "output_type": "display_data",
          "data": {
            "image/png": "[encoded data removed]",
            "text/plain": [
              "<Figure size 432x288 with 1 Axes>"
            ]
          },
          "metadata": {
            "tags": []
          }
        },
        {
          "output_type": "display_data",
          "data": {
            "image/png": "[encoded data removed]",
            "text/plain": [
              "<Figure size 432x288 with 1 Axes>"
            ]
          },
          "metadata": {
            "tags": []
          }
        }
      ]
    }
  ]
}
