{
  "nbformat": 4,
  "nbformat_minor": 0,
  "metadata": {
    "colab": {
      "name": "Day_51-53_Midterm.ipynb",
      "provenance": [],
      "collapsed_sections": [],
      "include_colab_link": true
    },
    "kernelspec": {
      "name": "python3",
      "display_name": "Python 3"
    },
    "accelerator": "GPU"
  },
  "cells": [
    {
      "cell_type": "markdown",
      "metadata": {
        "id": "view-in-github",
        "colab_type": "text"
      },
      "source": [
        "<a href=\"https://colab.research.google.com/github/chunyuan0221/3rd-ML100days/blob/master/Day_51_53_Midterm.ipynb\" target=\"_parent\"><img src=\"https://colab.research.google.com/assets/colab-badge.svg\" alt=\"Open In Colab\"/></a>"
      ]
    },
    {
      "cell_type": "markdown",
      "metadata": {
        "id": "403HnCi6oWcz",
        "colab_type": "text"
      },
      "source": [
        "# Day051-53 Midterm Test - Enron Fraud Dataset 安隆公司詐欺案資料集\n",
        "***\n",
        "- 專案目的：安隆公司曾是一間能源公司，2001 年破產前是世界上最大的電力、天然氣及電信公司之一。擁有上千億資產的公司於 2002 年竟然在短短幾周內宣告破產，才揭露其財報在多年以來均是造假的醜聞。在本資料集中你將會扮演偵探的角色，透過高層經理人內部的 mail 來往的情報以及薪資、股票等財務特徵，訓練出一個機器學習模型來幫忙你找到可疑的詐欺犯罪者是誰! 我們已經先幫你找到幾位犯罪者 (Person-of-Interest, poi) 與清白的員工，請利用這些訓練資料來訓練屬於自己的詐欺犯機器學習模型吧!"
      ]
    },
    {
      "cell_type": "markdown",
      "metadata": {
        "id": "jdCiGC_igHmK",
        "colab_type": "text"
      },
      "source": [
        "- 由於資料放置於私人Google雲端空間，因此必須先讓colab的資料路徑更改為Google雲端空間\n",
        "- 點選認證連結並複製、貼上認證碼即可連結至私人雲端硬碟空間"
      ]
    },
    {
      "cell_type": "code",
      "metadata": {
        "id": "IZtjYds87tBI",
        "colab_type": "code",
        "colab": {}
      },
      "source": [
        "from google.colab import drive"
      ],
      "execution_count": 0,
      "outputs": []
    },
    {
      "cell_type": "code",
      "metadata": {
        "id": "wGaNka61fagM",
        "colab_type": "code",
        "outputId": "2f9d42f2-f78f-4ee3-fd23-5526ccc83f95",
        "colab": {
          "base_uri": "https://localhost:8080/",
          "height": 35
        }
      },
      "source": [
        "drive.mount('content')"
      ],
      "execution_count": 2,
      "outputs": [
        {
          "output_type": "stream",
          "text": [
            "Drive already mounted at content; to attempt to forcibly remount, call drive.mount(\"content\", force_remount=True).\n"
          ],
          "name": "stdout"
        }
      ]
    },
    {
      "cell_type": "markdown",
      "metadata": {
        "id": "ZqA_wus-hibg",
        "colab_type": "text"
      },
      "source": [
        "- 透過os.listdir可以查看路徑下的資料\n",
        "- 找到存放訓練與預測資料的位置和路徑後，即可載入數據"
      ]
    },
    {
      "cell_type": "code",
      "metadata": {
        "id": "obKYunJifeez",
        "colab_type": "code",
        "colab": {}
      },
      "source": [
        "import os"
      ],
      "execution_count": 0,
      "outputs": []
    },
    {
      "cell_type": "code",
      "metadata": {
        "id": "7Y_8HwCAf1od",
        "colab_type": "code",
        "outputId": "72092687-94b0-480b-e7c2-31e612c1aec2",
        "colab": {
          "base_uri": "https://localhost:8080/",
          "height": 87
        }
      },
      "source": [
        "os.listdir('content/My Drive/ML100_Colab Notebooks/6.ML100_Midterm test')"
      ],
      "execution_count": 4,
      "outputs": [
        {
          "output_type": "execute_result",
          "data": {
            "text/plain": [
              "['test_features.csv',\n",
              " 'train_data.csv',\n",
              " 'Day_51-53_Midterm.ipynb',\n",
              " 'result.csv']"
            ]
          },
          "metadata": {
            "tags": []
          },
          "execution_count": 4
        }
      ]
    },
    {
      "cell_type": "code",
      "metadata": {
        "id": "VWXGnEWuilRi",
        "colab_type": "code",
        "colab": {}
      },
      "source": [
        "import pandas as pd\n",
        "import numpy as np"
      ],
      "execution_count": 0,
      "outputs": []
    },
    {
      "cell_type": "code",
      "metadata": {
        "id": "jAE6t9R5gA6C",
        "colab_type": "code",
        "outputId": "ce3b3403-cbec-4439-ddba-1acecffcf663",
        "colab": {
          "base_uri": "https://localhost:8080/",
          "height": 52
        }
      },
      "source": [
        "# 設定為資料的根目錄\n",
        "data_root = 'content/My Drive/ML100_Colab Notebooks/6.ML100_Midterm test/'\n",
        "# load訓練資料 & 預測資料\n",
        "train_data = pd.read_csv(data_root + 'train_data.csv')\n",
        "test_features = pd.read_csv(data_root + 'test_features.csv')\n",
        "\n",
        "print(f'train data shape:{train_data.shape}')\n",
        "print(f'test features data shape:{test_features.shape}')"
      ],
      "execution_count": 6,
      "outputs": [
        {
          "output_type": "stream",
          "text": [
            "train data shape:(113, 22)\n",
            "test features data shape:(33, 21)\n"
          ],
          "name": "stdout"
        }
      ]
    },
    {
      "cell_type": "markdown",
      "metadata": {
        "id": "eYm5uIo9juGy",
        "colab_type": "text"
      },
      "source": [
        "### 資料前處理 - 查看資料內容\n",
        "***\n",
        "- 由上面結果可知:\n",
        "  1. train data:有113筆資料，22個參數。\n",
        "  2. test features:有33筆，21個參數。\n",
        "  3. test相比train data的參數少了1個，那可能就是我們要預測的label。\n",
        "- 我們可以進一步查看參數內容：少的參數是poi(犯罪機率)也就是我們要預測的label。\n"
      ]
    },
    {
      "cell_type": "code",
      "metadata": {
        "id": "nX8mqHPpkxtQ",
        "colab_type": "code",
        "outputId": "1c348900-d42f-498e-bac4-bba8b46bddce",
        "colab": {
          "base_uri": "https://localhost:8080/",
          "height": 277
        }
      },
      "source": [
        "print(train_data.columns)\n",
        "print(test_features.columns)"
      ],
      "execution_count": 7,
      "outputs": [
        {
          "output_type": "stream",
          "text": [
            "Index(['name', 'bonus', 'deferral_payments', 'deferred_income',\n",
            "       'director_fees', 'email_address', 'exercised_stock_options', 'expenses',\n",
            "       'from_messages', 'from_poi_to_this_person', 'from_this_person_to_poi',\n",
            "       'loan_advances', 'long_term_incentive', 'other', 'poi',\n",
            "       'restricted_stock', 'restricted_stock_deferred', 'salary',\n",
            "       'shared_receipt_with_poi', 'to_messages', 'total_payments',\n",
            "       'total_stock_value'],\n",
            "      dtype='object')\n",
            "Index(['name', 'bonus', 'deferral_payments', 'deferred_income',\n",
            "       'director_fees', 'email_address', 'exercised_stock_options', 'expenses',\n",
            "       'from_messages', 'from_poi_to_this_person', 'from_this_person_to_poi',\n",
            "       'loan_advances', 'long_term_incentive', 'other', 'restricted_stock',\n",
            "       'restricted_stock_deferred', 'salary', 'shared_receipt_with_poi',\n",
            "       'to_messages', 'total_payments', 'total_stock_value'],\n",
            "      dtype='object')\n"
          ],
          "name": "stdout"
        }
      ]
    },
    {
      "cell_type": "markdown",
      "metadata": {
        "id": "RDTBXdFotsqk",
        "colab_type": "text"
      },
      "source": [
        "### 資料前處理 - 保留與清除資料欄位\n",
        "***\n",
        "1. 找到label欄位並另存為 y_train，再從原始欄位中清除。\n",
        "2. 清除沒意義的欄位：獨立名字、索引ID等等(name、email_address)，但若是有可做為分組的名稱則有意義。\n",
        "3. 保留數值欄位：不同的薪水、獎金、工作經驗等等的。\n"
      ]
    },
    {
      "cell_type": "code",
      "metadata": {
        "id": "L12xDHGnlTpc",
        "colab_type": "code",
        "outputId": "e9e01ad1-d56b-408d-d43a-5659b9bad77f",
        "colab": {
          "base_uri": "https://localhost:8080/",
          "height": 309
        }
      },
      "source": [
        "train_data.head()"
      ],
      "execution_count": 8,
      "outputs": [
        {
          "output_type": "execute_result",
          "data": {
            "text/html": [
              "<div>\n",
              "<style scoped>\n",
              "    .dataframe tbody tr th:only-of-type {\n",
              "        vertical-align: middle;\n",
              "    }\n",
              "\n",
              "    .dataframe tbody tr th {\n",
              "        vertical-align: top;\n",
              "    }\n",
              "\n",
              "    .dataframe thead th {\n",
              "        text-align: right;\n",
              "    }\n",
              "</style>\n",
              "<table border=\"1\" class=\"dataframe\">\n",
              "  <thead>\n",
              "    <tr style=\"text-align: right;\">\n",
              "      <th></th>\n",
              "      <th>name</th>\n",
              "      <th>bonus</th>\n",
              "      <th>deferral_payments</th>\n",
              "      <th>deferred_income</th>\n",
              "      <th>director_fees</th>\n",
              "      <th>email_address</th>\n",
              "      <th>exercised_stock_options</th>\n",
              "      <th>expenses</th>\n",
              "      <th>from_messages</th>\n",
              "      <th>from_poi_to_this_person</th>\n",
              "      <th>from_this_person_to_poi</th>\n",
              "      <th>loan_advances</th>\n",
              "      <th>long_term_incentive</th>\n",
              "      <th>other</th>\n",
              "      <th>poi</th>\n",
              "      <th>restricted_stock</th>\n",
              "      <th>restricted_stock_deferred</th>\n",
              "      <th>salary</th>\n",
              "      <th>shared_receipt_with_poi</th>\n",
              "      <th>to_messages</th>\n",
              "      <th>total_payments</th>\n",
              "      <th>total_stock_value</th>\n",
              "    </tr>\n",
              "  </thead>\n",
              "  <tbody>\n",
              "    <tr>\n",
              "      <th>0</th>\n",
              "      <td>RICE KENNETH D</td>\n",
              "      <td>1750000.0</td>\n",
              "      <td>NaN</td>\n",
              "      <td>-3504386.0</td>\n",
              "      <td>NaN</td>\n",
              "      <td>ken.rice@enron.com</td>\n",
              "      <td>19794175.0</td>\n",
              "      <td>46950.0</td>\n",
              "      <td>18.0</td>\n",
              "      <td>42.0</td>\n",
              "      <td>4.0</td>\n",
              "      <td>NaN</td>\n",
              "      <td>1617011.0</td>\n",
              "      <td>174839.0</td>\n",
              "      <td>True</td>\n",
              "      <td>2748364.0</td>\n",
              "      <td>NaN</td>\n",
              "      <td>420636.0</td>\n",
              "      <td>864.0</td>\n",
              "      <td>905.0</td>\n",
              "      <td>505050.0</td>\n",
              "      <td>22542539.0</td>\n",
              "    </tr>\n",
              "    <tr>\n",
              "      <th>1</th>\n",
              "      <td>SKILLING JEFFREY K</td>\n",
              "      <td>5600000.0</td>\n",
              "      <td>NaN</td>\n",
              "      <td>NaN</td>\n",
              "      <td>NaN</td>\n",
              "      <td>jeff.skilling@enron.com</td>\n",
              "      <td>19250000.0</td>\n",
              "      <td>29336.0</td>\n",
              "      <td>108.0</td>\n",
              "      <td>88.0</td>\n",
              "      <td>30.0</td>\n",
              "      <td>NaN</td>\n",
              "      <td>1920000.0</td>\n",
              "      <td>22122.0</td>\n",
              "      <td>True</td>\n",
              "      <td>6843672.0</td>\n",
              "      <td>NaN</td>\n",
              "      <td>1111258.0</td>\n",
              "      <td>2042.0</td>\n",
              "      <td>3627.0</td>\n",
              "      <td>8682716.0</td>\n",
              "      <td>26093672.0</td>\n",
              "    </tr>\n",
              "    <tr>\n",
              "      <th>2</th>\n",
              "      <td>SHELBY REX</td>\n",
              "      <td>200000.0</td>\n",
              "      <td>NaN</td>\n",
              "      <td>-4167.0</td>\n",
              "      <td>NaN</td>\n",
              "      <td>rex.shelby@enron.com</td>\n",
              "      <td>1624396.0</td>\n",
              "      <td>22884.0</td>\n",
              "      <td>39.0</td>\n",
              "      <td>13.0</td>\n",
              "      <td>14.0</td>\n",
              "      <td>NaN</td>\n",
              "      <td>NaN</td>\n",
              "      <td>1573324.0</td>\n",
              "      <td>True</td>\n",
              "      <td>869220.0</td>\n",
              "      <td>NaN</td>\n",
              "      <td>211844.0</td>\n",
              "      <td>91.0</td>\n",
              "      <td>225.0</td>\n",
              "      <td>2003885.0</td>\n",
              "      <td>2493616.0</td>\n",
              "    </tr>\n",
              "    <tr>\n",
              "      <th>3</th>\n",
              "      <td>KOPPER MICHAEL J</td>\n",
              "      <td>800000.0</td>\n",
              "      <td>NaN</td>\n",
              "      <td>NaN</td>\n",
              "      <td>NaN</td>\n",
              "      <td>michael.kopper@enron.com</td>\n",
              "      <td>NaN</td>\n",
              "      <td>118134.0</td>\n",
              "      <td>NaN</td>\n",
              "      <td>NaN</td>\n",
              "      <td>NaN</td>\n",
              "      <td>NaN</td>\n",
              "      <td>602671.0</td>\n",
              "      <td>907502.0</td>\n",
              "      <td>True</td>\n",
              "      <td>985032.0</td>\n",
              "      <td>NaN</td>\n",
              "      <td>224305.0</td>\n",
              "      <td>NaN</td>\n",
              "      <td>NaN</td>\n",
              "      <td>2652612.0</td>\n",
              "      <td>985032.0</td>\n",
              "    </tr>\n",
              "    <tr>\n",
              "      <th>4</th>\n",
              "      <td>CALGER CHRISTOPHER F</td>\n",
              "      <td>1250000.0</td>\n",
              "      <td>NaN</td>\n",
              "      <td>-262500.0</td>\n",
              "      <td>NaN</td>\n",
              "      <td>christopher.calger@enron.com</td>\n",
              "      <td>NaN</td>\n",
              "      <td>35818.0</td>\n",
              "      <td>144.0</td>\n",
              "      <td>199.0</td>\n",
              "      <td>25.0</td>\n",
              "      <td>NaN</td>\n",
              "      <td>375304.0</td>\n",
              "      <td>486.0</td>\n",
              "      <td>True</td>\n",
              "      <td>126027.0</td>\n",
              "      <td>NaN</td>\n",
              "      <td>240189.0</td>\n",
              "      <td>2188.0</td>\n",
              "      <td>2598.0</td>\n",
              "      <td>1639297.0</td>\n",
              "      <td>126027.0</td>\n",
              "    </tr>\n",
              "  </tbody>\n",
              "</table>\n",
              "</div>"
            ],
            "text/plain": [
              "                   name      bonus  ...  total_payments  total_stock_value\n",
              "0        RICE KENNETH D  1750000.0  ...        505050.0         22542539.0\n",
              "1    SKILLING JEFFREY K  5600000.0  ...       8682716.0         26093672.0\n",
              "2            SHELBY REX   200000.0  ...       2003885.0          2493616.0\n",
              "3      KOPPER MICHAEL J   800000.0  ...       2652612.0           985032.0\n",
              "4  CALGER CHRISTOPHER F  1250000.0  ...       1639297.0           126027.0\n",
              "\n",
              "[5 rows x 22 columns]"
            ]
          },
          "metadata": {
            "tags": []
          },
          "execution_count": 8
        }
      ]
    },
    {
      "cell_type": "code",
      "metadata": {
        "id": "LDozKbmqr9Ls",
        "colab_type": "code",
        "outputId": "59f614cc-d849-4db3-8599-775a5e602c12",
        "colab": {
          "base_uri": "https://localhost:8080/",
          "height": 416
        }
      },
      "source": [
        "train_data.dtypes"
      ],
      "execution_count": 9,
      "outputs": [
        {
          "output_type": "execute_result",
          "data": {
            "text/plain": [
              "name                          object\n",
              "bonus                        float64\n",
              "deferral_payments            float64\n",
              "deferred_income              float64\n",
              "director_fees                float64\n",
              "email_address                 object\n",
              "exercised_stock_options      float64\n",
              "expenses                     float64\n",
              "from_messages                float64\n",
              "from_poi_to_this_person      float64\n",
              "from_this_person_to_poi      float64\n",
              "loan_advances                float64\n",
              "long_term_incentive          float64\n",
              "other                        float64\n",
              "poi                             bool\n",
              "restricted_stock             float64\n",
              "restricted_stock_deferred    float64\n",
              "salary                       float64\n",
              "shared_receipt_with_poi      float64\n",
              "to_messages                  float64\n",
              "total_payments               float64\n",
              "total_stock_value            float64\n",
              "dtype: object"
            ]
          },
          "metadata": {
            "tags": []
          },
          "execution_count": 9
        }
      ]
    },
    {
      "cell_type": "code",
      "metadata": {
        "id": "62Rp0rMCwCtG",
        "colab_type": "code",
        "outputId": "583f8026-56d5-4301-9247-718096cdc7b2",
        "colab": {
          "base_uri": "https://localhost:8080/",
          "height": 257
        }
      },
      "source": [
        "# find 'poi'，建立y_trian\n",
        "train_label = train_data[['poi']]  # 這樣才會是DataFrame格式\n",
        "print(f'y_train shape:{train_label.shape}')\n",
        "\n",
        "# 清除 name、email_address\n",
        "train_data = train_data.drop(['name', 'email_address', 'poi'], axis=1)\n",
        "print(f'x_train shape:{train_data.shape}')\n",
        "\n",
        "train_data.head()"
      ],
      "execution_count": 10,
      "outputs": [
        {
          "output_type": "stream",
          "text": [
            "y_train shape:(113, 1)\n",
            "x_train shape:(113, 19)\n"
          ],
          "name": "stdout"
        },
        {
          "output_type": "execute_result",
          "data": {
            "text/html": [
              "<div>\n",
              "<style scoped>\n",
              "    .dataframe tbody tr th:only-of-type {\n",
              "        vertical-align: middle;\n",
              "    }\n",
              "\n",
              "    .dataframe tbody tr th {\n",
              "        vertical-align: top;\n",
              "    }\n",
              "\n",
              "    .dataframe thead th {\n",
              "        text-align: right;\n",
              "    }\n",
              "</style>\n",
              "<table border=\"1\" class=\"dataframe\">\n",
              "  <thead>\n",
              "    <tr style=\"text-align: right;\">\n",
              "      <th></th>\n",
              "      <th>bonus</th>\n",
              "      <th>deferral_payments</th>\n",
              "      <th>deferred_income</th>\n",
              "      <th>director_fees</th>\n",
              "      <th>exercised_stock_options</th>\n",
              "      <th>expenses</th>\n",
              "      <th>from_messages</th>\n",
              "      <th>from_poi_to_this_person</th>\n",
              "      <th>from_this_person_to_poi</th>\n",
              "      <th>loan_advances</th>\n",
              "      <th>long_term_incentive</th>\n",
              "      <th>other</th>\n",
              "      <th>restricted_stock</th>\n",
              "      <th>restricted_stock_deferred</th>\n",
              "      <th>salary</th>\n",
              "      <th>shared_receipt_with_poi</th>\n",
              "      <th>to_messages</th>\n",
              "      <th>total_payments</th>\n",
              "      <th>total_stock_value</th>\n",
              "    </tr>\n",
              "  </thead>\n",
              "  <tbody>\n",
              "    <tr>\n",
              "      <th>0</th>\n",
              "      <td>1750000.0</td>\n",
              "      <td>NaN</td>\n",
              "      <td>-3504386.0</td>\n",
              "      <td>NaN</td>\n",
              "      <td>19794175.0</td>\n",
              "      <td>46950.0</td>\n",
              "      <td>18.0</td>\n",
              "      <td>42.0</td>\n",
              "      <td>4.0</td>\n",
              "      <td>NaN</td>\n",
              "      <td>1617011.0</td>\n",
              "      <td>174839.0</td>\n",
              "      <td>2748364.0</td>\n",
              "      <td>NaN</td>\n",
              "      <td>420636.0</td>\n",
              "      <td>864.0</td>\n",
              "      <td>905.0</td>\n",
              "      <td>505050.0</td>\n",
              "      <td>22542539.0</td>\n",
              "    </tr>\n",
              "    <tr>\n",
              "      <th>1</th>\n",
              "      <td>5600000.0</td>\n",
              "      <td>NaN</td>\n",
              "      <td>NaN</td>\n",
              "      <td>NaN</td>\n",
              "      <td>19250000.0</td>\n",
              "      <td>29336.0</td>\n",
              "      <td>108.0</td>\n",
              "      <td>88.0</td>\n",
              "      <td>30.0</td>\n",
              "      <td>NaN</td>\n",
              "      <td>1920000.0</td>\n",
              "      <td>22122.0</td>\n",
              "      <td>6843672.0</td>\n",
              "      <td>NaN</td>\n",
              "      <td>1111258.0</td>\n",
              "      <td>2042.0</td>\n",
              "      <td>3627.0</td>\n",
              "      <td>8682716.0</td>\n",
              "      <td>26093672.0</td>\n",
              "    </tr>\n",
              "    <tr>\n",
              "      <th>2</th>\n",
              "      <td>200000.0</td>\n",
              "      <td>NaN</td>\n",
              "      <td>-4167.0</td>\n",
              "      <td>NaN</td>\n",
              "      <td>1624396.0</td>\n",
              "      <td>22884.0</td>\n",
              "      <td>39.0</td>\n",
              "      <td>13.0</td>\n",
              "      <td>14.0</td>\n",
              "      <td>NaN</td>\n",
              "      <td>NaN</td>\n",
              "      <td>1573324.0</td>\n",
              "      <td>869220.0</td>\n",
              "      <td>NaN</td>\n",
              "      <td>211844.0</td>\n",
              "      <td>91.0</td>\n",
              "      <td>225.0</td>\n",
              "      <td>2003885.0</td>\n",
              "      <td>2493616.0</td>\n",
              "    </tr>\n",
              "    <tr>\n",
              "      <th>3</th>\n",
              "      <td>800000.0</td>\n",
              "      <td>NaN</td>\n",
              "      <td>NaN</td>\n",
              "      <td>NaN</td>\n",
              "      <td>NaN</td>\n",
              "      <td>118134.0</td>\n",
              "      <td>NaN</td>\n",
              "      <td>NaN</td>\n",
              "      <td>NaN</td>\n",
              "      <td>NaN</td>\n",
              "      <td>602671.0</td>\n",
              "      <td>907502.0</td>\n",
              "      <td>985032.0</td>\n",
              "      <td>NaN</td>\n",
              "      <td>224305.0</td>\n",
              "      <td>NaN</td>\n",
              "      <td>NaN</td>\n",
              "      <td>2652612.0</td>\n",
              "      <td>985032.0</td>\n",
              "    </tr>\n",
              "    <tr>\n",
              "      <th>4</th>\n",
              "      <td>1250000.0</td>\n",
              "      <td>NaN</td>\n",
              "      <td>-262500.0</td>\n",
              "      <td>NaN</td>\n",
              "      <td>NaN</td>\n",
              "      <td>35818.0</td>\n",
              "      <td>144.0</td>\n",
              "      <td>199.0</td>\n",
              "      <td>25.0</td>\n",
              "      <td>NaN</td>\n",
              "      <td>375304.0</td>\n",
              "      <td>486.0</td>\n",
              "      <td>126027.0</td>\n",
              "      <td>NaN</td>\n",
              "      <td>240189.0</td>\n",
              "      <td>2188.0</td>\n",
              "      <td>2598.0</td>\n",
              "      <td>1639297.0</td>\n",
              "      <td>126027.0</td>\n",
              "    </tr>\n",
              "  </tbody>\n",
              "</table>\n",
              "</div>"
            ],
            "text/plain": [
              "       bonus  deferral_payments  ...  total_payments  total_stock_value\n",
              "0  1750000.0                NaN  ...        505050.0         22542539.0\n",
              "1  5600000.0                NaN  ...       8682716.0         26093672.0\n",
              "2   200000.0                NaN  ...       2003885.0          2493616.0\n",
              "3   800000.0                NaN  ...       2652612.0           985032.0\n",
              "4  1250000.0                NaN  ...       1639297.0           126027.0\n",
              "\n",
              "[5 rows x 19 columns]"
            ]
          },
          "metadata": {
            "tags": []
          },
          "execution_count": 10
        }
      ]
    },
    {
      "cell_type": "markdown",
      "metadata": {
        "id": "FWAxVYfCrwsK",
        "colab_type": "text"
      },
      "source": [
        "### 資料前處理 - 遺失值處理(NaN)\n",
        "***\n",
        "- 在觀察資料中，我們還發現有許多欄位都有遺失值(NaN)，處理遺失值有幾種方式：\n",
        "  1. drop整欄：當欄位中遺失值太多時，此欄位的參考價值則不高。\n",
        "  2. 填值：當只有部分資料遺失，可以填入平均值、中位數或眾數取代NaN。"
      ]
    },
    {
      "cell_type": "code",
      "metadata": {
        "id": "7PKjiJ5jtDyz",
        "colab_type": "code",
        "outputId": "3b26e6b0-2bbc-4adc-eb1e-6fe986db89d8",
        "colab": {
          "base_uri": "https://localhost:8080/",
          "height": 314
        }
      },
      "source": [
        "train_data.describe()"
      ],
      "execution_count": 11,
      "outputs": [
        {
          "output_type": "execute_result",
          "data": {
            "text/html": [
              "<div>\n",
              "<style scoped>\n",
              "    .dataframe tbody tr th:only-of-type {\n",
              "        vertical-align: middle;\n",
              "    }\n",
              "\n",
              "    .dataframe tbody tr th {\n",
              "        vertical-align: top;\n",
              "    }\n",
              "\n",
              "    .dataframe thead th {\n",
              "        text-align: right;\n",
              "    }\n",
              "</style>\n",
              "<table border=\"1\" class=\"dataframe\">\n",
              "  <thead>\n",
              "    <tr style=\"text-align: right;\">\n",
              "      <th></th>\n",
              "      <th>bonus</th>\n",
              "      <th>deferral_payments</th>\n",
              "      <th>deferred_income</th>\n",
              "      <th>director_fees</th>\n",
              "      <th>exercised_stock_options</th>\n",
              "      <th>expenses</th>\n",
              "      <th>from_messages</th>\n",
              "      <th>from_poi_to_this_person</th>\n",
              "      <th>from_this_person_to_poi</th>\n",
              "      <th>loan_advances</th>\n",
              "      <th>long_term_incentive</th>\n",
              "      <th>other</th>\n",
              "      <th>restricted_stock</th>\n",
              "      <th>restricted_stock_deferred</th>\n",
              "      <th>salary</th>\n",
              "      <th>shared_receipt_with_poi</th>\n",
              "      <th>to_messages</th>\n",
              "      <th>total_payments</th>\n",
              "      <th>total_stock_value</th>\n",
              "    </tr>\n",
              "  </thead>\n",
              "  <tbody>\n",
              "    <tr>\n",
              "      <th>count</th>\n",
              "      <td>6.100000e+01</td>\n",
              "      <td>2.800000e+01</td>\n",
              "      <td>3.400000e+01</td>\n",
              "      <td>13.000000</td>\n",
              "      <td>8.100000e+01</td>\n",
              "      <td>73.000000</td>\n",
              "      <td>65.000000</td>\n",
              "      <td>65.000000</td>\n",
              "      <td>65.000000</td>\n",
              "      <td>2.000000e+00</td>\n",
              "      <td>4.900000e+01</td>\n",
              "      <td>6.900000e+01</td>\n",
              "      <td>8.200000e+01</td>\n",
              "      <td>10.000000</td>\n",
              "      <td>7.300000e+01</td>\n",
              "      <td>65.000000</td>\n",
              "      <td>65.000000</td>\n",
              "      <td>9.600000e+01</td>\n",
              "      <td>9.800000e+01</td>\n",
              "    </tr>\n",
              "    <tr>\n",
              "      <th>mean</th>\n",
              "      <td>1.147436e+06</td>\n",
              "      <td>6.344374e+05</td>\n",
              "      <td>-4.625664e+05</td>\n",
              "      <td>89397.846154</td>\n",
              "      <td>2.985081e+06</td>\n",
              "      <td>51040.547945</td>\n",
              "      <td>711.323077</td>\n",
              "      <td>64.800000</td>\n",
              "      <td>40.092308</td>\n",
              "      <td>4.096250e+07</td>\n",
              "      <td>7.926171e+05</td>\n",
              "      <td>4.471774e+05</td>\n",
              "      <td>1.294855e+06</td>\n",
              "      <td>-221885.700000</td>\n",
              "      <td>2.739025e+05</td>\n",
              "      <td>1111.369231</td>\n",
              "      <td>2156.061538</td>\n",
              "      <td>2.590977e+06</td>\n",
              "      <td>3.527136e+06</td>\n",
              "    </tr>\n",
              "    <tr>\n",
              "      <th>std</th>\n",
              "      <td>1.505189e+06</td>\n",
              "      <td>8.603646e+05</td>\n",
              "      <td>8.095392e+05</td>\n",
              "      <td>41143.391399</td>\n",
              "      <td>6.004174e+06</td>\n",
              "      <td>47596.682104</td>\n",
              "      <td>2074.497628</td>\n",
              "      <td>91.863214</td>\n",
              "      <td>88.901407</td>\n",
              "      <td>5.736404e+07</td>\n",
              "      <td>9.504645e+05</td>\n",
              "      <td>1.341564e+06</td>\n",
              "      <td>2.498335e+06</td>\n",
              "      <td>205191.374121</td>\n",
              "      <td>1.716647e+05</td>\n",
              "      <td>1165.852016</td>\n",
              "      <td>2811.676718</td>\n",
              "      <td>1.056645e+07</td>\n",
              "      <td>7.182997e+06</td>\n",
              "    </tr>\n",
              "    <tr>\n",
              "      <th>min</th>\n",
              "      <td>7.000000e+04</td>\n",
              "      <td>-1.025000e+05</td>\n",
              "      <td>-3.504386e+06</td>\n",
              "      <td>3285.000000</td>\n",
              "      <td>3.285000e+03</td>\n",
              "      <td>148.000000</td>\n",
              "      <td>12.000000</td>\n",
              "      <td>0.000000</td>\n",
              "      <td>0.000000</td>\n",
              "      <td>4.000000e+05</td>\n",
              "      <td>7.102300e+04</td>\n",
              "      <td>2.000000e+00</td>\n",
              "      <td>4.409300e+04</td>\n",
              "      <td>-560222.000000</td>\n",
              "      <td>4.770000e+02</td>\n",
              "      <td>2.000000</td>\n",
              "      <td>57.000000</td>\n",
              "      <td>1.480000e+02</td>\n",
              "      <td>-4.409300e+04</td>\n",
              "    </tr>\n",
              "    <tr>\n",
              "      <th>25%</th>\n",
              "      <td>4.500000e+05</td>\n",
              "      <td>7.656750e+04</td>\n",
              "      <td>-5.527032e+05</td>\n",
              "      <td>101250.000000</td>\n",
              "      <td>4.004780e+05</td>\n",
              "      <td>18834.000000</td>\n",
              "      <td>19.000000</td>\n",
              "      <td>10.000000</td>\n",
              "      <td>0.000000</td>\n",
              "      <td>2.068125e+07</td>\n",
              "      <td>2.750000e+05</td>\n",
              "      <td>9.720000e+02</td>\n",
              "      <td>2.689220e+05</td>\n",
              "      <td>-389621.750000</td>\n",
              "      <td>2.061210e+05</td>\n",
              "      <td>178.000000</td>\n",
              "      <td>517.000000</td>\n",
              "      <td>3.024025e+05</td>\n",
              "      <td>4.211518e+05</td>\n",
              "    </tr>\n",
              "    <tr>\n",
              "      <th>50%</th>\n",
              "      <td>7.500000e+05</td>\n",
              "      <td>1.951900e+05</td>\n",
              "      <td>-1.175340e+05</td>\n",
              "      <td>108579.000000</td>\n",
              "      <td>8.500100e+05</td>\n",
              "      <td>41953.000000</td>\n",
              "      <td>45.000000</td>\n",
              "      <td>28.000000</td>\n",
              "      <td>7.000000</td>\n",
              "      <td>4.096250e+07</td>\n",
              "      <td>4.221580e+05</td>\n",
              "      <td>5.238200e+04</td>\n",
              "      <td>4.628225e+05</td>\n",
              "      <td>-139856.500000</td>\n",
              "      <td>2.516540e+05</td>\n",
              "      <td>599.000000</td>\n",
              "      <td>1088.000000</td>\n",
              "      <td>1.106740e+06</td>\n",
              "      <td>9.979710e+05</td>\n",
              "    </tr>\n",
              "    <tr>\n",
              "      <th>75%</th>\n",
              "      <td>1.000000e+06</td>\n",
              "      <td>8.342052e+05</td>\n",
              "      <td>-2.708325e+04</td>\n",
              "      <td>112492.000000</td>\n",
              "      <td>2.165172e+06</td>\n",
              "      <td>59175.000000</td>\n",
              "      <td>215.000000</td>\n",
              "      <td>88.000000</td>\n",
              "      <td>27.000000</td>\n",
              "      <td>6.124375e+07</td>\n",
              "      <td>8.318090e+05</td>\n",
              "      <td>3.620960e+05</td>\n",
              "      <td>9.664905e+05</td>\n",
              "      <td>-77953.250000</td>\n",
              "      <td>2.885890e+05</td>\n",
              "      <td>1902.000000</td>\n",
              "      <td>2649.000000</td>\n",
              "      <td>1.985668e+06</td>\n",
              "      <td>2.493616e+06</td>\n",
              "    </tr>\n",
              "    <tr>\n",
              "      <th>max</th>\n",
              "      <td>8.000000e+06</td>\n",
              "      <td>2.964506e+06</td>\n",
              "      <td>-1.042000e+03</td>\n",
              "      <td>125034.000000</td>\n",
              "      <td>3.434838e+07</td>\n",
              "      <td>228763.000000</td>\n",
              "      <td>14368.000000</td>\n",
              "      <td>528.000000</td>\n",
              "      <td>411.000000</td>\n",
              "      <td>8.152500e+07</td>\n",
              "      <td>5.145434e+06</td>\n",
              "      <td>1.035973e+07</td>\n",
              "      <td>1.476169e+07</td>\n",
              "      <td>44093.000000</td>\n",
              "      <td>1.111258e+06</td>\n",
              "      <td>4527.000000</td>\n",
              "      <td>15149.000000</td>\n",
              "      <td>1.035598e+08</td>\n",
              "      <td>4.911008e+07</td>\n",
              "    </tr>\n",
              "  </tbody>\n",
              "</table>\n",
              "</div>"
            ],
            "text/plain": [
              "              bonus  deferral_payments  ...  total_payments  total_stock_value\n",
              "count  6.100000e+01       2.800000e+01  ...    9.600000e+01       9.800000e+01\n",
              "mean   1.147436e+06       6.344374e+05  ...    2.590977e+06       3.527136e+06\n",
              "std    1.505189e+06       8.603646e+05  ...    1.056645e+07       7.182997e+06\n",
              "min    7.000000e+04      -1.025000e+05  ...    1.480000e+02      -4.409300e+04\n",
              "25%    4.500000e+05       7.656750e+04  ...    3.024025e+05       4.211518e+05\n",
              "50%    7.500000e+05       1.951900e+05  ...    1.106740e+06       9.979710e+05\n",
              "75%    1.000000e+06       8.342052e+05  ...    1.985668e+06       2.493616e+06\n",
              "max    8.000000e+06       2.964506e+06  ...    1.035598e+08       4.911008e+07\n",
              "\n",
              "[8 rows x 19 columns]"
            ]
          },
          "metadata": {
            "tags": []
          },
          "execution_count": 11
        }
      ]
    },
    {
      "cell_type": "code",
      "metadata": {
        "id": "arK9OQBF06Ob",
        "colab_type": "code",
        "outputId": "641715c7-5e5c-4f03-acad-cc15c678be3f",
        "colab": {
          "base_uri": "https://localhost:8080/",
          "height": 364
        }
      },
      "source": [
        "# 計數每個欄位中，有value的有多少個\n",
        "train_data.count()"
      ],
      "execution_count": 12,
      "outputs": [
        {
          "output_type": "execute_result",
          "data": {
            "text/plain": [
              "bonus                        61\n",
              "deferral_payments            28\n",
              "deferred_income              34\n",
              "director_fees                13\n",
              "exercised_stock_options      81\n",
              "expenses                     73\n",
              "from_messages                65\n",
              "from_poi_to_this_person      65\n",
              "from_this_person_to_poi      65\n",
              "loan_advances                 2\n",
              "long_term_incentive          49\n",
              "other                        69\n",
              "restricted_stock             82\n",
              "restricted_stock_deferred    10\n",
              "salary                       73\n",
              "shared_receipt_with_poi      65\n",
              "to_messages                  65\n",
              "total_payments               96\n",
              "total_stock_value            98\n",
              "dtype: int64"
            ]
          },
          "metadata": {
            "tags": []
          },
          "execution_count": 12
        }
      ]
    },
    {
      "cell_type": "markdown",
      "metadata": {
        "id": "OhEsj2Ci2bhN",
        "colab_type": "text"
      },
      "source": [
        "- 可以發現在某些欄位具有很多遺失值，而真正的有值的不多。\n",
        "- 這邊先都以中位數填值。"
      ]
    },
    {
      "cell_type": "code",
      "metadata": {
        "id": "u9fvsREZ1Cem",
        "colab_type": "code",
        "outputId": "722ea5c4-72d3-49b2-c335-dd4663f93c54",
        "colab": {
          "base_uri": "https://localhost:8080/",
          "height": 222
        }
      },
      "source": [
        "median_value = dict(train_data.median())\n",
        "x_train = train_data.fillna(value=median_value)\n",
        "x_train.head()"
      ],
      "execution_count": 13,
      "outputs": [
        {
          "output_type": "execute_result",
          "data": {
            "text/html": [
              "<div>\n",
              "<style scoped>\n",
              "    .dataframe tbody tr th:only-of-type {\n",
              "        vertical-align: middle;\n",
              "    }\n",
              "\n",
              "    .dataframe tbody tr th {\n",
              "        vertical-align: top;\n",
              "    }\n",
              "\n",
              "    .dataframe thead th {\n",
              "        text-align: right;\n",
              "    }\n",
              "</style>\n",
              "<table border=\"1\" class=\"dataframe\">\n",
              "  <thead>\n",
              "    <tr style=\"text-align: right;\">\n",
              "      <th></th>\n",
              "      <th>bonus</th>\n",
              "      <th>deferral_payments</th>\n",
              "      <th>deferred_income</th>\n",
              "      <th>director_fees</th>\n",
              "      <th>exercised_stock_options</th>\n",
              "      <th>expenses</th>\n",
              "      <th>from_messages</th>\n",
              "      <th>from_poi_to_this_person</th>\n",
              "      <th>from_this_person_to_poi</th>\n",
              "      <th>loan_advances</th>\n",
              "      <th>long_term_incentive</th>\n",
              "      <th>other</th>\n",
              "      <th>restricted_stock</th>\n",
              "      <th>restricted_stock_deferred</th>\n",
              "      <th>salary</th>\n",
              "      <th>shared_receipt_with_poi</th>\n",
              "      <th>to_messages</th>\n",
              "      <th>total_payments</th>\n",
              "      <th>total_stock_value</th>\n",
              "    </tr>\n",
              "  </thead>\n",
              "  <tbody>\n",
              "    <tr>\n",
              "      <th>0</th>\n",
              "      <td>1750000.0</td>\n",
              "      <td>195190.0</td>\n",
              "      <td>-3504386.0</td>\n",
              "      <td>108579.0</td>\n",
              "      <td>19794175.0</td>\n",
              "      <td>46950.0</td>\n",
              "      <td>18.0</td>\n",
              "      <td>42.0</td>\n",
              "      <td>4.0</td>\n",
              "      <td>40962500.0</td>\n",
              "      <td>1617011.0</td>\n",
              "      <td>174839.0</td>\n",
              "      <td>2748364.0</td>\n",
              "      <td>-139856.5</td>\n",
              "      <td>420636.0</td>\n",
              "      <td>864.0</td>\n",
              "      <td>905.0</td>\n",
              "      <td>505050.0</td>\n",
              "      <td>22542539.0</td>\n",
              "    </tr>\n",
              "    <tr>\n",
              "      <th>1</th>\n",
              "      <td>5600000.0</td>\n",
              "      <td>195190.0</td>\n",
              "      <td>-117534.0</td>\n",
              "      <td>108579.0</td>\n",
              "      <td>19250000.0</td>\n",
              "      <td>29336.0</td>\n",
              "      <td>108.0</td>\n",
              "      <td>88.0</td>\n",
              "      <td>30.0</td>\n",
              "      <td>40962500.0</td>\n",
              "      <td>1920000.0</td>\n",
              "      <td>22122.0</td>\n",
              "      <td>6843672.0</td>\n",
              "      <td>-139856.5</td>\n",
              "      <td>1111258.0</td>\n",
              "      <td>2042.0</td>\n",
              "      <td>3627.0</td>\n",
              "      <td>8682716.0</td>\n",
              "      <td>26093672.0</td>\n",
              "    </tr>\n",
              "    <tr>\n",
              "      <th>2</th>\n",
              "      <td>200000.0</td>\n",
              "      <td>195190.0</td>\n",
              "      <td>-4167.0</td>\n",
              "      <td>108579.0</td>\n",
              "      <td>1624396.0</td>\n",
              "      <td>22884.0</td>\n",
              "      <td>39.0</td>\n",
              "      <td>13.0</td>\n",
              "      <td>14.0</td>\n",
              "      <td>40962500.0</td>\n",
              "      <td>422158.0</td>\n",
              "      <td>1573324.0</td>\n",
              "      <td>869220.0</td>\n",
              "      <td>-139856.5</td>\n",
              "      <td>211844.0</td>\n",
              "      <td>91.0</td>\n",
              "      <td>225.0</td>\n",
              "      <td>2003885.0</td>\n",
              "      <td>2493616.0</td>\n",
              "    </tr>\n",
              "    <tr>\n",
              "      <th>3</th>\n",
              "      <td>800000.0</td>\n",
              "      <td>195190.0</td>\n",
              "      <td>-117534.0</td>\n",
              "      <td>108579.0</td>\n",
              "      <td>850010.0</td>\n",
              "      <td>118134.0</td>\n",
              "      <td>45.0</td>\n",
              "      <td>28.0</td>\n",
              "      <td>7.0</td>\n",
              "      <td>40962500.0</td>\n",
              "      <td>602671.0</td>\n",
              "      <td>907502.0</td>\n",
              "      <td>985032.0</td>\n",
              "      <td>-139856.5</td>\n",
              "      <td>224305.0</td>\n",
              "      <td>599.0</td>\n",
              "      <td>1088.0</td>\n",
              "      <td>2652612.0</td>\n",
              "      <td>985032.0</td>\n",
              "    </tr>\n",
              "    <tr>\n",
              "      <th>4</th>\n",
              "      <td>1250000.0</td>\n",
              "      <td>195190.0</td>\n",
              "      <td>-262500.0</td>\n",
              "      <td>108579.0</td>\n",
              "      <td>850010.0</td>\n",
              "      <td>35818.0</td>\n",
              "      <td>144.0</td>\n",
              "      <td>199.0</td>\n",
              "      <td>25.0</td>\n",
              "      <td>40962500.0</td>\n",
              "      <td>375304.0</td>\n",
              "      <td>486.0</td>\n",
              "      <td>126027.0</td>\n",
              "      <td>-139856.5</td>\n",
              "      <td>240189.0</td>\n",
              "      <td>2188.0</td>\n",
              "      <td>2598.0</td>\n",
              "      <td>1639297.0</td>\n",
              "      <td>126027.0</td>\n",
              "    </tr>\n",
              "  </tbody>\n",
              "</table>\n",
              "</div>"
            ],
            "text/plain": [
              "       bonus  deferral_payments  ...  total_payments  total_stock_value\n",
              "0  1750000.0           195190.0  ...        505050.0         22542539.0\n",
              "1  5600000.0           195190.0  ...       8682716.0         26093672.0\n",
              "2   200000.0           195190.0  ...       2003885.0          2493616.0\n",
              "3   800000.0           195190.0  ...       2652612.0           985032.0\n",
              "4  1250000.0           195190.0  ...       1639297.0           126027.0\n",
              "\n",
              "[5 rows x 19 columns]"
            ]
          },
          "metadata": {
            "tags": []
          },
          "execution_count": 13
        }
      ]
    },
    {
      "cell_type": "markdown",
      "metadata": {
        "id": "6D9y_-hb6yE7",
        "colab_type": "text"
      },
      "source": [
        "### 資料前處理\n",
        "***\n",
        "- 特徵工程：改善input特徵間的差距。\n",
        "  - input特徵：所謂的特徵可以是每筆資料中的年齡、性別、學歷、薪水等等。當我們在預測貸款償還能力預測時，這些特徵可能就是影響因素。\n",
        "  - 優點：\n",
        "    1. 不同特徵的數值會有不同的大小(ex：薪水 -> 萬，年齡 -> 十位)，這樣的差距會影響模型訓練時間。\n",
        "    2. 使不同特徵的數值都縮放到 -1~1 或 0-1 之間。\n",
        "- Label Encoder：更改特徵名稱。\n",
        "  - 特徵名稱：有的欄位特徵類型是object需要將類別轉換成int(進行編號：0、1、2...)。\n",
        "- OHE(OneHotEncodeing)：更改特徵名稱。\n",
        "  - 特徵名稱：類別經過Label Encoder轉換為編號後，會有距離問題。因此需要轉換：\n",
        "        OHE：\n",
        "        編號：1、2、3\n",
        "        轉換後：001、010、100 (個為數代表1、十位數代表2、百位數代表3)"
      ]
    },
    {
      "cell_type": "code",
      "metadata": {
        "id": "Ejmr3kgA6_vX",
        "colab_type": "code",
        "colab": {}
      },
      "source": [
        "from sklearn.preprocessing import LabelEncoder, MinMaxScaler, StandardScaler\n",
        "from sklearn.model_selection import train_test_split, cross_val_score"
      ],
      "execution_count": 0,
      "outputs": []
    },
    {
      "cell_type": "code",
      "metadata": {
        "id": "RMAvdGlSBzav",
        "colab_type": "code",
        "colab": {}
      },
      "source": [
        "MMEncoder = MinMaxScaler()\n",
        "x_train_mm = MMEncoder.fit_transform(x_train)\n",
        "\n",
        "SSEncoder = StandardScaler()\n",
        "x_train_ss = SSEncoder.fit_transform(x_train)\n"
      ],
      "execution_count": 0,
      "outputs": []
    },
    {
      "cell_type": "code",
      "metadata": {
        "id": "wAiMQFoS6dQF",
        "colab_type": "code",
        "outputId": "8a0af7df-ab20-4a19-a385-0dc9a3a9ca95",
        "colab": {
          "base_uri": "https://localhost:8080/",
          "height": 72
        }
      },
      "source": [
        "LabEncoder = LabelEncoder()\n",
        "y_train = LabEncoder.fit_transform(train_label)"
      ],
      "execution_count": 16,
      "outputs": [
        {
          "output_type": "stream",
          "text": [
            "/usr/local/lib/python3.6/dist-packages/sklearn/preprocessing/_label.py:251: DataConversionWarning: A column-vector y was passed when a 1d array was expected. Please change the shape of y to (n_samples, ), for example using ravel().\n",
            "  y = column_or_1d(y, warn=True)\n"
          ],
          "name": "stderr"
        }
      ]
    },
    {
      "cell_type": "markdown",
      "metadata": {
        "id": "Ww5jogCQHCPG",
        "colab_type": "text"
      },
      "source": [
        "### 資料分割"
      ]
    },
    {
      "cell_type": "code",
      "metadata": {
        "id": "Iy9UFZ0j-npW",
        "colab_type": "code",
        "outputId": "e21a1ae7-6f50-45a9-918f-167c3e14265f",
        "colab": {
          "base_uri": "https://localhost:8080/",
          "height": 225
        }
      },
      "source": [
        "# x不做特徵工程\n",
        "Xtrain, Xtest, Ytrain, Ytest = train_test_split(x_train, y_train, test_size=0.3, random_state=42)\n",
        "print(f'Xtrain shape:{Xtrain.shape}')\n",
        "print(f'Xtest shape:{Xtest.shape}')\n",
        "print(f'Ytrain shape:{Ytrain.shape}')\n",
        "print(f'Ytest shape:{Ytest.shape}')\n",
        "\n",
        "# MinMaxScaler\n",
        "Xtrain_mm, Xtest_mm, Ytrain_mm, Ytest_mm = train_test_split(x_train_mm, y_train, test_size=0.3, random_state=42)\n",
        "print(f'Xtrain shape:{Xtrain_mm.shape}')\n",
        "print(f'Xtest shape:{Xtest_mm.shape}')\n",
        "print(f'Ytrain shape:{Ytrain_mm.shape}')\n",
        "print(f'Ytest shape:{Ytest_mm.shape}')\n",
        "\n",
        "# StandarScalar\n",
        "Xtrain_ss, Xtest_ss, Ytrain_ss, Ytest_ss = train_test_split(x_train_ss, y_train, test_size=0.3, random_state=42)\n",
        "print(f'Xtrain shape:{Xtrain_ss.shape}')\n",
        "print(f'Xtest shape:{Xtest_ss.shape}')\n",
        "print(f'Ytrain shape:{Ytrain_ss.shape}')\n",
        "print(f'Ytest shape:{Ytest_ss.shape}')"
      ],
      "execution_count": 17,
      "outputs": [
        {
          "output_type": "stream",
          "text": [
            "Xtrain shape:(79, 19)\n",
            "Xtest shape:(34, 19)\n",
            "Ytrain shape:(79,)\n",
            "Ytest shape:(34,)\n",
            "Xtrain shape:(79, 19)\n",
            "Xtest shape:(34, 19)\n",
            "Ytrain shape:(79,)\n",
            "Ytest shape:(34,)\n",
            "Xtrain shape:(79, 19)\n",
            "Xtest shape:(34, 19)\n",
            "Ytrain shape:(79,)\n",
            "Ytest shape:(34,)\n"
          ],
          "name": "stdout"
        }
      ]
    },
    {
      "cell_type": "markdown",
      "metadata": {
        "id": "7XK2RqGOG551",
        "colab_type": "text"
      },
      "source": [
        "### 建立模型"
      ]
    },
    {
      "cell_type": "code",
      "metadata": {
        "id": "PJsAG2JQ_46u",
        "colab_type": "code",
        "colab": {}
      },
      "source": [
        "from sklearn.linear_model import LogisticRegression\n",
        "from sklearn.ensemble import GradientBoostingClassifier, RandomForestClassifier\n",
        "from sklearn.tree import DecisionTreeClassifier\n",
        "import warnings\n",
        "warnings.filterwarnings('ignore')"
      ],
      "execution_count": 0,
      "outputs": []
    },
    {
      "cell_type": "code",
      "metadata": {
        "id": "ZNbxGCUbIg38",
        "colab_type": "code",
        "colab": {}
      },
      "source": [
        "logistic = LogisticRegression()\n",
        "DTree = DecisionTreeClassifier()\n",
        "RForest = RandomForestClassifier()\n",
        "GDBT = GradientBoostingClassifier()"
      ],
      "execution_count": 0,
      "outputs": []
    },
    {
      "cell_type": "code",
      "metadata": {
        "id": "FaLrfAuUJFaD",
        "colab_type": "code",
        "outputId": "d36f12b5-311f-4e44-8852-0f5efa85589b",
        "colab": {
          "base_uri": "https://localhost:8080/",
          "height": 312
        }
      },
      "source": [
        "# \n",
        "print('x do not feature engineering')\n",
        "print(f'LogisticRegression score:{cross_val_score(logistic, Xtrain, Ytrain, cv=5).mean()}')\n",
        "print(f'DecisionTree score:{cross_val_score(DTree, Xtrain, Ytrain, cv=5).mean()}')\n",
        "print(f'RandomForest score:{cross_val_score(RForest, Xtrain, Ytrain, cv=5).mean()}')\n",
        "print(f'GradientBoosting score:{cross_val_score(GDBT, Xtrain, Ytrain, cv=5).mean()}')\n",
        "\n",
        "# MinMaxScaler\n",
        "print('\\nx do MinMaxScaler')\n",
        "print(f'LogisticRegression score:{cross_val_score(logistic, Xtrain_mm, Ytrain_mm, cv=5).mean()}')\n",
        "print(f'DecisionTree score:{cross_val_score(DTree, Xtrain_mm, Ytrain_mm, cv=5).mean()}')\n",
        "print(f'RandomForest score:{cross_val_score(RForest, Xtrain_mm, Ytrain_mm, cv=5).mean()}')\n",
        "print(f'GradientBoosting score:{cross_val_score(GDBT, Xtrain_mm, Ytrain_mm, cv=5).mean()}')\n",
        "\n",
        "# StandarScalar\n",
        "print('\\nx do StandarScalar')\n",
        "print(f'LogisticRegression score:{cross_val_score(logistic, Xtrain_ss, Ytrain_ss, cv=5).mean()}')\n",
        "print(f'DecisionTree score:{cross_val_score(DTree, Xtrain_ss, Ytrain_ss, cv=5).mean()}')\n",
        "print(f'RandomForest score:{cross_val_score(RForest, Xtrain_ss, Ytrain_ss, cv=5).mean()}')\n",
        "print(f'GradientBoosting score:{cross_val_score(GDBT, Xtrain_ss, Ytrain_ss, cv=5).mean()}')"
      ],
      "execution_count": 20,
      "outputs": [
        {
          "output_type": "stream",
          "text": [
            "x do not feature engineering\n",
            "LogisticRegression score:0.8716666666666667\n",
            "DecisionTree score:0.8358333333333334\n",
            "RandomForest score:0.9116666666666667\n",
            "GradientBoosting score:0.8358333333333334\n",
            "\n",
            "x do MinMaxScaler\n",
            "LogisticRegression score:0.9116666666666667\n",
            "DecisionTree score:0.8366666666666667\n",
            "RandomForest score:0.9108333333333334\n",
            "GradientBoosting score:0.8483333333333334\n",
            "\n",
            "x do StandarScalar\n",
            "LogisticRegression score:0.8858333333333335\n",
            "DecisionTree score:0.8483333333333334\n",
            "RandomForest score:0.8983333333333334\n",
            "GradientBoosting score:0.8358333333333334\n"
          ],
          "name": "stdout"
        }
      ]
    },
    {
      "cell_type": "markdown",
      "metadata": {
        "id": "kQ_aCg5PKNHC",
        "colab_type": "text"
      },
      "source": [
        "### 提升模型的準確率\n",
        "***\n",
        "- L1 or L2正規化(Regularizer)：降低模型多項式Model的複雜程度\n",
        "  - ：Lasso、Ridge\n",
        "- 降維：\n",
        "  - Principal Component Analysis(PCA)：\n",
        "    1. 當資料內特徵較多時，透過PCA減少特徵數量(降維)，而不會與原始資料特性差異太大。\n",
        "    2. PCA降維後的特徵並不是簡單的選取原有特徵的一部分，而是將原有的特徵進行縣性組合，得到新的特徵。然後根據特徵值大小判斷對應特徵的重要性，再選取其中重要的一部分，即降維後的特徵。\n",
        "\n",
        "- Reference:\n",
        "  1. https://www.zhihu.com/question/38417101"
      ]
    },
    {
      "cell_type": "code",
      "metadata": {
        "id": "XhsBQijDJZlz",
        "colab_type": "code",
        "colab": {}
      },
      "source": [
        "#from sklearn.linear_model import Lasso, Ridge\n",
        "from sklearn.decomposition import PCA"
      ],
      "execution_count": 0,
      "outputs": []
    },
    {
      "cell_type": "code",
      "metadata": {
        "id": "skOIPLN4MMMY",
        "colab_type": "code",
        "colab": {}
      },
      "source": [
        "pca = PCA(n_components=3)\n",
        "Xtrain_ss_pca = pca.fit_transform(Xtrain_ss)\n",
        "Xtest_ss_pca = pca.fit_transform(Xtest_ss)\n",
        "\n",
        "Xtrain_mm_pca = pca.fit_transform(Xtrain_mm)\n",
        "Xtest_mm_pca = pca.fit_transform(Xtest_mm)"
      ],
      "execution_count": 0,
      "outputs": []
    },
    {
      "cell_type": "code",
      "metadata": {
        "id": "hr-6qD6qSY8L",
        "colab_type": "code",
        "colab": {
          "base_uri": "https://localhost:8080/",
          "height": 225
        },
        "outputId": "a11b7a63-0251-4f10-eb75-19bf7bbf029e"
      },
      "source": [
        "# MinMaxScaler\n",
        "print('\\nx do MinMaxScaler')\n",
        "print(f'LogisticRegression score:{cross_val_score(logistic, Xtrain_mm_pca, Ytrain_mm, cv=5).mean()}')\n",
        "print(f'DecisionTree score:{cross_val_score(DTree, Xtrain_mm_pca, Ytrain_mm, cv=5).mean()}')\n",
        "print(f'RandomForest score:{cross_val_score(RForest, Xtrain_mm_pca, Ytrain_mm, cv=5).mean()}')\n",
        "print(f'GradientBoosting score:{cross_val_score(GDBT, Xtrain_mm_pca, Ytrain_mm, cv=5).mean()}')\n",
        "\n",
        "# StandarScalar\n",
        "print('\\nx do StandarScalar')\n",
        "print(f'LogisticRegression score:{cross_val_score(logistic, Xtrain_ss_pca, Ytrain_ss, cv=5).mean()}')\n",
        "print(f'DecisionTree score:{cross_val_score(DTree, Xtrain_ss_pca, Ytrain_ss, cv=5).mean()}')\n",
        "print(f'RandomForest score:{cross_val_score(RForest, Xtrain_ss_pca, Ytrain_ss, cv=5).mean()}')\n",
        "print(f'GradientBoosting score:{cross_val_score(GDBT, Xtrain_ss_pca, Ytrain_ss, cv=5).mean()}')"
      ],
      "execution_count": 23,
      "outputs": [
        {
          "output_type": "stream",
          "text": [
            "\n",
            "x do MinMaxScaler\n",
            "LogisticRegression score:0.9116666666666667\n",
            "DecisionTree score:0.8983333333333334\n",
            "RandomForest score:0.8983333333333334\n",
            "GradientBoosting score:0.9241666666666667\n",
            "\n",
            "x do StandarScalar\n",
            "LogisticRegression score:0.9108333333333334\n",
            "DecisionTree score:0.8483333333333334\n",
            "RandomForest score:0.8858333333333335\n",
            "GradientBoosting score:0.8608333333333335\n"
          ],
          "name": "stdout"
        }
      ]
    },
    {
      "cell_type": "markdown",
      "metadata": {
        "id": "Y-WHAG37duPN",
        "colab_type": "text"
      },
      "source": [
        "### 尚未執行PCA的準確率：\n",
        "***\n",
        "- x do MinMaxScaler\n",
        "  1. LogisticRegression score:0.9116666666666667\n",
        "  2. DecisionTree score:0.8608333333333335\n",
        "  3. RandomForest score:0.9116666666666667\n",
        "  4. GradientBoosting score:0.8483333333333334\n",
        "\n",
        "- x do StandarScalar\n",
        "  1. LogisticRegression score:0.8858333333333335\n",
        "  2. DecisionTree score:0.8608333333333335\n",
        "  3. RandomForest score:0.8983333333333334\n",
        "  4. GradientBoosting score:0.8358333333333334"
      ]
    },
    {
      "cell_type": "markdown",
      "metadata": {
        "id": "fvw6y0cAeceW",
        "colab_type": "text"
      },
      "source": [
        "### 挑選高準確率模型並進行預測\n",
        "***\n",
        "- 挑選最佳模型：\n",
        "  - X_data做MinMaxScaler和PCA後，使用GradientBoosting來訓練的模型。\n",
        "\n",
        "- 使用最佳模型進行預測：\n",
        "  1. 將要預測的資料先進行前處理(補值、標準化、PCA等等)\n",
        "  2. 將處理好的資料餵到模型進行預測\n",
        "  3. 將預測結果儲存csv檔"
      ]
    },
    {
      "cell_type": "code",
      "metadata": {
        "id": "Y6lHYQyTekBN",
        "colab_type": "code",
        "colab": {}
      },
      "source": [
        "# 定義函數之後有其他新的資料進來可直接呼叫函數\n",
        "def data_preprocess(train_data):\n",
        "    # drop a part of columns\n",
        "    y_train = train_data[['poi']] \n",
        "    train_data = train_data.drop(['name', 'email_address', 'poi'], axis=1)\n",
        "      \n",
        "    # fill nan\n",
        "    median_value = dict(train_data.median())\n",
        "    x_train = train_data.fillna(value=median_value)\n",
        "\n",
        "    # LabelEncoder\n",
        "    LabEncoder = LabelEncoder()\n",
        "    y_train = LabEncoder.fit_transform(y_train)\n",
        "\n",
        "    # MinMaxScaler\n",
        "    MMEncoder = MinMaxScaler()\n",
        "    x_train = MMEncoder.fit_transform(x_train)\n",
        "\n",
        "    # PCA\n",
        "    pca = PCA(n_components=3)\n",
        "    x_train = pca.fit_transform(x_train)\n",
        "\n",
        "    return x_train, y_train\n",
        "\n",
        "def predictdata_preprocess(predict_data):\n",
        "    predict_data = predict_data.drop(['name', 'email_address'], axis=1)\n",
        "    \n",
        "    # fill nan\n",
        "    median_value = dict(predict_data.median())\n",
        "    predict_data = predict_data.fillna(value=median_value)\n",
        "\n",
        "    # MinMaxScaler\n",
        "    MMEncoder = MinMaxScaler()\n",
        "    predict_data = MMEncoder.fit_transform(predict_data)\n",
        "\n",
        "    # PCA\n",
        "    pca = PCA(n_components=3)\n",
        "    predict_data = pca.fit_transform(predict_data)\n",
        "\n",
        "    return predict_data"
      ],
      "execution_count": 0,
      "outputs": []
    },
    {
      "cell_type": "code",
      "metadata": {
        "id": "J4vS72jZjVra",
        "colab_type": "code",
        "colab": {
          "base_uri": "https://localhost:8080/",
          "height": 52
        },
        "outputId": "78562e8e-10f8-4e89-fd75-4ccc8c7d2485"
      },
      "source": [
        "train_data = pd.read_csv(data_root + 'train_data.csv')\n",
        "x_train, y_train = data_preprocess(train_data)\n",
        "x_predict = predictdata_preprocess(test_features)\n",
        "print(f'x_train shape:{x_train.shape}, y_train shape:{y_train.shape}')\n",
        "print(f'x_predict shape:{x_predict.shape}')"
      ],
      "execution_count": 25,
      "outputs": [
        {
          "output_type": "stream",
          "text": [
            "x_train shape:(113, 3), y_train shape:(113,)\n",
            "x_predict shape:(33, 3)\n"
          ],
          "name": "stdout"
        }
      ]
    },
    {
      "cell_type": "code",
      "metadata": {
        "id": "29poIobRjzMq",
        "colab_type": "code",
        "colab": {}
      },
      "source": [
        "# 將訓練資料拿來訓練\n",
        "GDBT.fit(x_train, y_train)\n",
        "# 模型已訓練完，可進行預測\n",
        "predict_result = GDBT.predict(x_predict)"
      ],
      "execution_count": 0,
      "outputs": []
    },
    {
      "cell_type": "code",
      "metadata": {
        "id": "CgQ6-sCQrpCT",
        "colab_type": "code",
        "colab": {
          "base_uri": "https://localhost:8080/",
          "height": 202
        },
        "outputId": "1c133ff4-f059-43f5-c2c9-f239ec4c9a3c"
      },
      "source": [
        "# 依照Kaggle格式將結果儲存\n",
        "column_name = ['name', 'poi']\n",
        "\n",
        "poi = pd.DataFrame(predict_result)\n",
        "result = pd.concat([test_features[['name']], poi], axis=1)\n",
        "result.columns = column_name\n",
        "result.head()"
      ],
      "execution_count": 27,
      "outputs": [
        {
          "output_type": "execute_result",
          "data": {
            "text/html": [
              "<div>\n",
              "<style scoped>\n",
              "    .dataframe tbody tr th:only-of-type {\n",
              "        vertical-align: middle;\n",
              "    }\n",
              "\n",
              "    .dataframe tbody tr th {\n",
              "        vertical-align: top;\n",
              "    }\n",
              "\n",
              "    .dataframe thead th {\n",
              "        text-align: right;\n",
              "    }\n",
              "</style>\n",
              "<table border=\"1\" class=\"dataframe\">\n",
              "  <thead>\n",
              "    <tr style=\"text-align: right;\">\n",
              "      <th></th>\n",
              "      <th>name</th>\n",
              "      <th>poi</th>\n",
              "    </tr>\n",
              "  </thead>\n",
              "  <tbody>\n",
              "    <tr>\n",
              "      <th>0</th>\n",
              "      <td>BELDEN TIMOTHY N</td>\n",
              "      <td>1</td>\n",
              "    </tr>\n",
              "    <tr>\n",
              "      <th>1</th>\n",
              "      <td>BOWEN JR RAYMOND M</td>\n",
              "      <td>0</td>\n",
              "    </tr>\n",
              "    <tr>\n",
              "      <th>2</th>\n",
              "      <td>HANNON KEVIN P</td>\n",
              "      <td>0</td>\n",
              "    </tr>\n",
              "    <tr>\n",
              "      <th>3</th>\n",
              "      <td>DELAINEY DAVID W</td>\n",
              "      <td>1</td>\n",
              "    </tr>\n",
              "    <tr>\n",
              "      <th>4</th>\n",
              "      <td>CAUSEY RICHARD A</td>\n",
              "      <td>0</td>\n",
              "    </tr>\n",
              "  </tbody>\n",
              "</table>\n",
              "</div>"
            ],
            "text/plain": [
              "                 name  poi\n",
              "0    BELDEN TIMOTHY N    1\n",
              "1  BOWEN JR RAYMOND M    0\n",
              "2      HANNON KEVIN P    0\n",
              "3    DELAINEY DAVID W    1\n",
              "4    CAUSEY RICHARD A    0"
            ]
          },
          "metadata": {
            "tags": []
          },
          "execution_count": 27
        }
      ]
    },
    {
      "cell_type": "code",
      "metadata": {
        "id": "w91r5gxssGCh",
        "colab_type": "code",
        "colab": {
          "base_uri": "https://localhost:8080/",
          "height": 87
        },
        "outputId": "f859e53d-fa10-49c8-af62-675e4e754590"
      },
      "source": [
        "# 給路徑與檔名，進行儲存\n",
        "result.to_csv('content/My Drive/ML100_Colab Notebooks/6.ML100_Midterm test/result.csv')\n",
        "# 確認路徑下是否儲存csv檔\n",
        "os.listdir('content/My Drive/ML100_Colab Notebooks/6.ML100_Midterm test/')"
      ],
      "execution_count": 28,
      "outputs": [
        {
          "output_type": "execute_result",
          "data": {
            "text/plain": [
              "['test_features.csv',\n",
              " 'train_data.csv',\n",
              " 'Day_51-53_Midterm.ipynb',\n",
              " 'result.csv']"
            ]
          },
          "metadata": {
            "tags": []
          },
          "execution_count": 28
        }
      ]
    }
  ]
}
