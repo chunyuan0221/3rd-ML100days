{
 "cells": [
  {
   "cell_type": "markdown",
   "metadata": {},
   "source": [
    "## [作業重點]\n",
    "目前你應該已經要很清楚資料集中，資料的型態是什麼樣子囉！包含特徵 (features) 與標籤 (labels)。因此要記得未來不管什麼專案，必須要把資料清理成相同的格式，才能送進模型訓練。\n",
    "今天的作業開始踏入決策樹這個非常重要的模型，請務必確保你理解模型中每個超參數的意思，並試著調整看看，對最終預測結果的影響為何"
   ]
  },
  {
   "cell_type": "markdown",
   "metadata": {},
   "source": [
    "## 作業\n",
    "\n",
    "1. 試著調整 DecisionTreeClassifier(...) 中的參數，並觀察是否會改變結果？\n",
    "2. 改用其他資料集 (boston, wine)，並與回歸模型的結果進行比較"
   ]
  },
  {
   "cell_type": "markdown",
   "metadata": {},
   "source": [
    "#### 1. wine"
   ]
  },
  {
   "cell_type": "code",
   "execution_count": 1,
   "metadata": {},
   "outputs": [],
   "source": [
    "from sklearn.tree import DecisionTreeClassifier, DecisionTreeRegressor\n",
    "from sklearn import datasets\n",
    "from sklearn import metrics\n",
    "from sklearn.model_selection import train_test_split"
   ]
  },
  {
   "cell_type": "code",
   "execution_count": 2,
   "metadata": {},
   "outputs": [],
   "source": [
    "wine = datasets.load_wine()\n",
    "x_train, x_test, Y_train, Y_test = train_test_split(wine.data, wine.target, test_size=0.2, random_state=0)\n",
    "clf = DecisionTreeClassifier()\n",
    "reg = DecisionTreeRegressor()\n",
    "clf.fit(x_train, Y_train)\n",
    "reg.fit(x_train, Y_train)\n",
    "Yclf_pred = clf.predict(x_test)\n",
    "Yreg_pred = reg.predict(x_test)"
   ]
  },
  {
   "cell_type": "code",
   "execution_count": 3,
   "metadata": {
    "scrolled": true
   },
   "outputs": [
    {
     "name": "stdout",
     "output_type": "stream",
     "text": [
      "The Classifier use DecisionTree's Accuracy:0.9722222222222222\n",
      "The Regressor use DecisionTree's Accuracy:0.9166666666666666\n"
     ]
    }
   ],
   "source": [
    "Yclf_acc = metrics.accuracy_score(Y_test, Yclf_pred)\n",
    "Yreg_acc = metrics.accuracy_score(Y_test, Yreg_pred)\n",
    "print(f\"The Classifier use DecisionTree's Accuracy:{Yclf_acc}\")\n",
    "print(f\"The Regressor use DecisionTree's Accuracy:{Yreg_acc}\")"
   ]
  },
  {
   "cell_type": "markdown",
   "metadata": {},
   "source": [
    "#### 2. Boston"
   ]
  },
  {
   "cell_type": "code",
   "execution_count": 4,
   "metadata": {},
   "outputs": [
    {
     "data": {
      "text/plain": [
       "DecisionTreeRegressor(criterion='mse', max_depth=None, max_features=None,\n",
       "                      max_leaf_nodes=None, min_impurity_decrease=0.0,\n",
       "                      min_impurity_split=None, min_samples_leaf=1,\n",
       "                      min_samples_split=2, min_weight_fraction_leaf=0.0,\n",
       "                      presort=False, random_state=None, splitter='best')"
      ]
     },
     "execution_count": 4,
     "metadata": {},
     "output_type": "execute_result"
    }
   ],
   "source": [
    "boston = datasets.load_boston()\n",
    "x_train, x_test, Y_train, Y_test = train_test_split(boston.data, boston.target, test_size=0.2, random_state=0)\n",
    "#clf.fit(x_train, Y_train)\n",
    "reg.fit(x_train, Y_train)"
   ]
  },
  {
   "cell_type": "code",
   "execution_count": 5,
   "metadata": {},
   "outputs": [
    {
     "name": "stdout",
     "output_type": "stream",
     "text": [
      "The Regressor use DecisionTree's MSE:32.77470588235294\n"
     ]
    }
   ],
   "source": [
    "#Yclf_pred = clf.predict(x_test)\n",
    "Yreg_pred = reg.predict(x_test)\n",
    "#MSE_clf = metrics.mean_squared_error(Y_test, Yclf_pred)\n",
    "MSE_reg = metrics.mean_squared_error(Y_test, Yreg_pred)\n",
    "#print(f\"The Classifier use DecisionTree's MSE:{MSE_clf}\")\n",
    "print(f\"The Regressor use DecisionTree's MSE:{MSE_reg}\")"
   ]
  },
  {
   "cell_type": "markdown",
   "metadata": {},
   "source": [
    "### 結論:\n",
    "[作業1] :\n",
    "    1. max_depth(樹的最大深度):若設定太小，會導致未擬合完畢underfitting，準確率下滑；預設是none(不限制)。\n",
    "    2. max_leaf_nodes(樹葉最大數量):若設定太小，一樣會導致未擬合完畢，準確率下滑；預設是none(不限制)。\n",
    "***\n",
    "[作業2] :\n",
    "    1. 當Y_Label的資料是類別型式時，使用DecisionTreeClassifier()和 DecisionTreeRegressor()沒有問題\n",
    "    2. 但Y_Label的資料是連續型式時，使用DecisionTreeRegressor()沒有問題，DecisionTreeClassifier()無法執行"
   ]
  }
 ],
 "metadata": {
  "kernelspec": {
   "display_name": "Python 3",
   "language": "python",
   "name": "python3"
  },
  "language_info": {
   "codemirror_mode": {
    "name": "ipython",
    "version": 3
   },
   "file_extension": ".py",
   "mimetype": "text/x-python",
   "name": "python",
   "nbconvert_exporter": "python",
   "pygments_lexer": "ipython3",
   "version": "3.7.3"
  }
 },
 "nbformat": 4,
 "nbformat_minor": 2
}
