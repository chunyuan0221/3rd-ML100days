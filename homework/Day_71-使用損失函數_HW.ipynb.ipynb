{
 "cells": [
  {
   "cell_type": "markdown",
   "metadata": {
    "colab_type": "text",
    "id": "cj4tE8e8iUtO"
   },
   "source": [
    "#   \n",
    "\n",
    "# 作業目標:\n",
    "\n",
    "    1. 藉由固定的 dataset, 來驗證不同loss function\n",
    "    2. Dataset 的特性跟我們選用的loss function 對accrancy 的影響\n",
    "    \n",
    "    \n",
    "# 作業重點: \n",
    "    請分別選用 \"MSE\", \"binary _crossentropy\"\n",
    "    查看Train/test accurancy and loss rate\n",
    "    "
   ]
  },
  {
   "cell_type": "markdown",
   "metadata": {
    "colab_type": "text",
    "id": "R51J4KyyiUsL"
   },
   "source": [
    "# 導入必要的函數"
   ]
  },
  {
   "cell_type": "code",
   "execution_count": 1,
   "metadata": {
    "colab": {},
    "colab_type": "code",
    "id": "Qd68OQjciUsM"
   },
   "outputs": [
    {
     "name": "stderr",
     "output_type": "stream",
     "text": [
      "Using TensorFlow backend.\n"
     ]
    }
   ],
   "source": [
    "from keras.datasets import cifar10\n",
    "import numpy as np\n",
    "np.random.seed(10)"
   ]
  },
  {
   "cell_type": "markdown",
   "metadata": {
    "colab_type": "text",
    "id": "GxKuzQLQiUsP"
   },
   "source": [
    "# 資料準備"
   ]
  },
  {
   "cell_type": "code",
   "execution_count": 2,
   "metadata": {
    "colab": {},
    "colab_type": "code",
    "id": "MIbFZdTCiUsQ"
   },
   "outputs": [],
   "source": [
    "#取得Keras Dataset\n",
    "(x_img_train,y_label_train),(x_img_test,y_label_test)=cifar10.load_data()"
   ]
  },
  {
   "cell_type": "code",
   "execution_count": 3,
   "metadata": {
    "colab": {},
    "colab_type": "code",
    "id": "J8CJVjNOiUsS"
   },
   "outputs": [
    {
     "name": "stdout",
     "output_type": "stream",
     "text": [
      "train data: images: (50000, 32, 32, 3)  labels: (50000, 1)\n",
      "test  data: images: (10000, 32, 32, 3)  labels: (10000, 1)\n"
     ]
    }
   ],
   "source": [
    "#確認 CIFAR10 Dataset 資料維度\n",
    "print(\"train data:\",'images:',x_img_train.shape,\n",
    "      \" labels:\",y_label_train.shape) \n",
    "print(\"test  data:\",'images:',x_img_test.shape ,\n",
    "      \" labels:\",y_label_test.shape) "
   ]
  },
  {
   "cell_type": "code",
   "execution_count": 4,
   "metadata": {
    "colab": {},
    "colab_type": "code",
    "id": "V3P6P4DXiUsV"
   },
   "outputs": [],
   "source": [
    "#資料正規化\n",
    "x_img_train_normalize = x_img_train.astype('float32') / 255.0\n",
    "x_img_test_normalize = x_img_test.astype('float32') / 255.0"
   ]
  },
  {
   "cell_type": "code",
   "execution_count": 5,
   "metadata": {
    "colab": {},
    "colab_type": "code",
    "id": "vsDyjKYliUsX"
   },
   "outputs": [
    {
     "data": {
      "text/plain": [
       "(10000, 10)"
      ]
     },
     "execution_count": 5,
     "metadata": {},
     "output_type": "execute_result"
    }
   ],
   "source": [
    "#針對Label 做 ONE HOT ENCODE\n",
    "from keras.utils import np_utils\n",
    "y_label_train_OneHot = np_utils.to_categorical(y_label_train)\n",
    "y_label_test_OneHot = np_utils.to_categorical(y_label_test)\n",
    "y_label_test_OneHot.shape"
   ]
  },
  {
   "cell_type": "markdown",
   "metadata": {
    "colab_type": "text",
    "id": "RutW2OtgiUsZ"
   },
   "source": [
    "# 建立模型"
   ]
  },
  {
   "cell_type": "code",
   "execution_count": 6,
   "metadata": {
    "colab": {},
    "colab_type": "code",
    "id": "aHz592aXiUsa"
   },
   "outputs": [],
   "source": [
    "from keras.models import Sequential\n",
    "from keras.layers import Dense, Dropout, Activation, Flatten\n",
    "from keras.layers import Conv2D, MaxPooling2D, ZeroPadding2D"
   ]
  },
  {
   "cell_type": "code",
   "execution_count": 7,
   "metadata": {
    "colab": {},
    "colab_type": "code",
    "id": "hslqrIp0iUse"
   },
   "outputs": [
    {
     "name": "stderr",
     "output_type": "stream",
     "text": [
      "WARNING: Logging before flag parsing goes to stderr.\n",
      "W1120 04:08:28.445545  6008 deprecation_wrapper.py:119] From C:\\Anaconda\\lib\\site-packages\\keras\\backend\\tensorflow_backend.py:74: The name tf.get_default_graph is deprecated. Please use tf.compat.v1.get_default_graph instead.\n",
      "\n"
     ]
    }
   ],
   "source": [
    "model = Sequential()"
   ]
  },
  {
   "cell_type": "code",
   "execution_count": 8,
   "metadata": {
    "colab": {},
    "colab_type": "code",
    "id": "Hqe35hs2iUsi"
   },
   "outputs": [],
   "source": [
    "#卷積層1"
   ]
  },
  {
   "cell_type": "code",
   "execution_count": 9,
   "metadata": {
    "colab": {},
    "colab_type": "code",
    "id": "ED7dqe1YiUsm"
   },
   "outputs": [
    {
     "name": "stderr",
     "output_type": "stream",
     "text": [
      "W1120 04:08:28.486519  6008 deprecation_wrapper.py:119] From C:\\Anaconda\\lib\\site-packages\\keras\\backend\\tensorflow_backend.py:517: The name tf.placeholder is deprecated. Please use tf.compat.v1.placeholder instead.\n",
      "\n",
      "W1120 04:08:28.491517  6008 deprecation_wrapper.py:119] From C:\\Anaconda\\lib\\site-packages\\keras\\backend\\tensorflow_backend.py:4138: The name tf.random_uniform is deprecated. Please use tf.random.uniform instead.\n",
      "\n"
     ]
    }
   ],
   "source": [
    "model.add(Conv2D(filters=32,kernel_size=(3,3),\n",
    "                 input_shape=(32, 32,3), \n",
    "                 activation='relu', \n",
    "                 padding='same'))"
   ]
  },
  {
   "cell_type": "code",
   "execution_count": 10,
   "metadata": {
    "colab": {},
    "colab_type": "code",
    "id": "n-GRKmPViUso"
   },
   "outputs": [
    {
     "name": "stderr",
     "output_type": "stream",
     "text": [
      "W1120 04:08:28.513504  6008 deprecation_wrapper.py:119] From C:\\Anaconda\\lib\\site-packages\\keras\\backend\\tensorflow_backend.py:133: The name tf.placeholder_with_default is deprecated. Please use tf.compat.v1.placeholder_with_default instead.\n",
      "\n",
      "W1120 04:08:28.524571  6008 deprecation.py:506] From C:\\Anaconda\\lib\\site-packages\\keras\\backend\\tensorflow_backend.py:3445: calling dropout (from tensorflow.python.ops.nn_ops) with keep_prob is deprecated and will be removed in a future version.\n",
      "Instructions for updating:\n",
      "Please use `rate` instead of `keep_prob`. Rate should be set to `rate = 1 - keep_prob`.\n"
     ]
    }
   ],
   "source": [
    "model.add(Dropout(rate=0.25))"
   ]
  },
  {
   "cell_type": "code",
   "execution_count": 11,
   "metadata": {
    "colab": {},
    "colab_type": "code",
    "id": "GlWnnD1uiUsw"
   },
   "outputs": [
    {
     "name": "stderr",
     "output_type": "stream",
     "text": [
      "W1120 04:08:28.548556  6008 deprecation_wrapper.py:119] From C:\\Anaconda\\lib\\site-packages\\keras\\backend\\tensorflow_backend.py:3976: The name tf.nn.max_pool is deprecated. Please use tf.nn.max_pool2d instead.\n",
      "\n"
     ]
    }
   ],
   "source": [
    "model.add(MaxPooling2D(pool_size=(2, 2)))"
   ]
  },
  {
   "cell_type": "code",
   "execution_count": 12,
   "metadata": {
    "colab": {},
    "colab_type": "code",
    "id": "nawlkt55iUsy"
   },
   "outputs": [],
   "source": [
    "#卷積層2與池化層2"
   ]
  },
  {
   "cell_type": "code",
   "execution_count": 13,
   "metadata": {
    "colab": {},
    "colab_type": "code",
    "id": "xxyETiKNiUs1"
   },
   "outputs": [],
   "source": [
    "model.add(Conv2D(filters=64, kernel_size=(3, 3), \n",
    "                 activation='relu', padding='same'))"
   ]
  },
  {
   "cell_type": "code",
   "execution_count": 14,
   "metadata": {
    "colab": {},
    "colab_type": "code",
    "id": "RqcKWtqGiUs2"
   },
   "outputs": [],
   "source": [
    "model.add(Dropout(0.25))"
   ]
  },
  {
   "cell_type": "code",
   "execution_count": 15,
   "metadata": {
    "colab": {},
    "colab_type": "code",
    "id": "BUOOzlqfiUs4"
   },
   "outputs": [],
   "source": [
    "model.add(MaxPooling2D(pool_size=(2, 2)))"
   ]
  },
  {
   "cell_type": "code",
   "execution_count": 16,
   "metadata": {
    "colab": {},
    "colab_type": "code",
    "id": "LpkppB2siUs7"
   },
   "outputs": [],
   "source": [
    "#建立神經網路(平坦層、隱藏層、輸出層)"
   ]
  },
  {
   "cell_type": "code",
   "execution_count": 17,
   "metadata": {
    "colab": {},
    "colab_type": "code",
    "id": "UQOfU54_iUs_"
   },
   "outputs": [],
   "source": [
    "model.add(Flatten())\n",
    "model.add(Dropout(rate=0.25))"
   ]
  },
  {
   "cell_type": "code",
   "execution_count": 18,
   "metadata": {
    "colab": {},
    "colab_type": "code",
    "id": "_NV-8sq4iUtD"
   },
   "outputs": [],
   "source": [
    "model.add(Dense(1024, activation='relu'))\n",
    "model.add(Dropout(rate=0.25))"
   ]
  },
  {
   "cell_type": "code",
   "execution_count": 19,
   "metadata": {
    "colab": {},
    "colab_type": "code",
    "id": "qVK77krOiUtF"
   },
   "outputs": [],
   "source": [
    "model.add(Dense(10, activation='softmax'))"
   ]
  },
  {
   "cell_type": "code",
   "execution_count": 20,
   "metadata": {
    "colab": {},
    "colab_type": "code",
    "id": "ZxzRIjR0iUtH"
   },
   "outputs": [
    {
     "name": "stdout",
     "output_type": "stream",
     "text": [
      "_________________________________________________________________\n",
      "Layer (type)                 Output Shape              Param #   \n",
      "=================================================================\n",
      "conv2d_1 (Conv2D)            (None, 32, 32, 32)        896       \n",
      "_________________________________________________________________\n",
      "dropout_1 (Dropout)          (None, 32, 32, 32)        0         \n",
      "_________________________________________________________________\n",
      "max_pooling2d_1 (MaxPooling2 (None, 16, 16, 32)        0         \n",
      "_________________________________________________________________\n",
      "conv2d_2 (Conv2D)            (None, 16, 16, 64)        18496     \n",
      "_________________________________________________________________\n",
      "dropout_2 (Dropout)          (None, 16, 16, 64)        0         \n",
      "_________________________________________________________________\n",
      "max_pooling2d_2 (MaxPooling2 (None, 8, 8, 64)          0         \n",
      "_________________________________________________________________\n",
      "flatten_1 (Flatten)          (None, 4096)              0         \n",
      "_________________________________________________________________\n",
      "dropout_3 (Dropout)          (None, 4096)              0         \n",
      "_________________________________________________________________\n",
      "dense_1 (Dense)              (None, 1024)              4195328   \n",
      "_________________________________________________________________\n",
      "dropout_4 (Dropout)          (None, 1024)              0         \n",
      "_________________________________________________________________\n",
      "dense_2 (Dense)              (None, 10)                10250     \n",
      "=================================================================\n",
      "Total params: 4,224,970\n",
      "Trainable params: 4,224,970\n",
      "Non-trainable params: 0\n",
      "_________________________________________________________________\n",
      "None\n"
     ]
    }
   ],
   "source": [
    "#檢查model 的STACK\n",
    "print(model.summary())"
   ]
  },
  {
   "cell_type": "markdown",
   "metadata": {
    "colab_type": "text",
    "id": "QJCtpJM0iUtJ"
   },
   "source": [
    "# 載入之前訓練的模型"
   ]
  },
  {
   "cell_type": "code",
   "execution_count": 21,
   "metadata": {
    "colab": {},
    "colab_type": "code",
    "id": "JU3A6NzQiUtK"
   },
   "outputs": [
    {
     "name": "stdout",
     "output_type": "stream",
     "text": [
      "載入模型失敗!開始訓練一個新模型\n"
     ]
    }
   ],
   "source": [
    "try:\n",
    "    model.load_weights(\"SaveModel/cifarCnnModel.h5\")\n",
    "    print(\"載入模型成功!繼續訓練模型\")\n",
    "except :    \n",
    "    print(\"載入模型失敗!開始訓練一個新模型\")"
   ]
  },
  {
   "cell_type": "markdown",
   "metadata": {
    "colab_type": "text",
    "id": "qBbCuziziUtM"
   },
   "source": [
    "# 訓練模型"
   ]
  },
  {
   "cell_type": "code",
   "execution_count": 22,
   "metadata": {},
   "outputs": [],
   "source": [
    "import matplotlib.pyplot as plt\n",
    "%matplotlib inline\n",
    "\n",
    "#定義一個繪圖函數\n",
    "def show_train_history(train_acc,test_acc):\n",
    "    plt.plot(train_history.history[train_acc])\n",
    "    plt.plot(train_history.history[test_acc])\n",
    "    plt.title('Train History')\n",
    "    plt.ylabel('Accuracy')\n",
    "    plt.xlabel('Epoch')\n",
    "    plt.legend(['train_acc', 'val_acc'], loc='upper left')\n",
    "    plt.show()"
   ]
  },
  {
   "cell_type": "code",
   "execution_count": 23,
   "metadata": {},
   "outputs": [],
   "source": [
    "epoch = 15\n",
    "batch_size = 120"
   ]
  },
  {
   "cell_type": "code",
   "execution_count": 24,
   "metadata": {
    "colab": {},
    "colab_type": "code",
    "id": "Q6BiBcseiUtP",
    "scrolled": true
   },
   "outputs": [
    {
     "name": "stderr",
     "output_type": "stream",
     "text": [
      "W1120 04:08:28.986506  6008 deprecation_wrapper.py:119] From C:\\Anaconda\\lib\\site-packages\\keras\\optimizers.py:790: The name tf.train.Optimizer is deprecated. Please use tf.compat.v1.train.Optimizer instead.\n",
      "\n",
      "W1120 04:08:29.023534  6008 deprecation_wrapper.py:119] From C:\\Anaconda\\lib\\site-packages\\keras\\backend\\tensorflow_backend.py:3295: The name tf.log is deprecated. Please use tf.math.log instead.\n",
      "\n",
      "W1120 04:08:29.143457  6008 deprecation.py:323] From C:\\Anaconda\\lib\\site-packages\\tensorflow\\python\\ops\\math_grad.py:1250: add_dispatch_support.<locals>.wrapper (from tensorflow.python.ops.array_ops) is deprecated and will be removed in a future version.\n",
      "Instructions for updating:\n",
      "Use tf.where in 2.0, which has the same broadcast rule as np.where\n"
     ]
    },
    {
     "name": "stdout",
     "output_type": "stream",
     "text": [
      "Train on 40000 samples, validate on 10000 samples\n",
      "Epoch 1/15\n",
      "40000/40000 [==============================] - 14s 345us/step - loss: 2.1475 - acc: 0.2041 - val_loss: 2.0315 - val_acc: 0.3024\n",
      "Epoch 2/15\n",
      "40000/40000 [==============================] - 10s 255us/step - loss: 1.9248 - acc: 0.3104 - val_loss: 1.9224 - val_acc: 0.3547\n",
      "Epoch 3/15\n",
      "40000/40000 [==============================] - 11s 263us/step - loss: 1.7961 - acc: 0.3608 - val_loss: 1.8266 - val_acc: 0.3779\n",
      "Epoch 4/15\n",
      "40000/40000 [==============================] - 11s 269us/step - loss: 1.6891 - acc: 0.3959 - val_loss: 1.7031 - val_acc: 0.4292\n",
      "Epoch 5/15\n",
      "40000/40000 [==============================] - 11s 268us/step - loss: 1.6100 - acc: 0.4225 - val_loss: 1.6252 - val_acc: 0.4612\n",
      "Epoch 6/15\n",
      "40000/40000 [==============================] - 11s 269us/step - loss: 1.5472 - acc: 0.4472 - val_loss: 1.5897 - val_acc: 0.4770\n",
      "Epoch 7/15\n",
      "40000/40000 [==============================] - 11s 270us/step - loss: 1.4918 - acc: 0.4641 - val_loss: 1.5687 - val_acc: 0.4626\n",
      "Epoch 8/15\n",
      "40000/40000 [==============================] - 10s 259us/step - loss: 1.4459 - acc: 0.4827 - val_loss: 1.4985 - val_acc: 0.5043\n",
      "Epoch 9/15\n",
      "40000/40000 [==============================] - 10s 258us/step - loss: 1.4119 - acc: 0.4936 - val_loss: 1.4664 - val_acc: 0.5153\n",
      "Epoch 10/15\n",
      "40000/40000 [==============================] - 10s 251us/step - loss: 1.3747 - acc: 0.5109 - val_loss: 1.4150 - val_acc: 0.5278\n",
      "Epoch 11/15\n",
      "40000/40000 [==============================] - 10s 251us/step - loss: 1.3414 - acc: 0.5193 - val_loss: 1.3918 - val_acc: 0.5513\n",
      "Epoch 12/15\n",
      "40000/40000 [==============================] - 10s 250us/step - loss: 1.3151 - acc: 0.5312 - val_loss: 1.3706 - val_acc: 0.5569\n",
      "Epoch 13/15\n",
      "40000/40000 [==============================] - 10s 252us/step - loss: 1.2871 - acc: 0.5406 - val_loss: 1.3782 - val_acc: 0.5496\n",
      "Epoch 14/15\n",
      "40000/40000 [==============================] - 10s 251us/step - loss: 1.2650 - acc: 0.5528 - val_loss: 1.3950 - val_acc: 0.5274\n",
      "Epoch 15/15\n",
      "40000/40000 [==============================] - 11s 265us/step - loss: 1.2458 - acc: 0.5572 - val_loss: 1.3137 - val_acc: 0.5700oss: 1.2480 - acc: 0.\n"
     ]
    },
    {
     "data": {
      "text/plain": [
       "'\\n作業:\\n請分別選用 \"MSE\", \"binary _crossentropy\"\\n查看Train/test accurancy and loss rate\\n'"
      ]
     },
     "execution_count": 24,
     "metadata": {},
     "output_type": "execute_result"
    }
   ],
   "source": [
    "model.compile(loss='categorical_crossentropy', optimizer='sgd', metrics=['accuracy'])\n",
    "train_history = model.fit(x_img_train_normalize, y_label_train_OneHot, epochs=epoch, batch_size=batch_size, validation_split=0.2, verbose=1)\n",
    "'''\n",
    "作業:\n",
    "請分別選用 \"MSE\", \"binary _crossentropy\"\n",
    "查看Train/test accurancy and loss rate\n",
    "'''"
   ]
  },
  {
   "cell_type": "code",
   "execution_count": 25,
   "metadata": {
    "scrolled": true
   },
   "outputs": [
    {
     "data": {
      "image/png": "[encoded data removed]",
      "text/plain": [
       "<Figure size 432x288 with 1 Axes>"
      ]
     },
     "metadata": {
      "needs_background": "light"
     },
     "output_type": "display_data"
    }
   ],
   "source": [
    "show_train_history('acc','val_acc')"
   ]
  },
  {
   "cell_type": "code",
   "execution_count": 26,
   "metadata": {
    "colab": {},
    "colab_type": "code",
    "id": "4-GdDgmQiUtS",
    "scrolled": true
   },
   "outputs": [
    {
     "name": "stdout",
     "output_type": "stream",
     "text": [
      "Train on 40000 samples, validate on 10000 samples\n",
      "Epoch 1/15\n",
      "40000/40000 [==============================] - 11s 272us/step - loss: 0.0563 - acc: 0.5709 - val_loss: 0.0590 - val_acc: 0.5845\n",
      "Epoch 2/15\n",
      "40000/40000 [==============================] - 10s 257us/step - loss: 0.0562 - acc: 0.5714 - val_loss: 0.0589 - val_acc: 0.5894\n",
      "Epoch 3/15\n",
      "40000/40000 [==============================] - 10s 256us/step - loss: 0.0559 - acc: 0.5740 - val_loss: 0.0588 - val_acc: 0.5893\n",
      "Epoch 4/15\n",
      "40000/40000 [==============================] - 10s 252us/step - loss: 0.0559 - acc: 0.5750 - val_loss: 0.0587 - val_acc: 0.5885\n",
      "Epoch 5/15\n",
      "40000/40000 [==============================] - 10s 249us/step - loss: 0.0560 - acc: 0.5716 - val_loss: 0.0586 - val_acc: 0.5877\n",
      "Epoch 6/15\n",
      "40000/40000 [==============================] - 10s 249us/step - loss: 0.0559 - acc: 0.5734 - val_loss: 0.0585 - val_acc: 0.5883\n",
      "Epoch 7/15\n",
      "40000/40000 [==============================] - 10s 246us/step - loss: 0.0558 - acc: 0.5740 - val_loss: 0.0585 - val_acc: 0.5888\n",
      "Epoch 8/15\n",
      "40000/40000 [==============================] - 10s 246us/step - loss: 0.0558 - acc: 0.5721 - val_loss: 0.0584 - val_acc: 0.5881\n",
      "Epoch 9/15\n",
      "40000/40000 [==============================] - 10s 246us/step - loss: 0.0558 - acc: 0.5746 - val_loss: 0.0584 - val_acc: 0.5912\n",
      "Epoch 10/15\n",
      "40000/40000 [==============================] - 10s 247us/step - loss: 0.0556 - acc: 0.5773 - val_loss: 0.0584 - val_acc: 0.5882\n",
      "Epoch 11/15\n",
      "40000/40000 [==============================] - 10s 247us/step - loss: 0.0556 - acc: 0.5767 - val_loss: 0.0584 - val_acc: 0.5884\n",
      "Epoch 12/15\n",
      "40000/40000 [==============================] - 11s 266us/step - loss: 0.0555 - acc: 0.5797 - val_loss: 0.0583 - val_acc: 0.5895\n",
      "Epoch 13/15\n",
      "40000/40000 [==============================] - 10s 259us/step - loss: 0.0554 - acc: 0.5789 - val_loss: 0.0582 - val_acc: 0.5922\n",
      "Epoch 14/15\n",
      "40000/40000 [==============================] - 10s 259us/step - loss: 0.0554 - acc: 0.5791 - val_loss: 0.0580 - val_acc: 0.5931\n",
      "Epoch 15/15\n",
      "40000/40000 [==============================] - 10s 259us/step - loss: 0.0555 - acc: 0.5758 - val_loss: 0.0580 - val_acc: 0.5925\n"
     ]
    }
   ],
   "source": [
    "model.compile(loss='MSE', optimizer='sgd', metrics=['accuracy'])\n",
    "train_history = model.fit(x_img_train_normalize, y_label_train_OneHot, epochs=epoch, batch_size=batch_size, validation_split=0.2)"
   ]
  },
  {
   "cell_type": "code",
   "execution_count": 27,
   "metadata": {},
   "outputs": [
    {
     "data": {
      "image/png": "[encoded data removed]",
      "text/plain": [
       "<Figure size 432x288 with 1 Axes>"
      ]
     },
     "metadata": {
      "needs_background": "light"
     },
     "output_type": "display_data"
    }
   ],
   "source": [
    "show_train_history('acc','val_acc')"
   ]
  },
  {
   "cell_type": "code",
   "execution_count": 28,
   "metadata": {},
   "outputs": [
    {
     "name": "stdout",
     "output_type": "stream",
     "text": [
      "Train on 40000 samples, validate on 10000 samples\n",
      "Epoch 1/15\n",
      "40000/40000 [==============================] - 11s 277us/step - loss: 0.1885 - acc: 0.9261 - val_loss: 0.1987 - val_acc: 0.9208\n",
      "Epoch 2/15\n",
      "40000/40000 [==============================] - 10s 256us/step - loss: 0.1875 - acc: 0.9263 - val_loss: 0.1978 - val_acc: 0.9211\n",
      "Epoch 3/15\n",
      "40000/40000 [==============================] - 10s 254us/step - loss: 0.1873 - acc: 0.9265 - val_loss: 0.1980 - val_acc: 0.9212\n",
      "Epoch 4/15\n",
      "40000/40000 [==============================] - 10s 253us/step - loss: 0.1869 - acc: 0.9265 - val_loss: 0.1970 - val_acc: 0.9215\n",
      "Epoch 5/15\n",
      "40000/40000 [==============================] - 10s 254us/step - loss: 0.1859 - acc: 0.9270 - val_loss: 0.1973 - val_acc: 0.9212\n",
      "Epoch 6/15\n",
      "40000/40000 [==============================] - 10s 253us/step - loss: 0.1858 - acc: 0.9270 - val_loss: 0.1964 - val_acc: 0.9219\n",
      "Epoch 7/15\n",
      "40000/40000 [==============================] - 10s 256us/step - loss: 0.1854 - acc: 0.9273 - val_loss: 0.1961 - val_acc: 0.9218\n",
      "Epoch 8/15\n",
      "40000/40000 [==============================] - 10s 261us/step - loss: 0.1850 - acc: 0.9272 - val_loss: 0.1958 - val_acc: 0.9221\n",
      "Epoch 9/15\n",
      "40000/40000 [==============================] - 11s 265us/step - loss: 0.1850 - acc: 0.9273 - val_loss: 0.1961 - val_acc: 0.9222\n",
      "Epoch 10/15\n",
      "40000/40000 [==============================] - 11s 265us/step - loss: 0.1845 - acc: 0.9276 - val_loss: 0.1958 - val_acc: 0.9224\n",
      "Epoch 11/15\n",
      "40000/40000 [==============================] - 11s 266us/step - loss: 0.1841 - acc: 0.9274 - val_loss: 0.1954 - val_acc: 0.9226 - acc: 0.927\n",
      "Epoch 12/15\n",
      "40000/40000 [==============================] - 10s 262us/step - loss: 0.1839 - acc: 0.9274 - val_loss: 0.1948 - val_acc: 0.9224\n",
      "Epoch 13/15\n",
      "40000/40000 [==============================] - 10s 254us/step - loss: 0.1837 - acc: 0.9279 - val_loss: 0.1947 - val_acc: 0.9224\n",
      "Epoch 14/15\n",
      "40000/40000 [==============================] - 10s 257us/step - loss: 0.1834 - acc: 0.9277 - val_loss: 0.1941 - val_acc: 0.9229\n",
      "Epoch 15/15\n",
      "40000/40000 [==============================] - 10s 253us/step - loss: 0.1823 - acc: 0.9285 - val_loss: 0.1951 - val_acc: 0.9226\n"
     ]
    }
   ],
   "source": [
    "model.compile(loss='binary_crossentropy', optimizer='sgd', metrics=['accuracy'])\n",
    "train_history = model.fit(x_img_train_normalize, y_label_train_OneHot, epochs=epoch, batch_size=batch_size, validation_split=0.2)"
   ]
  },
  {
   "cell_type": "code",
   "execution_count": 29,
   "metadata": {},
   "outputs": [
    {
     "data": {
      "image/png": "[encoded data removed]",
      "text/plain": [
       "<Figure size 432x288 with 1 Axes>"
      ]
     },
     "metadata": {
      "needs_background": "light"
     },
     "output_type": "display_data"
    }
   ],
   "source": [
    "show_train_history('acc','val_acc')"
   ]
  }
 ],
 "metadata": {
  "colab": {
   "name": "Day71-使用損失函數_HW.ipynb",
   "provenance": [],
   "version": "0.3.2"
  },
  "kernelspec": {
   "display_name": "Python 3",
   "language": "python",
   "name": "python3"
  },
  "language_info": {
   "codemirror_mode": {
    "name": "ipython",
    "version": 3
   },
   "file_extension": ".py",
   "mimetype": "text/x-python",
   "name": "python",
   "nbconvert_exporter": "python",
   "pygments_lexer": "ipython3",
   "version": "3.7.3"
  }
 },
 "nbformat": 4,
 "nbformat_minor": 1
}
