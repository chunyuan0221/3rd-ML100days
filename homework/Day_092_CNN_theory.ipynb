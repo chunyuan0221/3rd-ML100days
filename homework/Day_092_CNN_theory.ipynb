{
  "nbformat": 4,
  "nbformat_minor": 0,
  "metadata": {
    "kernelspec": {
      "display_name": "Python 3",
      "language": "python",
      "name": "python3"
    },
    "language_info": {
      "codemirror_mode": {
        "name": "ipython",
        "version": 3
      },
      "file_extension": ".py",
      "mimetype": "text/x-python",
      "name": "python",
      "nbconvert_exporter": "python",
      "pygments_lexer": "ipython3",
      "version": "3.6.2"
    },
    "colab": {
      "name": "Day_092_CNN_theory.ipynb",
      "provenance": [],
      "collapsed_sections": [],
      "include_colab_link": true
    }
  },
  "cells": [
    {
      "cell_type": "markdown",
      "metadata": {
        "id": "view-in-github",
        "colab_type": "text"
      },
      "source": [
        "<a href=\"https://colab.research.google.com/github/chunyuan0221/3rd-ML100days/blob/master/Day_092_CNN_theory.ipynb\" target=\"_parent\"><img src=\"https://colab.research.google.com/assets/colab-badge.svg\" alt=\"Open In Colab\"/></a>"
      ]
    },
    {
      "cell_type": "markdown",
      "metadata": {
        "id": "mV0uf4CNaTdU",
        "colab_type": "text"
      },
      "source": [
        "請閱讀以下文獻，理解 CNN 原理後回答問題\n",
        "- [卷積神經網路原理 - 中文](https://brohrer.mcknote.com/zh-Hant/how_machine_learning_works/how_convolutional_neural_networks_work.html)\n",
        "- [CNN for beginner’s guide](https://adeshpande3.github.io/A-Beginner%27s-Guide-To-Understanding-Convolutional-Neural-Networks/)\n",
        "- [詳細的介紹CNN，以及相關運算式](http://cs231n.github.io/convolutional-networks/)\n",
        "\n",
        "1. 若使用總共 128 個濾波器 (filters)，對一張 256x256 的影像做完卷積後，共會得到幾張特徵圖 (feature maps)?\n",
        "  - 128張特徵圖。\n",
        "\n",
        "2. 卷積神經網路中，濾波器的大小 (3x3 or 5x5) 與內部數字的值 (value) 是怎麼決定的呢?\n",
        "  - 濾波器大小：在程式中濾波器的大小是自己決定，這關乎著你這個濾波器特徵一次要看多大的範圍。\n",
        "  - 濾波器內部數值：我們可以這樣想，在CNN中特徵怎麼找?還有最佳的權重值怎麼求得? \n",
        "    - 過程是這樣：程式初始會隨機給定濾波器中的值以及權重值，透過反向傳播(backpropagation)這個技巧修正濾波器內部的數值以及權重值，來收斂誤差完成模型的訓練。\n",
        "\n"
      ]
    }
  ]
}
