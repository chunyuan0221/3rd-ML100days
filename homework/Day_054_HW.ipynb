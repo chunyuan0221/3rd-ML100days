{
 "cells": [
  {
   "cell_type": "markdown",
   "metadata": {},
   "source": [
    "# 作業\n",
    "* 試著想想看, 非監督學習是否有可能使用評價函數 (Metric) 來鑑別好壞呢?  \n",
    "(Hint : 可以分為 \"有目標值\" 與 \"無目標值\" 兩個方向思考)\n",
    "***\n",
    "- Ans:\n",
    "    - 有目標值:\n",
    "        1. 當進行非監督學習時是沒有用到目標值\n",
    "        2. 我們可以將有目標值的資料放入已訓練好的模型進行預測\n",
    "        3. 最後透過評價函數(Metric)進行評鑑。\n",
    "    - 無目標值:\n",
    "        1. 若沒有目標值資料，基本上沒辦法透過評價函數(Metric)進行評估模型好壞。\n",
    "    "
   ]
  }
 ],
 "metadata": {
  "kernelspec": {
   "display_name": "Python 3",
   "language": "python",
   "name": "python3"
  },
  "language_info": {
   "codemirror_mode": {
    "name": "ipython",
    "version": 3
   },
   "file_extension": ".py",
   "mimetype": "text/x-python",
   "name": "python",
   "nbconvert_exporter": "python",
   "pygments_lexer": "ipython3",
   "version": "3.7.3"
  }
 },
 "nbformat": 4,
 "nbformat_minor": 1
}
