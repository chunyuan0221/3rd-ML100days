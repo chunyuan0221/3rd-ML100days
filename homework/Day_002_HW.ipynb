{
 "cells": [
  {
   "cell_type": "markdown",
   "metadata": {},
   "source": [
    "## [作業目標]\n",
    "了解機器學習適合應用的領域與範疇。"
   ]
  },
  {
   "cell_type": "markdown",
   "metadata": {},
   "source": [
    "## [作業重點]\n",
    "透過瞭解機器學習的運作方式，找出非常適用機器學習應用的領域及其原因"
   ]
  },
  {
   "cell_type": "markdown",
   "metadata": {},
   "source": [
    "## 作業\n",
    "請找出一個你認為機器學習可以發光發熱的領域並闡述原因? "
   ]
  },
  {
   "cell_type": "markdown",
   "metadata": {},
   "source": [
    "## Answer\n",
    "1. 影像辨識、語音識別、疾病預防、股市走勢預測... \n",
    "2. 原因：\n",
    "    1. 影像辨識：透過深度學習來處理影像辨識，透過演算法的結構我們不需要尋找物體的特徵，則可以做到物體辨識與分類並有不錯的準確度。\n",
    "       另外，影像辨識可應用於許多領域上，像是臉部辨識、自駕車、NG商品辨識、醫學上可應用於癌細胞辨識...。  \n",
    "    2. 疾病預防：透過生活作息、飲食品質等等作為參考變數，讓機器告知身體狀況與影響，來預防疾病。  \n",
    "    3. 股市預測：由於許多人並不了解股市中專業用詞、定義、走勢圖等等，透過現有的股票相關資料，使用機器學習與時間序列等演算法的結合，來訓練出一套股市預測模型，我們或許不用太深入其中也能預測股市走勢。  "
   ]
  }
 ],
 "metadata": {
  "kernelspec": {
   "display_name": "Python 3",
   "language": "python",
   "name": "python3"
  },
  "language_info": {
   "codemirror_mode": {
    "name": "ipython",
    "version": 3
   },
   "file_extension": ".py",
   "mimetype": "text/x-python",
   "name": "python",
   "nbconvert_exporter": "python",
   "pygments_lexer": "ipython3",
   "version": "3.7.3"
  }
 },
 "nbformat": 4,
 "nbformat_minor": 2
}
