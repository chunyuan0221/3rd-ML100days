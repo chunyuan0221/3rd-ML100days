{
 "cells": [
  {
   "cell_type": "markdown",
   "metadata": {},
   "source": [
    "### [作業重點] : Rectified Linear Unit (Relu) \n",
    "- f(x)=max(0,x)\n",
    "\n",
    "### [作業目標] : 寫出 ReLU & dReLU 一階導數，並列印\n"
   ]
  },
  {
   "cell_type": "code",
   "execution_count": 1,
   "metadata": {},
   "outputs": [],
   "source": [
    "import numpy as np\n",
    "from numpy import *\n",
    "import matplotlib.pylab as plt\n",
    "%matplotlib inline"
   ]
  },
  {
   "cell_type": "code",
   "execution_count": 2,
   "metadata": {},
   "outputs": [],
   "source": [
    "# 方法一、比較冗長\n",
    "def relu(x):\n",
    "    temp = []\n",
    "    for i in x:\n",
    "        if i < 0:\n",
    "            i = 0\n",
    "            temp.append(i)\n",
    "        else:\n",
    "            temp.append(i)\n",
    "    return temp"
   ]
  },
  {
   "cell_type": "code",
   "execution_count": 3,
   "metadata": {},
   "outputs": [],
   "source": [
    "# 方法二、簡潔\n",
    "def relu(x):\n",
    "    return (abs(x) * (x > 0))"
   ]
  },
  {
   "cell_type": "code",
   "execution_count": 4,
   "metadata": {},
   "outputs": [],
   "source": [
    "# 方法一\n",
    "def d_relu(x):\n",
    "    temp = []\n",
    "    for i in x:\n",
    "        if i < 0:\n",
    "            i = 0\n",
    "            temp.append(i)\n",
    "        else:\n",
    "            i = 1\n",
    "            temp.append(i)\n",
    "    return temp"
   ]
  },
  {
   "cell_type": "code",
   "execution_count": 5,
   "metadata": {},
   "outputs": [],
   "source": [
    "# 方法二\n",
    "def d_relu(x):\n",
    "    return (1 * (x > 0))"
   ]
  },
  {
   "cell_type": "code",
   "execution_count": 6,
   "metadata": {},
   "outputs": [
    {
     "data": {
      "image/png": "[encoded data removed]",
      "text/plain": [
       "<Figure size 432x288 with 1 Axes>"
      ]
     },
     "metadata": {
      "needs_background": "light"
     },
     "output_type": "display_data"
    }
   ],
   "source": [
    "x = plt.linspace(-10,10,100)\n",
    "plt.plot(x, relu(x), color='blue')\n",
    "plt.plot(x, d_relu(x), color='r')\n",
    "\n",
    "plt.grid()\n",
    "# 顯現圖示的Title\n",
    "plt.title('RELU Function')\n",
    "# 顯現 the ReLU formula\n",
    "plt.text(0, 8.2, r'$ReLU(x)= max(0,x)$', fontsize=12, color='blue')\n",
    "plt.text(-7, 0.5, r'$dReLU(x)$', fontsize=12, color='red')\n",
    "\n",
    "plt.gca().xaxis.set_major_locator(plt.MultipleLocator(1))\n",
    "plt.gca().yaxis.set_major_locator(plt.MultipleLocator(1))\n",
    "\n",
    "plt.show()"
   ]
  }
 ],
 "metadata": {
  "kernelspec": {
   "display_name": "Python 3",
   "language": "python",
   "name": "python3"
  },
  "language_info": {
   "codemirror_mode": {
    "name": "ipython",
    "version": 3
   },
   "file_extension": ".py",
   "mimetype": "text/x-python",
   "name": "python",
   "nbconvert_exporter": "python",
   "pygments_lexer": "ipython3",
   "version": "3.7.3"
  }
 },
 "nbformat": 4,
 "nbformat_minor": 2
}
