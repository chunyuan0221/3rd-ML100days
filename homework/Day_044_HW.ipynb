{
 "cells": [
  {
   "cell_type": "markdown",
   "metadata": {},
   "source": [
    "## [作業重點]\n",
    "確保你了解隨機森林模型中每個超參數的意義，並觀察調整超參數對結果的影響"
   ]
  },
  {
   "cell_type": "markdown",
   "metadata": {},
   "source": [
    "## 作業\n",
    "\n",
    "1. 試著調整 RandomForestClassifier(...) 中的參數，並觀察是否會改變結果？\n",
    "2. 改用其他資料集 (boston, wine)，並與回歸模型與決策樹的結果進行比較"
   ]
  },
  {
   "cell_type": "markdown",
   "metadata": {},
   "source": [
    "#### 1. Boston house price\n",
    "- 目標:使用RandomForest模型同時，調整當中的參數，並察看結果\n",
    "- 調整參數:\n",
    "    1. n_estimators\n",
    "    2. max_depth"
   ]
  },
  {
   "cell_type": "code",
   "execution_count": 1,
   "metadata": {},
   "outputs": [],
   "source": [
    "from sklearn.ensemble import RandomForestClassifier, RandomForestRegressor\n",
    "from sklearn.tree import DecisionTreeClassifier, DecisionTreeRegressor\n",
    "from sklearn.model_selection import train_test_split\n",
    "from sklearn import datasets\n",
    "from sklearn import metrics"
   ]
  },
  {
   "cell_type": "code",
   "execution_count": 2,
   "metadata": {},
   "outputs": [],
   "source": [
    "boston = datasets.load_boston()\n",
    "x_train, x_test, Y_train, Y_test = train_test_split(boston.data, boston.target, test_size=0.2, random_state=0)\n",
    "RF_reg = RandomForestRegressor(n_estimators=10, max_depth=4)\n",
    "RF_reg1 = RandomForestRegressor(n_estimators=20, max_depth=10)\n",
    "RF_reg.fit(x_train, Y_train)\n",
    "RF_reg1.fit(x_train, Y_train)\n",
    "Y_predict = RF_reg.predict(x_test)\n",
    "Y1_predict = RF_reg1.predict(x_test)"
   ]
  },
  {
   "cell_type": "code",
   "execution_count": 3,
   "metadata": {
    "scrolled": true
   },
   "outputs": [
    {
     "name": "stdout",
     "output_type": "stream",
     "text": [
      "Boston house price MSE:27.951083655589606\n",
      "Boston house price MSE1:22.20302826117993\n"
     ]
    }
   ],
   "source": [
    "MSE = metrics.mean_squared_error(Y_test, Y_predict)\n",
    "MSE1 = metrics.mean_squared_error(Y_test, Y1_predict)\n",
    "print(f\"Boston house price MSE:{MSE}\")\n",
    "print(f\"Boston house price MSE1:{MSE1}\")"
   ]
  },
  {
   "cell_type": "markdown",
   "metadata": {},
   "source": [
    "#### 2. Wine classifier\n",
    "- 目標:使用RandomForest模型同時，調整當中的參數，並察看結果\n",
    "- 調整參數:\n",
    "    1. n_estimators\n",
    "    2. max_depth"
   ]
  },
  {
   "cell_type": "code",
   "execution_count": 4,
   "metadata": {},
   "outputs": [],
   "source": [
    "wine = datasets.load_wine()\n",
    "x_train, x_test, Y_train, Y_test = train_test_split(wine.data, wine.target, test_size=0.2, random_state=0)\n",
    "RF_clf = RandomForestClassifier(n_estimators=10, max_depth=3)\n",
    "RF_clf1 = RandomForestClassifier(n_estimators=100, max_depth=50)\n",
    "RF_clf.fit(x_train, Y_train)\n",
    "RF_clf1.fit(x_train, Y_train)\n",
    "Y_pred = RF_clf.predict(x_test)\n",
    "Y1_pred = RF_clf1.predict(x_test)"
   ]
  },
  {
   "cell_type": "code",
   "execution_count": 5,
   "metadata": {},
   "outputs": [
    {
     "name": "stdout",
     "output_type": "stream",
     "text": [
      "wine acc:0.9722222222222222\n",
      "wine acc1:0.9722222222222222\n"
     ]
    }
   ],
   "source": [
    "acc = metrics.accuracy_score(Y_test, Y_pred)\n",
    "acc1 = metrics.accuracy_score(Y_test, Y1_pred)\n",
    "print(f\"wine acc:{acc}\")\n",
    "print(f\"wine acc1:{acc1}\")"
   ]
  },
  {
   "cell_type": "markdown",
   "metadata": {},
   "source": [
    "### 作業\n",
    "1. 試著調整 RandomForestClassifier(...) 中的參數，並觀察是否會改變結果?\n",
    "\n",
    "ANS: RandomForestClassifier()中主要影響結果的參數有:\n",
    "    1. n_estimators: Decision tree的數量\n",
    "    2. max_depth: Decision tree的最大深度\n",
    "\n",
    "- 結論:\n",
    "    1. 當給定Decision tree越大的深度，同時拉高Decision tree的數量，在結果上有比較高和穩定的準確率。\n",
    "    2. 至於Decision tree要多深、數量要多少，可以透過程式查看到多少時就沒有太大變化，來決定參數值。\n",
    "\n",
    "***\n",
    "2. 改用其他資料集 (boston, wine)，並與回歸模型與決策樹的結果進行比較\n"
   ]
  },
  {
   "cell_type": "code",
   "execution_count": 6,
   "metadata": {},
   "outputs": [],
   "source": [
    "from sklearn.linear_model import LinearRegression, LogisticRegression\n",
    "import warnings\n",
    "warnings.filterwarnings(\"ignore\")"
   ]
  },
  {
   "cell_type": "code",
   "execution_count": 7,
   "metadata": {
    "scrolled": true
   },
   "outputs": [
    {
     "name": "stdout",
     "output_type": "stream",
     "text": [
      "LinearRegression MSE:33.44897999767654\n",
      "RandomForestRegressor MSE:18.1466078367756\n"
     ]
    }
   ],
   "source": [
    "boston = datasets.load_boston()\n",
    "x_train, x_test, Y_train, Y_test = train_test_split(boston.data, boston.target, test_size=0.2, random_state=0)\n",
    "linear_model = LinearRegression()\n",
    "RF_reg = RandomForestRegressor(n_estimators=100, max_depth=20)\n",
    "linear_model.fit(x_train, Y_train)\n",
    "RF_reg.fit(x_train, Y_train)\n",
    "\n",
    "Ypred_linear = linear_model.predict(x_test)\n",
    "Ypred_RFreg = RF_reg.predict(x_test)\n",
    "\n",
    "MSE_linear = metrics.mean_squared_error(Y_test, Ypred_linear)\n",
    "MSE_RFreg = metrics.mean_squared_error(Y_test, Ypred_RFreg)\n",
    "print(f\"LinearRegression MSE:{MSE_linear}\")\n",
    "print(f\"RandomForestRegressor MSE:{MSE_RFreg}\")"
   ]
  },
  {
   "cell_type": "code",
   "execution_count": 8,
   "metadata": {
    "scrolled": true
   },
   "outputs": [
    {
     "name": "stdout",
     "output_type": "stream",
     "text": [
      "LogisticRegression accuracy:0.9444444444444444\n",
      "RandomForestClassifier accuracy:0.9722222222222222\n"
     ]
    }
   ],
   "source": [
    "wine = datasets.load_wine()\n",
    "x_train, x_test, Y_train, Y_test = train_test_split(wine.data, wine.target, test_size=0.2, random_state=0)\n",
    "logist_model = LogisticRegression()\n",
    "RF_clf = RandomForestClassifier(n_estimators=100, max_depth=50)\n",
    "\n",
    "logist_model.fit(x_train, Y_train)\n",
    "RF_clf.fit(x_train, Y_train)\n",
    "\n",
    "Ypred_logist = logist_model.predict(x_test)\n",
    "Ypred_RFclf = RF_clf.predict(x_test)\n",
    "\n",
    "acc_logist = metrics.accuracy_score(Y_test, Ypred_logist)\n",
    "acc_RFclf = metrics.accuracy_score(Y_test, Ypred_RFclf)\n",
    "print(f\"LogisticRegression accuracy:{acc_logist}\")\n",
    "print(f\"RandomForestClassifier accuracy:{acc_RFclf}\")"
   ]
  },
  {
   "cell_type": "markdown",
   "metadata": {},
   "source": [
    "- 結論:\n",
    "    1. 透過RandmForest來預測Boston房價和紅酒分類的準確率都比最基本的線性回歸和羅吉斯回歸的結果更好。"
   ]
  }
 ],
 "metadata": {
  "kernelspec": {
   "display_name": "Python 3",
   "language": "python",
   "name": "python3"
  },
  "language_info": {
   "codemirror_mode": {
    "name": "ipython",
    "version": 3
   },
   "file_extension": ".py",
   "mimetype": "text/x-python",
   "name": "python",
   "nbconvert_exporter": "python",
   "pygments_lexer": "ipython3",
   "version": "3.7.3"
  }
 },
 "nbformat": 4,
 "nbformat_minor": 2
}
