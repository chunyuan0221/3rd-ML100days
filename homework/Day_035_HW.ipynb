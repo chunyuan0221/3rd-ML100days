{
 "cells": [
  {
   "cell_type": "markdown",
   "metadata": {},
   "source": [
    "## 練習時間\n",
    "相信大家對回歸問題及分類問題都有初步的了解。今天的作業希望大家搜尋有關 multi-label 的案例問題。下圖是電影 \"奇異博士\" 的分類。可以看到同時有 \"Action\", \"Adventure\", \"Fantasy\" 的類別存在，代表這是個多標籤的問題。 "
   ]
  },
  {
   "cell_type": "markdown",
   "metadata": {},
   "source": [
    "![image](https://cdn-images-1.medium.com/max/1000/1*r0gYXMSQf5VhdMyl2bRDyg.png)"
   ]
  },
  {
   "cell_type": "markdown",
   "metadata": {},
   "source": [
    "## 請搜尋目標為多標籤問題 (Multi-label) 的機器學習案例，了解其資料來源、目標以及評估指標為何\n",
    "## Hint: 服飾\n",
    "***\n",
    "### 案例: 生物信息(在酵母數據集中的基因分類)\n",
    "\n",
    "- [資料來源] : \n",
    "    - Paper: \n",
    "        1. [A Multi-Label Classification Approach Based on Correlations Among Labels](https://pdfs.semanticscholar.org/16af/4e76340b5b78dd28e14ace19d2623c27be5f.pdf)\n",
    "        2. [Multilabel Classification with R Package\n",
    "mlr](https://pdfs.semanticscholar.org/16af/4e76340b5b78dd28e14ace19d2623c27be5f.pdf) \n",
    "    - Data set:\n",
    "        1. [Mulan: A Java Library for Multi-Label Learning](http://mulan.sourceforge.net/datasets-mlc.html)  \n",
    "    - Article :\n",
    "        1. [多標籤分類問題](http://www.atyun.com/5376.html)\n",
    "        \n",
    "\n",
    "- [目標] : 透過多標籤分類來預測未標記的蛋白質屬於哪些標籤，進而預測出蛋白質的多重功用。\n",
    "\n",
    "\n",
    "- [解決多標籤分類問題的技術] : \n",
    "    1. 問題轉換:這個方法是嘗試把多標籤問題轉換為單標籤問題\n",
    "        1. 二元關聯（Binary Relevance）\n",
    "        2. 分類器鏈（Classifier Chains）\n",
    "        3. 標籤Powerset（Label Powerset）\n",
    "    2. 改編演算法:改編演算法來直接執行多標籤分類，而不是將問題轉化為不同的問題子集\n",
    "        1. Random Forest\n",
    "        2. MLkNN\n",
    "    3. 整合方法:Scikit-Multilearn庫提供不同的組合分類功能，可以使用它來獲得更好的結果。\n",
    "    \n",
    "    \n",
    "- [評估指標] : Accuracy, Hamming Loss, Harmonic Mean"
   ]
  }
 ],
 "metadata": {
  "kernelspec": {
   "display_name": "Python 3",
   "language": "python",
   "name": "python3"
  },
  "language_info": {
   "codemirror_mode": {
    "name": "ipython",
    "version": 3
   },
   "file_extension": ".py",
   "mimetype": "text/x-python",
   "name": "python",
   "nbconvert_exporter": "python",
   "pygments_lexer": "ipython3",
   "version": "3.7.3"
  }
 },
 "nbformat": 4,
 "nbformat_minor": 2
}
