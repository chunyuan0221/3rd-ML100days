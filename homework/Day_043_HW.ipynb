{
 "cells": [
  {
   "cell_type": "markdown",
   "metadata": {},
   "source": [
    "## [作業重點]\n",
    "了解隨機森林改善了決策樹的什麼缺點？是用什麼方法改進的？"
   ]
  },
  {
   "cell_type": "markdown",
   "metadata": {},
   "source": [
    "## 作業\n",
    "\n",
    "閱讀以下兩篇文獻，了解隨機森林原理，並試著回答後續的思考問題\n",
    "- [隨機森林 (random forest) - 中文](http://hhtucode.blogspot.tw/2013/06/ml-random-forest.html)\n",
    "- [how random forest works - 英文](https://medium.com/@Synced/how-random-forest-algorithm-works-in-machine-learning-3c0fe15b6674)"
   ]
  },
  {
   "cell_type": "markdown",
   "metadata": {},
   "source": [
    "1. 隨機森林中的每一棵樹，是希望能夠\n",
    "    - 沒有任何限制，讓樹可以持續生長 (讓樹生成很深，讓模型變得複雜)\n",
    "    - 不要過度生長，避免 Overfitting  \n",
    "\n",
    "[ANS] \n",
    "    1. Decision tree在訓練時，若樹生成的很深可以達到較高的準確率，但往往會導致overfitting。\n",
    "    2. 而Random Forest可以將訓練出許多Decision tree的結果用投票或平均的方式來取得結果，來避免Overfitting。\n",
    "    3. 整體概念就是，一個很強的模型但針對性太高很容易在預測資料時失敗，因此將很多很強的模型集合在一起，透過投票和平均的方式來找出可能的結果。\n",
    "\n",
    "***\n",
    "2. 假設總共有 N 筆資料，每棵樹用取後放回的方式抽了總共 N 筆資料生成，請問這棵樹大約使用了多少 % 不重複的原資料生成?hint: 0.632 bootstrap  \n",
    "\n",
    "[Ans] 36.8\\%  \n",
    "抽樣取後放回，因此:\n",
    "    1. 抽中機率: \n",
    "$$\\frac{1}{N}$$\n",
    "    2. 抽不中機率: \n",
    "$$(1 - \\frac{1}{N})$$\n",
    "    3. 抽N次都沒被抽到的機率:\n",
    "$$(1 - \\frac{1}{N})^N$$\n",
    "    4. 當樣本數很大時，N趨近於無限:\n",
    "$$\\lim\\limits_{N\\to\\infty} (1 - \\frac{1}{N})^N = \\frac{1}{e} = 0.368 = 36.8\\% $$\n",
    "    5. 所以當bootstrap樣本總數很大的時候，任一個樣本被抽中的機率:\n",
    "    \n",
    "$$1− \\frac{1}{e}≈1−0.368≈0.632 = 63.2\\%$$\n",
    "\n",
    "\n",
    "#### 補充\n",
    "- 通常在最機器學習訓練時，會將資料分為訓練集和測試集，再將訓練集分為訓練集和驗證集。在執行隨機森林演算法常見的辦法如下:\n",
    "    1. 將分好的訓練集資料(共N筆資料)，進行取後放回的抽樣，每棵Decision tree在抽樣N次後則會有獨立的結果\n",
    "    2. 在建立多棵Decision tree，每棵的資料都有所不同，建立的樹和結果也會不同\n",
    "    3. Random Forest，就是將每一棵Decision tree的結果透過投票(classifier)概念來選出結果；將每一棵Decision tree的結果透過平均(regression)作為結果"
   ]
  }
 ],
 "metadata": {
  "kernelspec": {
   "display_name": "Python 3",
   "language": "python",
   "name": "python3"
  },
  "language_info": {
   "codemirror_mode": {
    "name": "ipython",
    "version": 3
   },
   "file_extension": ".py",
   "mimetype": "text/x-python",
   "name": "python",
   "nbconvert_exporter": "python",
   "pygments_lexer": "ipython3",
   "version": "3.7.3"
  }
 },
 "nbformat": 4,
 "nbformat_minor": 2
}
