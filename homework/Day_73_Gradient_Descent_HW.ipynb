{
 "cells": [
  {
   "cell_type": "markdown",
   "metadata": {},
   "source": [
    "# 作業重點\n",
    "\n",
    "使用function y=(x+5)² 來練習學習率( leanrning rate ) 調整所造成的影響"
   ]
  },
  {
   "cell_type": "markdown",
   "metadata": {},
   "source": [
    "# 作業目標:\n",
    "    請嘗試使用不同的組合驗證 learning rate 對所需 iteration 的影響\n",
    "    lr = [0.1, 0.0001]\n",
    "    主要驗證 Lr 對於grandient 收斂的速度\n",
    "    "
   ]
  },
  {
   "cell_type": "code",
   "execution_count": 1,
   "metadata": {},
   "outputs": [],
   "source": [
    "cur_x = 3 # The algorithm starts at x=3\n",
    "precision = 0.000001 #This tells us when to stop the algorithm\n",
    "max_iters = 10000 # maximum number of iterations\n",
    "lr = [0.1, 0.0001]\n",
    "df = lambda x: 2*(x+5) #Gradient of our function \n",
    "previous_step = 1\n",
    "iters = 0\n",
    "\n",
    "iters_history = [iters]\n",
    "x_history = [cur_x]"
   ]
  },
  {
   "cell_type": "code",
   "execution_count": 2,
   "metadata": {
    "scrolled": true
   },
   "outputs": [
    {
     "name": "stdout",
     "output_type": "stream",
     "text": [
      "The learning rate is 0.1 \n",
      "Iteration 66 \n",
      "X value is -4.999996786123911 \n",
      "Step size 8.034690219815843e-07\n"
     ]
    }
   ],
   "source": [
    "while previous_step > precision and iters < max_iters:\n",
    "    prev_x = cur_x\n",
    "    cur_x = cur_x - lr[0] * df(prev_x)\n",
    "    previous_step = abs(cur_x - prev_x)\n",
    "    iters = iters+1\n",
    "    iters_history.append(iters)\n",
    "    x_history.append(cur_x)\n",
    "print(f'The learning rate is {lr[0]}', f'\\nIteration {iters}', f'\\nX value is {cur_x}', f'\\nStep size {previous_step}')"
   ]
  },
  {
   "cell_type": "code",
   "execution_count": 3,
   "metadata": {},
   "outputs": [],
   "source": [
    "cur_x = 3 # The algorithm starts at x=3\n",
    "precision = 0.000001 #This tells us when to stop the algorithm\n",
    "max_iters = 10000 # maximum number of iterations\n",
    "lr = [0.1, 0.0001]\n",
    "df = lambda x: 2*(x+5) #Gradient of our function \n",
    "previous_step = 1\n",
    "iters = 0\n",
    "\n",
    "iters_history = [iters]\n",
    "x_history = [cur_x]"
   ]
  },
  {
   "cell_type": "code",
   "execution_count": 4,
   "metadata": {
    "scrolled": false
   },
   "outputs": [
    {
     "name": "stdout",
     "output_type": "stream",
     "text": [
      "The learning rate is 0.0001 \n",
      "Iteration 10000 \n",
      "X value is -3.917534277778167 \n",
      "Step size 0.00021653645173458358\n"
     ]
    }
   ],
   "source": [
    "while previous_step > precision and iters < max_iters:\n",
    "    prev_x = cur_x\n",
    "    cur_x = cur_x - lr[1] * df(prev_x)\n",
    "    previous_step = abs(cur_x - prev_x)\n",
    "    iters = iters+1\n",
    "    iters_history.append(iters)\n",
    "    x_history.append(cur_x)\n",
    "print(f'The learning rate is {lr[1]}', f'\\nIteration {iters}', f'\\nX value is {cur_x}', f'\\nStep size {previous_step}')"
   ]
  },
  {
   "cell_type": "markdown",
   "metadata": {},
   "source": [
    "- 結論:\n",
    "    - learning rate越小，需要進行越多次的迭代才能達到local minma。"
   ]
  }
 ],
 "metadata": {
  "kernelspec": {
   "display_name": "Python 3",
   "language": "python",
   "name": "python3"
  },
  "language_info": {
   "codemirror_mode": {
    "name": "ipython",
    "version": 3
   },
   "file_extension": ".py",
   "mimetype": "text/x-python",
   "name": "python",
   "nbconvert_exporter": "python",
   "pygments_lexer": "ipython3",
   "version": "3.7.3"
  }
 },
 "nbformat": 4,
 "nbformat_minor": 2
}
