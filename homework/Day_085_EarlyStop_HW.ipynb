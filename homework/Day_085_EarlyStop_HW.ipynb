{
  "nbformat": 4,
  "nbformat_minor": 0,
  "metadata": {
    "kernelspec": {
      "name": "python3",
      "display_name": "Python 3"
    },
    "language_info": {
      "codemirror_mode": {
        "name": "ipython",
        "version": 3
      },
      "file_extension": ".py",
      "mimetype": "text/x-python",
      "name": "python",
      "nbconvert_exporter": "python",
      "pygments_lexer": "ipython3",
      "version": "3.6.5"
    },
    "colab": {
      "name": "Day_085_EarlyStop_HW.ipynb",
      "provenance": [],
      "collapsed_sections": [],
      "include_colab_link": true
    },
    "accelerator": "GPU"
  },
  "cells": [
    {
      "cell_type": "markdown",
      "metadata": {
        "id": "view-in-github",
        "colab_type": "text"
      },
      "source": [
        "<a href=\"https://colab.research.google.com/github/chunyuan0221/3rd-ML100days/blob/master/Day_085_EarlyStop_HW.ipynb\" target=\"_parent\"><img src=\"https://colab.research.google.com/assets/colab-badge.svg\" alt=\"Open In Colab\"/></a>"
      ]
    },
    {
      "cell_type": "markdown",
      "metadata": {
        "id": "aUCYE6B-3s0r",
        "colab_type": "text"
      },
      "source": [
        "## Work\n",
        "1. 試改變 monitor \"Validation Accuracy\" 並比較結果\n",
        "2. 調整 earlystop 的等待次數至 10, 25 並比較結果"
      ]
    },
    {
      "cell_type": "code",
      "metadata": {
        "id": "YtiMBsfp3s0s",
        "colab_type": "code",
        "colab": {}
      },
      "source": [
        "import os\n",
        "import keras\n",
        "import tensorflow as tf\n",
        "import matplotlib.pyplot as plt\n",
        "%matplotlib inline\n",
        "tf.compat.v1.logging.set_verbosity(tf.compat.v1.logging.ERROR)\n",
        "\n",
        "# Disable GPU\n",
        "#os.environ[\"CUDA_VISIBLE_DEVICES\"] = \"\""
      ],
      "execution_count": 0,
      "outputs": []
    },
    {
      "cell_type": "code",
      "metadata": {
        "id": "S65wj4C63s0w",
        "colab_type": "code",
        "colab": {}
      },
      "source": [
        "train, test = keras.datasets.cifar10.load_data()"
      ],
      "execution_count": 0,
      "outputs": []
    },
    {
      "cell_type": "code",
      "metadata": {
        "id": "qAk7d2rQ3s0z",
        "colab_type": "code",
        "colab": {}
      },
      "source": [
        "## 資料前處理\n",
        "def preproc_x(x, flatten=True):\n",
        "    x = x / 255.\n",
        "    if flatten:\n",
        "        x = x.reshape((len(x), -1))\n",
        "    return x\n",
        "\n",
        "def preproc_y(y, num_classes=10):\n",
        "    if y.shape[-1] == 1:\n",
        "        y = keras.utils.to_categorical(y, num_classes)\n",
        "    return y    "
      ],
      "execution_count": 0,
      "outputs": []
    },
    {
      "cell_type": "code",
      "metadata": {
        "id": "9roe0wPg3s02",
        "colab_type": "code",
        "colab": {}
      },
      "source": [
        "x_train, y_train = train\n",
        "x_test, y_test = test\n",
        "\n",
        "# Preproc the inputs\n",
        "x_train = preproc_x(x_train)\n",
        "x_test = preproc_x(x_test)\n",
        "\n",
        "# Preprc the outputs\n",
        "y_train = preproc_y(y_train)\n",
        "y_test = preproc_y(y_test)"
      ],
      "execution_count": 0,
      "outputs": []
    },
    {
      "cell_type": "code",
      "metadata": {
        "id": "W-aKQdif3s05",
        "colab_type": "code",
        "colab": {}
      },
      "source": [
        "def build_mlp(input_shape, output_neuron=10, layer_neuron=[512, 256, 128]):\n",
        "    \"\"\"Code Here\n",
        "    建立你的神經網路\n",
        "    \"\"\"\n",
        "    input_layer = keras.layers.Input(shape=input_shape)\n",
        "    for i, neuron in enumerate(layer_neuron):\n",
        "        if i == 0:\n",
        "            x = keras.layers.BatchNormalization()(input_layer)\n",
        "            x = keras.layers.Dense(units=neuron, activation='relu', name='hidden_layer%s' %str(i+1))(x)\n",
        "        else:\n",
        "            x = keras.layers.BatchNormalization()(x)\n",
        "            x = keras.layers.Dense(units=neuron, activation='relu', name='hidden_layer%s' %str(i+1))(x)\n",
        "    out = keras.layers.Dense(units=output_neuron, activation='softmax')(x)\n",
        "    model = keras.models.Model(inputs=[input_layer], outputs=[out])\n",
        "    return model"
      ],
      "execution_count": 0,
      "outputs": []
    },
    {
      "cell_type": "code",
      "metadata": {
        "id": "rApGU4yW3s07",
        "colab_type": "code",
        "colab": {}
      },
      "source": [
        "\"\"\"Code Here\n",
        "設定超參數\n",
        "\"\"\"\n",
        "EPOCHS = 50\n",
        "BATCH_SIZE = 256\n",
        "MOMENTUM = 0.95\n",
        "LEARNING_RATE = 1e-3"
      ],
      "execution_count": 0,
      "outputs": []
    },
    {
      "cell_type": "code",
      "metadata": {
        "id": "wkCbgirv3s0-",
        "colab_type": "code",
        "colab": {
          "base_uri": "https://localhost:8080/",
          "height": 1000
        },
        "outputId": "a6c2acc6-2699-4b66-fedc-012a499617af"
      },
      "source": [
        "# 載入 Callbacks\n",
        "\"\"\"Code Here\n",
        "設定 callbacks: Earlystop\n",
        "\"\"\"\n",
        "from keras.callbacks import EarlyStopping\n",
        "earlystop = EarlyStopping(monitor='val_acc',\n",
        "                          patience=10,\n",
        "                          verbose=1)\n",
        "\n",
        "\"\"\"Code Here\n",
        "撰寫你的訓練流程並將結果用 dictionary 紀錄\n",
        "\"\"\"\n",
        "model = build_mlp(x_train.shape[1:])\n",
        "opt = keras.optimizers.SGD(lr=LEARNING_RATE, momentum=MOMENTUM, nesterov=True)\n",
        "model.compile(optimizer=opt, loss='categorical_crossentropy', metrics=['accuracy'])\n",
        "model.fit(x_train, y_train,\n",
        "          epochs=EPOCHS,\n",
        "          batch_size=BATCH_SIZE,\n",
        "          validation_data=(x_test, y_test),\n",
        "          shuffle=True,\n",
        "          callbacks=[earlystop])"
      ],
      "execution_count": 26,
      "outputs": [
        {
          "output_type": "stream",
          "text": [
            "Train on 50000 samples, validate on 10000 samples\n",
            "Epoch 1/50\n",
            "50000/50000 [==============================] - 3s 62us/step - loss: 1.8321 - acc: 0.3587 - val_loss: 1.6238 - val_acc: 0.4242\n",
            "Epoch 2/50\n",
            "50000/50000 [==============================] - 2s 45us/step - loss: 1.5143 - acc: 0.4660 - val_loss: 1.5331 - val_acc: 0.4610\n",
            "Epoch 3/50\n",
            "50000/50000 [==============================] - 2s 45us/step - loss: 1.3943 - acc: 0.5113 - val_loss: 1.4722 - val_acc: 0.4790\n",
            "Epoch 4/50\n",
            "50000/50000 [==============================] - 2s 45us/step - loss: 1.3057 - acc: 0.5439 - val_loss: 1.4344 - val_acc: 0.4874\n",
            "Epoch 5/50\n",
            "50000/50000 [==============================] - 2s 44us/step - loss: 1.2288 - acc: 0.5737 - val_loss: 1.4139 - val_acc: 0.4950\n",
            "Epoch 6/50\n",
            "50000/50000 [==============================] - 2s 46us/step - loss: 1.1610 - acc: 0.5984 - val_loss: 1.4003 - val_acc: 0.5057\n",
            "Epoch 7/50\n",
            "50000/50000 [==============================] - 2s 44us/step - loss: 1.0969 - acc: 0.6218 - val_loss: 1.3958 - val_acc: 0.5083\n",
            "Epoch 8/50\n",
            "50000/50000 [==============================] - 2s 44us/step - loss: 1.0388 - acc: 0.6434 - val_loss: 1.3824 - val_acc: 0.5163\n",
            "Epoch 9/50\n",
            "50000/50000 [==============================] - 2s 44us/step - loss: 0.9783 - acc: 0.6653 - val_loss: 1.3923 - val_acc: 0.5158\n",
            "Epoch 10/50\n",
            "50000/50000 [==============================] - 2s 46us/step - loss: 0.9274 - acc: 0.6862 - val_loss: 1.3887 - val_acc: 0.5232\n",
            "Epoch 11/50\n",
            "50000/50000 [==============================] - 2s 46us/step - loss: 0.8697 - acc: 0.7094 - val_loss: 1.3987 - val_acc: 0.5223\n",
            "Epoch 12/50\n",
            "50000/50000 [==============================] - 2s 46us/step - loss: 0.8169 - acc: 0.7288 - val_loss: 1.4108 - val_acc: 0.5225\n",
            "Epoch 13/50\n",
            "50000/50000 [==============================] - 2s 47us/step - loss: 0.7675 - acc: 0.7478 - val_loss: 1.4255 - val_acc: 0.5238\n",
            "Epoch 14/50\n",
            "50000/50000 [==============================] - 2s 47us/step - loss: 0.7164 - acc: 0.7663 - val_loss: 1.4524 - val_acc: 0.5195\n",
            "Epoch 15/50\n",
            "50000/50000 [==============================] - 2s 44us/step - loss: 0.6672 - acc: 0.7850 - val_loss: 1.4600 - val_acc: 0.5261\n",
            "Epoch 16/50\n",
            "50000/50000 [==============================] - 2s 44us/step - loss: 0.6234 - acc: 0.8010 - val_loss: 1.4923 - val_acc: 0.5242\n",
            "Epoch 17/50\n",
            "50000/50000 [==============================] - 2s 45us/step - loss: 0.5779 - acc: 0.8159 - val_loss: 1.5169 - val_acc: 0.5201\n",
            "Epoch 18/50\n",
            "50000/50000 [==============================] - 2s 45us/step - loss: 0.5394 - acc: 0.8307 - val_loss: 1.5478 - val_acc: 0.5272\n",
            "Epoch 19/50\n",
            "50000/50000 [==============================] - 2s 44us/step - loss: 0.4918 - acc: 0.8492 - val_loss: 1.5655 - val_acc: 0.5221\n",
            "Epoch 20/50\n",
            "50000/50000 [==============================] - 2s 44us/step - loss: 0.4498 - acc: 0.8652 - val_loss: 1.6173 - val_acc: 0.5128\n",
            "Epoch 21/50\n",
            "50000/50000 [==============================] - 2s 43us/step - loss: 0.4151 - acc: 0.8768 - val_loss: 1.6361 - val_acc: 0.5222\n",
            "Epoch 22/50\n",
            "50000/50000 [==============================] - 2s 43us/step - loss: 0.3849 - acc: 0.8879 - val_loss: 1.6757 - val_acc: 0.5176\n",
            "Epoch 23/50\n",
            "50000/50000 [==============================] - 2s 44us/step - loss: 0.3466 - acc: 0.9018 - val_loss: 1.7172 - val_acc: 0.5203\n",
            "Epoch 24/50\n",
            "50000/50000 [==============================] - 2s 44us/step - loss: 0.3129 - acc: 0.9134 - val_loss: 1.7521 - val_acc: 0.5163\n",
            "Epoch 25/50\n",
            "50000/50000 [==============================] - 2s 44us/step - loss: 0.2869 - acc: 0.9226 - val_loss: 1.8058 - val_acc: 0.5160\n",
            "Epoch 26/50\n",
            "50000/50000 [==============================] - 2s 44us/step - loss: 0.2578 - acc: 0.9324 - val_loss: 1.8300 - val_acc: 0.5140\n",
            "Epoch 27/50\n",
            "50000/50000 [==============================] - 2s 44us/step - loss: 0.2363 - acc: 0.9393 - val_loss: 1.8647 - val_acc: 0.5165\n",
            "Epoch 28/50\n",
            "50000/50000 [==============================] - 2s 44us/step - loss: 0.2133 - acc: 0.9465 - val_loss: 1.8977 - val_acc: 0.5144\n",
            "Epoch 00028: early stopping\n"
          ],
          "name": "stdout"
        },
        {
          "output_type": "execute_result",
          "data": {
            "text/plain": [
              "<keras.callbacks.History at 0x7f79f34de898>"
            ]
          },
          "metadata": {
            "tags": []
          },
          "execution_count": 26
        }
      ]
    },
    {
      "cell_type": "code",
      "metadata": {
        "id": "HfpZI5283s1B",
        "colab_type": "code",
        "colab": {
          "base_uri": "https://localhost:8080/",
          "height": 513
        },
        "outputId": "82fd93a3-ad9b-4247-e4df-407d1bd1973d"
      },
      "source": [
        "import matplotlib.pyplot as plt\n",
        "%matplotlib inline\n",
        "\"\"\"Code Here\n",
        "將結果繪出\n",
        "\"\"\"\n",
        "plt.plot(model.history.history['loss'], label='train_loss')\n",
        "plt.plot(model.history.history['val_loss'], label='val_loss')\n",
        "plt.legend()\n",
        "plt.show()\n",
        "\n",
        "plt.plot(model.history.history['acc'], label='train_acc')\n",
        "plt.plot(model.history.history['val_acc'], label='val_acc')\n",
        "plt.legend()\n",
        "plt.show()"
      ],
      "execution_count": 27,
      "outputs": [
        {
          "output_type": "display_data",
          "data": {
            "image/png": "[encoded data removed]",
            "text/plain": [
              "<Figure size 432x288 with 1 Axes>"
            ]
          },
          "metadata": {
            "tags": []
          }
        },
        {
          "output_type": "display_data",
          "data": {
            "image/png": "[encoded data removed]",
            "text/plain": [
              "<Figure size 432x288 with 1 Axes>"
            ]
          },
          "metadata": {
            "tags": []
          }
        }
      ]
    },
    {
      "cell_type": "markdown",
      "metadata": {
        "id": "X2N5v4nOOulH",
        "colab_type": "text"
      },
      "source": [
        "### callback, patience=25\n"
      ]
    },
    {
      "cell_type": "code",
      "metadata": {
        "id": "cmuoEuazN1hn",
        "colab_type": "code",
        "colab": {
          "base_uri": "https://localhost:8080/",
          "height": 1000
        },
        "outputId": "30029da2-9a67-4614-bceb-adf669ce428a"
      },
      "source": [
        "# 載入 Callbacks\n",
        "\n",
        "from keras.callbacks import EarlyStopping\n",
        "earlystop = EarlyStopping(monitor='val_acc',\n",
        "                          patience=25,\n",
        "                          verbose=1)\n",
        "\n",
        "model = build_mlp(x_train.shape[1:])\n",
        "opt = keras.optimizers.SGD(lr=LEARNING_RATE, momentum=MOMENTUM, nesterov=True)\n",
        "model.compile(optimizer=opt, loss='categorical_crossentropy', metrics=['accuracy'])\n",
        "model.fit(x_train, y_train,\n",
        "          epochs=EPOCHS,\n",
        "          batch_size=BATCH_SIZE,\n",
        "          validation_data=(x_test, y_test),\n",
        "          shuffle=True,\n",
        "          callbacks=[earlystop])"
      ],
      "execution_count": 28,
      "outputs": [
        {
          "output_type": "stream",
          "text": [
            "Train on 50000 samples, validate on 10000 samples\n",
            "Epoch 1/50\n",
            "50000/50000 [==============================] - 3s 62us/step - loss: 1.8492 - acc: 0.3496 - val_loss: 1.6311 - val_acc: 0.4237\n",
            "Epoch 2/50\n",
            "50000/50000 [==============================] - 2s 44us/step - loss: 1.5159 - acc: 0.4666 - val_loss: 1.5270 - val_acc: 0.4574\n",
            "Epoch 3/50\n",
            "50000/50000 [==============================] - 2s 45us/step - loss: 1.3910 - acc: 0.5133 - val_loss: 1.4725 - val_acc: 0.4789\n",
            "Epoch 4/50\n",
            "50000/50000 [==============================] - 2s 44us/step - loss: 1.3015 - acc: 0.5456 - val_loss: 1.4303 - val_acc: 0.4973\n",
            "Epoch 5/50\n",
            "50000/50000 [==============================] - 2s 45us/step - loss: 1.2264 - acc: 0.5735 - val_loss: 1.4153 - val_acc: 0.5050\n",
            "Epoch 6/50\n",
            "50000/50000 [==============================] - 2s 45us/step - loss: 1.1591 - acc: 0.5986 - val_loss: 1.3933 - val_acc: 0.5082\n",
            "Epoch 7/50\n",
            "50000/50000 [==============================] - 2s 44us/step - loss: 1.0973 - acc: 0.6202 - val_loss: 1.3911 - val_acc: 0.5123\n",
            "Epoch 8/50\n",
            "50000/50000 [==============================] - 2s 45us/step - loss: 1.0381 - acc: 0.6441 - val_loss: 1.3926 - val_acc: 0.5132\n",
            "Epoch 9/50\n",
            "50000/50000 [==============================] - 2s 44us/step - loss: 0.9827 - acc: 0.6652 - val_loss: 1.3919 - val_acc: 0.5172\n",
            "Epoch 10/50\n",
            "50000/50000 [==============================] - 2s 44us/step - loss: 0.9258 - acc: 0.6871 - val_loss: 1.3918 - val_acc: 0.5191\n",
            "Epoch 11/50\n",
            "50000/50000 [==============================] - 2s 44us/step - loss: 0.8742 - acc: 0.7037 - val_loss: 1.3902 - val_acc: 0.5188\n",
            "Epoch 12/50\n",
            "50000/50000 [==============================] - 2s 44us/step - loss: 0.8214 - acc: 0.7243 - val_loss: 1.4129 - val_acc: 0.5193\n",
            "Epoch 13/50\n",
            "50000/50000 [==============================] - 2s 46us/step - loss: 0.7712 - acc: 0.7435 - val_loss: 1.4284 - val_acc: 0.5220\n",
            "Epoch 14/50\n",
            "50000/50000 [==============================] - 2s 46us/step - loss: 0.7217 - acc: 0.7661 - val_loss: 1.4494 - val_acc: 0.5185\n",
            "Epoch 15/50\n",
            "50000/50000 [==============================] - 2s 46us/step - loss: 0.6702 - acc: 0.7843 - val_loss: 1.4688 - val_acc: 0.5188\n",
            "Epoch 16/50\n",
            "50000/50000 [==============================] - 2s 44us/step - loss: 0.6278 - acc: 0.7979 - val_loss: 1.4986 - val_acc: 0.5216\n",
            "Epoch 17/50\n",
            "50000/50000 [==============================] - 2s 46us/step - loss: 0.5799 - acc: 0.8165 - val_loss: 1.5130 - val_acc: 0.5234\n",
            "Epoch 18/50\n",
            "50000/50000 [==============================] - 2s 47us/step - loss: 0.5400 - acc: 0.8315 - val_loss: 1.5446 - val_acc: 0.5145\n",
            "Epoch 19/50\n",
            "50000/50000 [==============================] - 2s 48us/step - loss: 0.5015 - acc: 0.8447 - val_loss: 1.5704 - val_acc: 0.5201\n",
            "Epoch 20/50\n",
            "50000/50000 [==============================] - 2s 45us/step - loss: 0.4578 - acc: 0.8620 - val_loss: 1.6189 - val_acc: 0.5118\n",
            "Epoch 21/50\n",
            "50000/50000 [==============================] - 2s 45us/step - loss: 0.4181 - acc: 0.8756 - val_loss: 1.6401 - val_acc: 0.5153\n",
            "Epoch 22/50\n",
            "50000/50000 [==============================] - 2s 45us/step - loss: 0.3819 - acc: 0.8894 - val_loss: 1.6747 - val_acc: 0.5126\n",
            "Epoch 23/50\n",
            "50000/50000 [==============================] - 2s 44us/step - loss: 0.3538 - acc: 0.8987 - val_loss: 1.7178 - val_acc: 0.5148\n",
            "Epoch 24/50\n",
            "50000/50000 [==============================] - 2s 45us/step - loss: 0.3202 - acc: 0.9100 - val_loss: 1.7480 - val_acc: 0.5073\n",
            "Epoch 25/50\n",
            "50000/50000 [==============================] - 2s 45us/step - loss: 0.2905 - acc: 0.9214 - val_loss: 1.7906 - val_acc: 0.5088\n",
            "Epoch 26/50\n",
            "50000/50000 [==============================] - 2s 44us/step - loss: 0.2666 - acc: 0.9287 - val_loss: 1.8418 - val_acc: 0.5141\n",
            "Epoch 27/50\n",
            "50000/50000 [==============================] - 2s 44us/step - loss: 0.2414 - acc: 0.9384 - val_loss: 1.8858 - val_acc: 0.5093\n",
            "Epoch 28/50\n",
            "50000/50000 [==============================] - 2s 44us/step - loss: 0.2137 - acc: 0.9474 - val_loss: 1.9395 - val_acc: 0.5070\n",
            "Epoch 29/50\n",
            "50000/50000 [==============================] - 2s 44us/step - loss: 0.1949 - acc: 0.9526 - val_loss: 1.9543 - val_acc: 0.5089\n",
            "Epoch 30/50\n",
            "50000/50000 [==============================] - 2s 43us/step - loss: 0.1818 - acc: 0.9569 - val_loss: 1.9869 - val_acc: 0.5131\n",
            "Epoch 31/50\n",
            "50000/50000 [==============================] - 2s 43us/step - loss: 0.1692 - acc: 0.9593 - val_loss: 2.0320 - val_acc: 0.5068\n",
            "Epoch 32/50\n",
            "50000/50000 [==============================] - 2s 44us/step - loss: 0.1523 - acc: 0.9653 - val_loss: 2.0524 - val_acc: 0.5100\n",
            "Epoch 33/50\n",
            "50000/50000 [==============================] - 2s 44us/step - loss: 0.1316 - acc: 0.9723 - val_loss: 2.1162 - val_acc: 0.5072\n",
            "Epoch 34/50\n",
            "50000/50000 [==============================] - 2s 45us/step - loss: 0.1243 - acc: 0.9736 - val_loss: 2.1359 - val_acc: 0.5088\n",
            "Epoch 35/50\n",
            "50000/50000 [==============================] - 2s 44us/step - loss: 0.1134 - acc: 0.9770 - val_loss: 2.1787 - val_acc: 0.5093\n",
            "Epoch 36/50\n",
            "50000/50000 [==============================] - 2s 45us/step - loss: 0.1023 - acc: 0.9800 - val_loss: 2.1988 - val_acc: 0.5102\n",
            "Epoch 37/50\n",
            "50000/50000 [==============================] - 2s 46us/step - loss: 0.0919 - acc: 0.9830 - val_loss: 2.2410 - val_acc: 0.5097\n",
            "Epoch 38/50\n",
            "50000/50000 [==============================] - 2s 46us/step - loss: 0.0838 - acc: 0.9852 - val_loss: 2.2652 - val_acc: 0.5090\n",
            "Epoch 39/50\n",
            "50000/50000 [==============================] - 2s 44us/step - loss: 0.0786 - acc: 0.9860 - val_loss: 2.2934 - val_acc: 0.5062\n",
            "Epoch 40/50\n",
            "50000/50000 [==============================] - 2s 45us/step - loss: 0.0715 - acc: 0.9876 - val_loss: 2.3314 - val_acc: 0.5098\n",
            "Epoch 41/50\n",
            "50000/50000 [==============================] - 2s 44us/step - loss: 0.0716 - acc: 0.9878 - val_loss: 2.3535 - val_acc: 0.5124\n",
            "Epoch 42/50\n",
            "50000/50000 [==============================] - 2s 44us/step - loss: 0.0652 - acc: 0.9892 - val_loss: 2.3585 - val_acc: 0.5060\n",
            "Epoch 00042: early stopping\n"
          ],
          "name": "stdout"
        },
        {
          "output_type": "execute_result",
          "data": {
            "text/plain": [
              "<keras.callbacks.History at 0x7f79f334fe80>"
            ]
          },
          "metadata": {
            "tags": []
          },
          "execution_count": 28
        }
      ]
    },
    {
      "cell_type": "code",
      "metadata": {
        "id": "R3GruBLvPC1k",
        "colab_type": "code",
        "colab": {
          "base_uri": "https://localhost:8080/",
          "height": 513
        },
        "outputId": "e6ba3669-706c-4a41-b8bf-ccf4e7d1d684"
      },
      "source": [
        "import matplotlib.pyplot as plt\n",
        "%matplotlib inline\n",
        "\"\"\"Code Here\n",
        "將結果繪出\n",
        "\"\"\"\n",
        "plt.plot(model.history.history['loss'], label='train_loss')\n",
        "plt.plot(model.history.history['val_loss'], label='val_loss')\n",
        "plt.legend()\n",
        "plt.show()\n",
        "\n",
        "plt.plot(model.history.history['acc'], label='train_acc')\n",
        "plt.plot(model.history.history['val_acc'], label='val_acc')\n",
        "plt.legend()\n",
        "plt.show()"
      ],
      "execution_count": 29,
      "outputs": [
        {
          "output_type": "display_data",
          "data": {
            "image/png": "[encoded data removed]",
            "text/plain": [
              "<Figure size 432x288 with 1 Axes>"
            ]
          },
          "metadata": {
            "tags": []
          }
        },
        {
          "output_type": "display_data",
          "data": {
            "image/png": "[encoded data removed]",
            "text/plain": [
              "<Figure size 432x288 with 1 Axes>"
            ]
          },
          "metadata": {
            "tags": []
          }
        }
      ]
    },
    {
      "cell_type": "markdown",
      "metadata": {
        "colab_type": "text",
        "id": "bFgFYcIsPd4o"
      },
      "source": [
        "### Result\n",
        "***\n",
        "- 將callback中的patience參數調高，會導致EarlyStop的時機更晚。\n",
        "- patience:判斷要EarlyStop的等待次數(epochs)。若patience設定10次，模型的預測結果持續10個epoch沒有進步，則模型停止擬合。\n",
        "- monitor:依據什麼作為EarlyStop。ex:train_loss、val_loss、train_acc或val_acc等等"
      ]
    }
  ]
}
