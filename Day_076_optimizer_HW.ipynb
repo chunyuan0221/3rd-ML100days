{
  "nbformat": 4,
  "nbformat_minor": 0,
  "metadata": {
    "kernelspec": {
      "name": "python3",
      "display_name": "Python 3"
    },
    "language_info": {
      "codemirror_mode": {
        "name": "ipython",
        "version": 3
      },
      "file_extension": ".py",
      "mimetype": "text/x-python",
      "name": "python",
      "nbconvert_exporter": "python",
      "pygments_lexer": "ipython3",
      "version": "3.7.3"
    },
    "colab": {
      "name": "Day_076_optimizer_HW.ipynb",
      "provenance": [],
      "collapsed_sections": [],
      "include_colab_link": true
    },
    "accelerator": "GPU"
  },
  "cells": [
    {
      "cell_type": "markdown",
      "metadata": {
        "id": "view-in-github",
        "colab_type": "text"
      },
      "source": [
        "<a href=\"https://colab.research.google.com/github/chunyuan0221/3rd-ML100days/blob/master/Day_076_optimizer_HW.ipynb\" target=\"_parent\"><img src=\"https://colab.research.google.com/assets/colab-badge.svg\" alt=\"Open In Colab\"/></a>"
      ]
    },
    {
      "cell_type": "markdown",
      "metadata": {
        "id": "bYY34vCCooMz",
        "colab_type": "text"
      },
      "source": [
        "# 作業重點:\n",
        "\n",
        "(1)以, Adam, 為例, 調整 batch_size, epoch , 觀察accurancy, loss 的變化\n",
        "\n",
        "(2)以同一模型, 分別驗證 SGD, Adam, Rmsprop 的 accurancy"
      ]
    },
    {
      "cell_type": "markdown",
      "metadata": {
        "id": "TC_AEzH6ooM2",
        "colab_type": "text"
      },
      "source": [
        "### ANS:\n",
        "1. 以Adam為例，調整 batch_size, epoch, 觀察accurancy, loss 的變化  \n",
        "Ans:\n",
        "    - batch_size: Accurancy會隨著batch_size的變大而上升  \n",
        "    - epoch:\n",
        "        1. 如果單純只看train的結果Accuracy會隨著epoch變大而提升\n",
        "        2. 但如果是看驗證(validation)的結果並不會隨著epoch的變大而上升。ex:發生的情況像是model已經overfitting，訓練結果會一直提升，但驗證結果到了一定的值後卻不會提升。\n",
        "    \n",
        "    \n",
        "2. 不同optimizer對accurancy的影響  \n",
        "Ans:\n",
        "    - SGD:需要較多的epoch才會使驗證結果收斂。隨著epoch在訓練上的提升，採用SGD會使訓練結果和驗證結果\n",
        "    - Adam:相對SGD用少量的epoch驗證結果就已經收斂，但訓練結果仍不斷上升\n",
        "    - RMSprop:與Adam類似，同樣可以用較少的epoch將驗證結果收斂，但沒有Adam穩定\n",
        "***\n",
        "- SGD acc:\n",
        "\n",
        "![SGD](https://drive.google.com/uc?id=1d4SnHm08CU6qZX5zr6mPqqN0ZTSL9nu5)\n",
        "\n",
        "- Adam acc:\n",
        "\n",
        "![Adam](https://drive.google.com/uc?id=13XqtA21yu2FVw5gMdbF_t4nMIPlz4Fkq)\n",
        "\n",
        "- RMSprop acc:\n",
        "\n",
        "![RMSprop](https://drive.google.com/uc?id=1gPbxWr6TFwG8hbArUrCU0iF2U21wUDXf)"
      ]
    },
    {
      "cell_type": "code",
      "metadata": {
        "id": "QSg8CuMBpBzD",
        "colab_type": "code",
        "colab": {}
      },
      "source": [
        "from google.colab import files\n",
        "#file = files.upload()"
      ],
      "execution_count": 0,
      "outputs": []
    },
    {
      "cell_type": "markdown",
      "metadata": {
        "id": "7GCTynZIooM3",
        "colab_type": "text"
      },
      "source": [
        "# 作業目標:\n",
        "    \n",
        "    取得各種優化器的運算結果"
      ]
    },
    {
      "cell_type": "code",
      "metadata": {
        "id": "aGNyZhDOooM4",
        "colab_type": "code",
        "colab": {
          "base_uri": "https://localhost:8080/",
          "height": 81
        },
        "outputId": "95b2a9d1-6e4c-4cac-d482-c4e108cf42dd"
      },
      "source": [
        "from __future__ import print_function\n",
        "import keras\n",
        "from keras.datasets import cifar10\n",
        "from keras.preprocessing.image import ImageDataGenerator\n",
        "from keras.models import Sequential\n",
        "from keras.layers import Dense, Dropout, Activation, Flatten\n",
        "from keras.layers import Conv2D, MaxPooling2D\n",
        "import os\n",
        "from keras import optimizers\n",
        "\n",
        "import warnings\n",
        "warnings.filterwarnings(\"ignore\")\n"
      ],
      "execution_count": 2,
      "outputs": [
        {
          "output_type": "stream",
          "text": [
            "Using TensorFlow backend.\n"
          ],
          "name": "stderr"
        },
        {
          "output_type": "display_data",
          "data": {
            "text/html": [
              "<p style=\"color: red;\">\n",
              "The default version of TensorFlow in Colab will soon switch to TensorFlow 2.x.<br>\n",
              "We recommend you <a href=\"https://www.tensorflow.org/guide/migrate\" target=\"_blank\">upgrade</a> now \n",
              "or ensure your notebook will continue to use TensorFlow 1.x via the <code>%tensorflow_version 1.x</code> magic:\n",
              "<a href=\"https://colab.research.google.com/notebooks/tensorflow_version.ipynb\" target=\"_blank\">more info</a>.</p>\n"
            ],
            "text/plain": [
              "<IPython.core.display.HTML object>"
            ]
          },
          "metadata": {
            "tags": []
          }
        }
      ]
    },
    {
      "cell_type": "code",
      "metadata": {
        "id": "uYdsmp9pooM9",
        "colab_type": "code",
        "colab": {}
      },
      "source": [
        "#Blas GEMM launch failed , 避免動態分配GPU / CPU, 出現問題\n",
        "import tensorflow as tf\n",
        "gpu_options = tf.GPUOptions(per_process_gpu_memory_fraction=0.333)\n",
        "sess = tf.Session(config=tf.ConfigProto(gpu_options=gpu_options))"
      ],
      "execution_count": 0,
      "outputs": []
    },
    {
      "cell_type": "code",
      "metadata": {
        "id": "4y-F_UCSooM_",
        "colab_type": "code",
        "colab": {}
      },
      "source": [
        "# 宣告並設定 : \n",
        "# batch_size：對總的樣本數進行分組，每組包含的樣本數量\n",
        "# epochs ：訓練次數\n",
        "\n",
        "batch_size = 100\n",
        "num_classes = 10\n",
        "epochs = 20\n",
        "data_augmentation = True\n",
        "num_predictions = 20\n",
        "save_dir = os.path.join(os.getcwd(), 'saved_models')\n",
        "model_name = 'keras_cifar10_trained_model.h5'"
      ],
      "execution_count": 0,
      "outputs": []
    },
    {
      "cell_type": "code",
      "metadata": {
        "id": "4DCwcSqtooNC",
        "colab_type": "code",
        "colab": {}
      },
      "source": [
        "# load the cifar10 dataset\n",
        "def load_cifar():\n",
        "    (x_train, y_train), (x_test, y_test) = cifar10.load_data()\n",
        "    print(f'Train shape: X={x_train.shape}, Y={y_train.shape}')\n",
        "    print(f'Test shape: X={x_test.shape}, Y={y_test.shape}')\n",
        "    y_train = keras.utils.to_categorical(y_train)\n",
        "    y_test = keras.utils.to_categorical(y_test)\n",
        "    print('After OneHotEncoding:')\n",
        "    print(f'Train shape: X={x_train.shape}, Y={y_train.shape}')\n",
        "    print(f'Test shape: X={x_test.shape}, Y={y_test.shape}')\n",
        "    return x_train, y_train, x_test, y_test"
      ],
      "execution_count": 0,
      "outputs": []
    },
    {
      "cell_type": "code",
      "metadata": {
        "id": "0e_KvKzIooNF",
        "colab_type": "code",
        "colab": {}
      },
      "source": [
        "# scale pixels\n",
        "def pixel_scale(x_train, x_test):\n",
        "    x_train = x_train.astype('float32')\n",
        "    x_test = x_test.astype('float32')\n",
        "    train_norm = x_train/255.0\n",
        "    test_norm = x_test/255.0\n",
        "    return train_norm, test_norm"
      ],
      "execution_count": 0,
      "outputs": []
    },
    {
      "cell_type": "code",
      "metadata": {
        "id": "1N0BPlpgooNI",
        "colab_type": "code",
        "colab": {}
      },
      "source": [
        "# create model function\n",
        "def create_model(opt):\n",
        "    model = Sequential()\n",
        "    model.add(Conv2D(32, (3, 3), activation='relu', padding='same', input_shape=(32, 32, 3)))\n",
        "    model.add(Conv2D(32, (3, 3),activation='relu', padding='same'))\n",
        "    model.add(MaxPooling2D((2, 2)))\n",
        "    model.add(Dropout(0.2))\n",
        "    model.add(Conv2D(64, (3, 3), activation='relu', padding='same', input_shape=(32, 32, 3)))\n",
        "    model.add(Conv2D(64, (3, 3),activation='relu', padding='same'))\n",
        "    model.add(MaxPooling2D((2, 2)))\n",
        "    model.add(Dropout(0.2))\n",
        "    model.add(Conv2D(128, (3, 3), activation='relu', padding='same', input_shape=(32, 32, 3)))\n",
        "    model.add(Conv2D(128, (3, 3),activation='relu', padding='same'))\n",
        "    model.add(MaxPooling2D((2, 2)))\n",
        "    model.add(Dropout(0.2))\n",
        "    model.add(Flatten())\n",
        "    model.add(Dense(512, activation='relu'))\n",
        "    model.add(Dense(256, activation='relu'))\n",
        "    model.add(Dropout(0.5))\n",
        "    model.add(Dense(10, activation='softmax'))\n",
        "\n",
        "    #compile\n",
        "    model.compile(optimizer=opt, loss='categorical_crossentropy', metrics=['accuracy'])\n",
        "    return model"
      ],
      "execution_count": 0,
      "outputs": []
    },
    {
      "cell_type": "markdown",
      "metadata": {
        "id": "f5X_S2YSt7Iz",
        "colab_type": "text"
      },
      "source": [
        "#### load data and scale the data\n",
        "- scale_pixel: 將0~255的色彩數值除以255，讓數值標準化到0、1之間，模型在收斂上會有更好的成果"
      ]
    },
    {
      "cell_type": "code",
      "metadata": {
        "id": "g--CIIiEooNQ",
        "colab_type": "code",
        "colab": {
          "base_uri": "https://localhost:8080/",
          "height": 104
        },
        "outputId": "a6d7af74-fc8b-4d17-b507-567861dc910f"
      },
      "source": [
        "x_train, y_train, x_test, y_test = load_cifar()\n",
        "x_train, x_test = pixel_scale(x_train, x_test)"
      ],
      "execution_count": 8,
      "outputs": [
        {
          "output_type": "stream",
          "text": [
            "Train shape: X=(50000, 32, 32, 3), Y=(50000, 1)\n",
            "Test shape: X=(10000, 32, 32, 3), Y=(10000, 1)\n",
            "After OneHotEncoding:\n",
            "Train shape: X=(50000, 32, 32, 3), Y=(50000, 10)\n",
            "Test shape: X=(10000, 32, 32, 3), Y=(10000, 10)\n"
          ],
          "name": "stdout"
        }
      ]
    },
    {
      "cell_type": "markdown",
      "metadata": {
        "id": "M_9bPu0BooNS",
        "colab_type": "text"
      },
      "source": [
        "### Use different optimizer in model"
      ]
    },
    {
      "cell_type": "code",
      "metadata": {
        "id": "YbmPhJ29ooNU",
        "colab_type": "code",
        "colab": {
          "base_uri": "https://localhost:8080/",
          "height": 332
        },
        "outputId": "a9e16136-407a-4d18-c9e3-801f653864df"
      },
      "source": [
        "'''\n",
        " SGD(隨機梯度下降) - Arguments\n",
        "lr: float >= 0. Learning rate.\n",
        "momentum: float >= 0. Parameter that accelerates SGD in the relevant direction and dampens oscillations.\n",
        "decay: float >= 0. Learning rate decay over each update.\n",
        "nesterov: boolean. Whether to apply Nesterov momentum.\n",
        "\n",
        "RMSprop- Arguments\n",
        "lr: float >= 0. Learning rate.\n",
        "rho: float >= 0.\n",
        "epsilon: float >= 0. Fuzz factor. If None, defaults to K.epsilon().\n",
        "decay: float >= 0. Learning rate decay over each update.\n",
        "\n",
        "Example:\n",
        "opt = optimizers.SGD(lr=0.01, decay=1e-6, momentum=0.9, nesterov=True)\n",
        "'''\n",
        "\n",
        "#opt = optimizers.SGD(lr=0.01, decay=1e-6, momentum=0.9, nesterov=True)\n",
        "opt = optimizers.Adam()\n",
        "#opt = optimizers.RMSprop()\n",
        "model = create_model(opt)"
      ],
      "execution_count": 9,
      "outputs": [
        {
          "output_type": "stream",
          "text": [
            "WARNING:tensorflow:From /usr/local/lib/python3.6/dist-packages/keras/backend/tensorflow_backend.py:66: The name tf.get_default_graph is deprecated. Please use tf.compat.v1.get_default_graph instead.\n",
            "\n",
            "WARNING:tensorflow:From /usr/local/lib/python3.6/dist-packages/keras/backend/tensorflow_backend.py:541: The name tf.placeholder is deprecated. Please use tf.compat.v1.placeholder instead.\n",
            "\n",
            "WARNING:tensorflow:From /usr/local/lib/python3.6/dist-packages/keras/backend/tensorflow_backend.py:4432: The name tf.random_uniform is deprecated. Please use tf.random.uniform instead.\n",
            "\n",
            "WARNING:tensorflow:From /usr/local/lib/python3.6/dist-packages/keras/backend/tensorflow_backend.py:4267: The name tf.nn.max_pool is deprecated. Please use tf.nn.max_pool2d instead.\n",
            "\n",
            "WARNING:tensorflow:From /usr/local/lib/python3.6/dist-packages/keras/backend/tensorflow_backend.py:148: The name tf.placeholder_with_default is deprecated. Please use tf.compat.v1.placeholder_with_default instead.\n",
            "\n",
            "WARNING:tensorflow:From /usr/local/lib/python3.6/dist-packages/keras/backend/tensorflow_backend.py:3733: calling dropout (from tensorflow.python.ops.nn_ops) with keep_prob is deprecated and will be removed in a future version.\n",
            "Instructions for updating:\n",
            "Please use `rate` instead of `keep_prob`. Rate should be set to `rate = 1 - keep_prob`.\n",
            "WARNING:tensorflow:From /usr/local/lib/python3.6/dist-packages/keras/optimizers.py:793: The name tf.train.Optimizer is deprecated. Please use tf.compat.v1.train.Optimizer instead.\n",
            "\n",
            "WARNING:tensorflow:From /usr/local/lib/python3.6/dist-packages/keras/backend/tensorflow_backend.py:3576: The name tf.log is deprecated. Please use tf.math.log instead.\n",
            "\n"
          ],
          "name": "stdout"
        }
      ]
    },
    {
      "cell_type": "code",
      "metadata": {
        "scrolled": true,
        "id": "ZiFoiqeTooNK",
        "colab_type": "code",
        "colab": {
          "base_uri": "https://localhost:8080/",
          "height": 35
        },
        "outputId": "e4042f16-c7c8-496e-a028-8585f71782a2"
      },
      "source": [
        "# 模型建立完成後，統計參數總量\n",
        "print(\"Total Parameters：%d\" % model.count_params())"
      ],
      "execution_count": 10,
      "outputs": [
        {
          "output_type": "stream",
          "text": [
            "Total Parameters：1469994\n"
          ],
          "name": "stdout"
        }
      ]
    },
    {
      "cell_type": "code",
      "metadata": {
        "collapsed": true,
        "id": "HA2DbnvrooNN",
        "colab_type": "code",
        "colab": {
          "base_uri": "https://localhost:8080/",
          "height": 745
        },
        "outputId": "997bf92d-c5ac-4962-bfef-55fd32fbc6b8"
      },
      "source": [
        "# 輸出模型摘要資訊\n",
        "model.summary()"
      ],
      "execution_count": 11,
      "outputs": [
        {
          "output_type": "stream",
          "text": [
            "Model: \"sequential_1\"\n",
            "_________________________________________________________________\n",
            "Layer (type)                 Output Shape              Param #   \n",
            "=================================================================\n",
            "conv2d_1 (Conv2D)            (None, 32, 32, 32)        896       \n",
            "_________________________________________________________________\n",
            "conv2d_2 (Conv2D)            (None, 32, 32, 32)        9248      \n",
            "_________________________________________________________________\n",
            "max_pooling2d_1 (MaxPooling2 (None, 16, 16, 32)        0         \n",
            "_________________________________________________________________\n",
            "dropout_1 (Dropout)          (None, 16, 16, 32)        0         \n",
            "_________________________________________________________________\n",
            "conv2d_3 (Conv2D)            (None, 16, 16, 64)        18496     \n",
            "_________________________________________________________________\n",
            "conv2d_4 (Conv2D)            (None, 16, 16, 64)        36928     \n",
            "_________________________________________________________________\n",
            "max_pooling2d_2 (MaxPooling2 (None, 8, 8, 64)          0         \n",
            "_________________________________________________________________\n",
            "dropout_2 (Dropout)          (None, 8, 8, 64)          0         \n",
            "_________________________________________________________________\n",
            "conv2d_5 (Conv2D)            (None, 8, 8, 128)         73856     \n",
            "_________________________________________________________________\n",
            "conv2d_6 (Conv2D)            (None, 8, 8, 128)         147584    \n",
            "_________________________________________________________________\n",
            "max_pooling2d_3 (MaxPooling2 (None, 4, 4, 128)         0         \n",
            "_________________________________________________________________\n",
            "dropout_3 (Dropout)          (None, 4, 4, 128)         0         \n",
            "_________________________________________________________________\n",
            "flatten_1 (Flatten)          (None, 2048)              0         \n",
            "_________________________________________________________________\n",
            "dense_1 (Dense)              (None, 512)               1049088   \n",
            "_________________________________________________________________\n",
            "dense_2 (Dense)              (None, 256)               131328    \n",
            "_________________________________________________________________\n",
            "dropout_4 (Dropout)          (None, 256)               0         \n",
            "_________________________________________________________________\n",
            "dense_3 (Dense)              (None, 10)                2570      \n",
            "=================================================================\n",
            "Total params: 1,469,994\n",
            "Trainable params: 1,469,994\n",
            "Non-trainable params: 0\n",
            "_________________________________________________________________\n"
          ],
          "name": "stdout"
        }
      ]
    },
    {
      "cell_type": "code",
      "metadata": {
        "id": "U3e1eiCCooNW",
        "colab_type": "code",
        "colab": {
          "base_uri": "https://localhost:8080/",
          "height": 1000
        },
        "outputId": "507b0b35-e6d0-4877-941a-2dd679346f6a"
      },
      "source": [
        "# 是否要做資料處理\n",
        "if not data_augmentation:\n",
        "    print('Not using data augmentation.')\n",
        "    history=model.fit(x_train, y_train,\n",
        "              batch_size=batch_size,\n",
        "              epochs=epochs,\n",
        "              validation_data=(x_test, y_test),\n",
        "              shuffle=True)\n",
        "else:\n",
        "    print('Using real-time data augmentation.')\n",
        "    print('')\n",
        "        \n",
        "    # This will do preprocessing and realtime data augmentation:\n",
        "    datagen = ImageDataGenerator(\n",
        "        featurewise_center=False,  # set input mean to 0 over the dataset\n",
        "        samplewise_center=False,  # set each sample mean to 0\n",
        "        featurewise_std_normalization=False,  # divide inputs by std of the dataset\n",
        "        samplewise_std_normalization=False,  # divide each input by its std\n",
        "        zca_whitening=False,  # apply ZCA whitening\n",
        "        zca_epsilon=1e-06,  # epsilon for ZCA whitening\n",
        "        rotation_range=0,  # randomly rotate images in the range (degrees, 0 to 180)\n",
        "        # randomly shift images horizontally (fraction of total width)\n",
        "        width_shift_range=0.1,\n",
        "        # randomly shift images vertically (fraction of total height)\n",
        "        height_shift_range=0.1,\n",
        "        shear_range=0.,  # set range for random shear\n",
        "        zoom_range=0.,  # set range for random zoom\n",
        "        channel_shift_range=0.,  # set range for random channel shifts\n",
        "        # set mode for filling points outside the input boundaries\n",
        "        fill_mode='nearest',\n",
        "        cval=0.,  # value used for fill_mode = \"constant\"\n",
        "        horizontal_flip=True,  # randomly flip images\n",
        "        vertical_flip=False,  # randomly flip images\n",
        "        # set rescaling factor (applied before any other transformation)\n",
        "        rescale=None,\n",
        "        # set function that will be applied on each input\n",
        "        preprocessing_function=None,\n",
        "        # image data format, either \"channels_first\" or \"channels_last\"\n",
        "        data_format=None,\n",
        "        # fraction of images reserved for validation (strictly between 0 and 1)\n",
        "        validation_split=0.0)\n",
        "\n",
        "    # Compute quantities required for feature-wise normalization\n",
        "    # (std, mean, and principal components if ZCA whitening is applied).\n",
        "    datagen.fit(x_train)\n",
        "    history=model.fit(x_train, y_train,\n",
        "              batch_size=batch_size,\n",
        "              epochs=epochs,\n",
        "              validation_data=(x_test, y_test),\n",
        "              shuffle=True)   \n",
        "\n",
        "#   第四步：訓練\n",
        "#   .fit的一些參數\n",
        "#   batch_size：對總的樣本數進行分組，每組包含的樣本數量\n",
        "#   epochs ：訓練次數\n",
        "#   shuffle：是否把數據隨機打亂之後再進行訓練\n",
        "#   validation_split：拿出百分之多少用來做交叉驗證\n",
        "#   verbose：屏顯模式 - 0：不輸出, 1：輸出進度, 2：輸出每次的訓練結果   "
      ],
      "execution_count": 12,
      "outputs": [
        {
          "output_type": "stream",
          "text": [
            "Using real-time data augmentation.\n",
            "\n",
            "WARNING:tensorflow:From /usr/local/lib/python3.6/dist-packages/tensorflow_core/python/ops/math_grad.py:1424: where (from tensorflow.python.ops.array_ops) is deprecated and will be removed in a future version.\n",
            "Instructions for updating:\n",
            "Use tf.where in 2.0, which has the same broadcast rule as np.where\n",
            "WARNING:tensorflow:From /usr/local/lib/python3.6/dist-packages/keras/backend/tensorflow_backend.py:1033: The name tf.assign_add is deprecated. Please use tf.compat.v1.assign_add instead.\n",
            "\n",
            "WARNING:tensorflow:From /usr/local/lib/python3.6/dist-packages/keras/backend/tensorflow_backend.py:1020: The name tf.assign is deprecated. Please use tf.compat.v1.assign instead.\n",
            "\n",
            "Train on 50000 samples, validate on 10000 samples\n",
            "Epoch 1/20\n",
            "WARNING:tensorflow:From /usr/local/lib/python3.6/dist-packages/keras/backend/tensorflow_backend.py:190: The name tf.get_default_session is deprecated. Please use tf.compat.v1.get_default_session instead.\n",
            "\n",
            "WARNING:tensorflow:From /usr/local/lib/python3.6/dist-packages/keras/backend/tensorflow_backend.py:207: The name tf.global_variables is deprecated. Please use tf.compat.v1.global_variables instead.\n",
            "\n",
            "WARNING:tensorflow:From /usr/local/lib/python3.6/dist-packages/keras/backend/tensorflow_backend.py:216: The name tf.is_variable_initialized is deprecated. Please use tf.compat.v1.is_variable_initialized instead.\n",
            "\n",
            "WARNING:tensorflow:From /usr/local/lib/python3.6/dist-packages/keras/backend/tensorflow_backend.py:223: The name tf.variables_initializer is deprecated. Please use tf.compat.v1.variables_initializer instead.\n",
            "\n",
            "50000/50000 [==============================] - 9s 189us/step - loss: 1.8712 - acc: 0.2895 - val_loss: 1.4026 - val_acc: 0.4811\n",
            "Epoch 2/20\n",
            "50000/50000 [==============================] - 7s 147us/step - loss: 1.3368 - acc: 0.5150 - val_loss: 1.1241 - val_acc: 0.5893\n",
            "Epoch 3/20\n",
            "50000/50000 [==============================] - 7s 142us/step - loss: 1.1096 - acc: 0.6064 - val_loss: 1.0113 - val_acc: 0.6491\n",
            "Epoch 4/20\n",
            "50000/50000 [==============================] - 7s 145us/step - loss: 0.9678 - acc: 0.6627 - val_loss: 0.8980 - val_acc: 0.6819\n",
            "Epoch 5/20\n",
            "50000/50000 [==============================] - 7s 141us/step - loss: 0.8702 - acc: 0.6962 - val_loss: 0.8116 - val_acc: 0.7155\n",
            "Epoch 6/20\n",
            "50000/50000 [==============================] - 7s 141us/step - loss: 0.7947 - acc: 0.7236 - val_loss: 0.7471 - val_acc: 0.7429\n",
            "Epoch 7/20\n",
            "50000/50000 [==============================] - 7s 145us/step - loss: 0.7373 - acc: 0.7457 - val_loss: 0.6959 - val_acc: 0.7585\n",
            "Epoch 8/20\n",
            "50000/50000 [==============================] - 7s 138us/step - loss: 0.6792 - acc: 0.7647 - val_loss: 0.6934 - val_acc: 0.7600\n",
            "Epoch 9/20\n",
            "50000/50000 [==============================] - 7s 140us/step - loss: 0.6400 - acc: 0.7781 - val_loss: 0.6899 - val_acc: 0.7642\n",
            "Epoch 10/20\n",
            "50000/50000 [==============================] - 7s 145us/step - loss: 0.6027 - acc: 0.7922 - val_loss: 0.6797 - val_acc: 0.7710\n",
            "Epoch 11/20\n",
            "50000/50000 [==============================] - 7s 141us/step - loss: 0.5701 - acc: 0.8030 - val_loss: 0.6433 - val_acc: 0.7898\n",
            "Epoch 12/20\n",
            "50000/50000 [==============================] - 7s 142us/step - loss: 0.5433 - acc: 0.8104 - val_loss: 0.6083 - val_acc: 0.7990\n",
            "Epoch 13/20\n",
            "50000/50000 [==============================] - 7s 143us/step - loss: 0.5075 - acc: 0.8197 - val_loss: 0.6273 - val_acc: 0.7903\n",
            "Epoch 14/20\n",
            "50000/50000 [==============================] - 7s 142us/step - loss: 0.4869 - acc: 0.8306 - val_loss: 0.6230 - val_acc: 0.8014\n",
            "Epoch 15/20\n",
            "50000/50000 [==============================] - 7s 143us/step - loss: 0.4653 - acc: 0.8390 - val_loss: 0.6304 - val_acc: 0.7959\n",
            "Epoch 16/20\n",
            "50000/50000 [==============================] - 7s 140us/step - loss: 0.4440 - acc: 0.8440 - val_loss: 0.6461 - val_acc: 0.7963\n",
            "Epoch 17/20\n",
            "50000/50000 [==============================] - 7s 135us/step - loss: 0.4288 - acc: 0.8489 - val_loss: 0.6417 - val_acc: 0.8008\n",
            "Epoch 18/20\n",
            "50000/50000 [==============================] - 7s 143us/step - loss: 0.4108 - acc: 0.8563 - val_loss: 0.6474 - val_acc: 0.8018\n",
            "Epoch 19/20\n",
            "50000/50000 [==============================] - 7s 142us/step - loss: 0.3913 - acc: 0.8638 - val_loss: 0.6739 - val_acc: 0.7969\n",
            "Epoch 20/20\n",
            "50000/50000 [==============================] - 7s 140us/step - loss: 0.3845 - acc: 0.8653 - val_loss: 0.6627 - val_acc: 0.7933\n"
          ],
          "name": "stdout"
        }
      ]
    },
    {
      "cell_type": "code",
      "metadata": {
        "scrolled": true,
        "id": "EOg4jqwrooNZ",
        "colab_type": "code",
        "colab": {
          "base_uri": "https://localhost:8080/",
          "height": 87
        },
        "outputId": "29985990-e1c9-44e1-efad-3b3c1ab9bcbe"
      },
      "source": [
        "# Save model and weights\n",
        "if not os.path.isdir(save_dir):\n",
        "    os.makedirs(save_dir)\n",
        "model_path = os.path.join(save_dir, model_name)\n",
        "model.save(model_path)\n",
        "print('Saved trained model at %s ' % model_path)\n",
        "\n",
        "# Score trained model.\n",
        "scores = model.evaluate(x_test, y_test, verbose=1)\n",
        "print('Test loss:', scores[0])\n",
        "print('Test accuracy:', scores[1])"
      ],
      "execution_count": 13,
      "outputs": [
        {
          "output_type": "stream",
          "text": [
            "Saved trained model at /content/saved_models/keras_cifar10_trained_model.h5 \n",
            "10000/10000 [==============================] - 1s 109us/step\n",
            "Test loss: 0.6627277936697006\n",
            "Test accuracy: 0.7933\n"
          ],
          "name": "stdout"
        }
      ]
    },
    {
      "cell_type": "code",
      "metadata": {
        "scrolled": true,
        "id": "U-r5JoKvooNc",
        "colab_type": "code",
        "colab": {
          "base_uri": "https://localhost:8080/",
          "height": 52
        },
        "outputId": "12264ae3-91d4-441d-c537-0eb12caed679"
      },
      "source": [
        "# 第六步：輸出\n",
        "import numpy \n",
        "\n",
        "print (\"test set\")\n",
        "scores = model.evaluate(x_test,y_test,batch_size=200,verbose= 0)\n",
        "print (f\"The test loss is {scores}\")\n",
        "\n",
        "result = model.predict(x_test,batch_size=200,verbose= 0)\n",
        "\n",
        "result_max = numpy.argmax(result, axis = 1 )\n",
        "test_max = numpy.argmax(y_test, axis = 1 )\n",
        "\n",
        "result_bool = numpy.equal(result_max, test_max)\n",
        "true_num = numpy.sum(result_bool)\n"
      ],
      "execution_count": 14,
      "outputs": [
        {
          "output_type": "stream",
          "text": [
            "test set\n",
            "The test loss is [0.662727774977684, 0.7932999956607819]\n"
          ],
          "name": "stdout"
        }
      ]
    },
    {
      "cell_type": "code",
      "metadata": {
        "id": "3EttTIoKooNf",
        "colab_type": "code",
        "colab": {
          "base_uri": "https://localhost:8080/",
          "height": 573
        },
        "outputId": "f7a84143-1ce0-432f-9391-457189005150"
      },
      "source": [
        "import matplotlib.pyplot as plt\n",
        "%matplotlib inline\n",
        "\n",
        "# Plot training & validation accuracy values\n",
        "plt.plot(history.history['acc'])\n",
        "plt.plot(history.history['val_acc'])\n",
        "plt.title('Model accuracy')\n",
        "plt.ylabel('Accuracy')\n",
        "plt.xlabel('Epoch')\n",
        "plt.legend(['Train', 'Valiidation'], loc='upper left')\n",
        "plt.show()\n",
        "\n",
        "# Plot training & validation loss values\n",
        "plt.plot(history.history['loss'])\n",
        "plt.plot(history.history['val_loss'])\n",
        "plt.title('Model loss')\n",
        "plt.ylabel('Loss')\n",
        "plt.xlabel('Epoch')\n",
        "plt.legend(['Train', 'Valiidation'], loc='upper left')\n",
        "plt.show()"
      ],
      "execution_count": 15,
      "outputs": [
        {
          "output_type": "display_data",
          "data": {
            "image/png": "[encoded data removed]",
            "text/plain": [
              "<Figure size 432x288 with 1 Axes>"
            ]
          },
          "metadata": {
            "tags": []
          }
        },
        {
          "output_type": "display_data",
          "data": {
            "image/png": "[encoded data removed]",
            "text/plain": [
              "<Figure size 432x288 with 1 Axes>"
            ]
          },
          "metadata": {
            "tags": []
          }
        }
      ]
    }
  ]
}